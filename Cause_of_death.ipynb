{
 "cells": [
  {
   "cell_type": "code",
   "execution_count": 85,
   "metadata": {},
   "outputs": [],
   "source": [
    "import math\n",
    "\n",
    "import pandas as pd\n",
    "import numpy as np\n",
    "import matplotlib.pyplot as plt\n",
    "from scipy import stats\n",
    "from statsmodels.stats.multicomp import pairwise_tukeyhsd\n",
    "import seaborn as sns \n",
    "sns.set()"
   ]
  },
  {
   "cell_type": "markdown",
   "metadata": {},
   "source": [
    "Query Criteria:\\\n",
    "Title:\tUS Cause of death 2008 and 2018 in medical facilities\\\n",
    "Census Regions:\tUS Northeast, Midwest, South, West\\\n",
    "Place of Death:\n",
    "                \n",
    "                Medical Facility - Inpatient\n",
    "                Medical Facility - Outpatient or ER \n",
    "                Medical Facility - Dead on Arrival \n",
    "                Medical Facility - Status unknown\n",
    "\n",
    "Year/Month:\t2008 and 2018\\\n",
    "Group By:\tRace; Cause of death; Ten-Year Age Groups; Gender\\\n",
    "Calculate Rates Per:\t100,000\\\n",
    "Basic search criteria example:\\\n",
    "https://wonder.cdc.gov/controller/saved/D76/D82F748\n"
   ]
  },
  {
   "cell_type": "markdown",
   "metadata": {},
   "source": [
    "Centers for Disease Control and Prevention, National Center for Health Statistics. Underlying Cause of Death 1999-2018 on CDC WONDER Online Database, released in 2020. Data are from the Multiple Cause of Death Files, 1999-2018, as compiled from data provided by the 57 vital statistics jurisdictions through the Vital Statistics Cooperative Program. Accessed at http://wonder.cdc.gov/ucd-icd10.html on May 1, 2020 5:00:25 PM\n"
   ]
  },
  {
   "cell_type": "code",
   "execution_count": 86,
   "metadata": {},
   "outputs": [],
   "source": [
    "# Local uploads will be converted to one combined file located\n",
    "# in a remote repository after adding year and region columns to each.\n",
    "\n",
    "dfne2008 = pd.read_csv('https://raw.githubusercontent.com/robholmstrom/Sams_github/master/Capstone_1/COD_csv_files/2008_Cause_of_death_Northeast.csv')\n",
    "dfne2018 = pd.read_csv('https://raw.githubusercontent.com/robholmstrom/Sams_github/master/Capstone_1/COD_csv_files/2018_Cause_of_death_Northeast.csv')\n",
    "\n",
    "dfmw2008 = pd.read_csv('https://raw.githubusercontent.com/robholmstrom/Sams_github/master/Capstone_1/COD_csv_files/2008_Cause_of_death_midwest.csv')\n",
    "dfmw2018 = pd.read_csv('/Users/robholmstrom/Gitrepos/Sams_github/Capstone_1/COD_csv_files/2018_Cause_of_death_Midwest.csv')\n",
    "\n",
    "dfs2008 = pd.read_csv('/Users/robholmstrom/Gitrepos/Sams_github/Capstone_1/COD_csv_files/2008_Cause_of_death_South.csv')\n",
    "dfs2018 = pd.read_csv('/Users/robholmstrom/Gitrepos/Sams_github/Capstone_1/COD_csv_files/2018_Cause_of_death_South.csv')\n",
    "\n",
    "dfw2008 = pd.read_csv('/Users/robholmstrom/Gitrepos/Sams_github/Capstone_1/COD_csv_files/2008_Cause_of_death_West.csv')\n",
    "dfw2018 = pd.read_csv('/Users/robholmstrom/Gitrepos/Sams_github/Capstone_1/COD_csv_files/2018_Cause_of_death_West.csv')\n",
    "\n",
    "\n"
   ]
  },
  {
   "cell_type": "code",
   "execution_count": 65,
   "metadata": {},
   "outputs": [],
   "source": [
    "# Add US region column and year to all eight datasets before combining into one dataset.\n",
    "\n",
    "dfne2008['year'] = '2008'; dfne2008['US_region'] = 'northeast'\n",
    "dfne2018['year'] = '2018'; dfne2018['US_region'] = 'northeast'\n",
    "\n",
    "dfmw2008['year'] = '2008'; dfmw2008['US_region'] = 'midwest'\n",
    "dfmw2018['year'] = '2018'; dfmw2018['US_region'] = 'midwest'\n",
    "\n",
    "dfs2008['year'] = '2008'; dfs2008['US_region'] = 'south'\n",
    "dfs2018['year'] = '2018'; dfs2018['US_region'] = 'south'\n",
    "\n",
    "dfw2008['year'] = '2008'; dfw2008['US_region'] = 'west'\n",
    "dfw2018['year'] = '2018'; dfw2018['US_region'] = 'west'\n"
   ]
  },
  {
   "cell_type": "code",
   "execution_count": 87,
   "metadata": {},
   "outputs": [
    {
     "name": "stdout",
     "output_type": "stream",
     "text": [
      "<class 'pandas.core.frame.DataFrame'>\n",
      "Int64Index: 3894 entries, 0 to 96\n",
      "Data columns (total 7 columns):\n",
      " #   Column                    Non-Null Count  Dtype  \n",
      "---  ------                    --------------  -----  \n",
      " 0   Race                      3489 non-null   object \n",
      " 1   Cause of death            3489 non-null   object \n",
      " 2   Cause of death Code       3489 non-null   object \n",
      " 3   Ten-Year Age Groups Code  3489 non-null   object \n",
      " 4   Gender                    3489 non-null   object \n",
      " 5   Gender Code               3489 non-null   object \n",
      " 6   Deaths                    3489 non-null   float64\n",
      "dtypes: float64(1), object(6)\n",
      "memory usage: 243.4+ KB\n"
     ]
    }
   ],
   "source": [
    "# Stack tables\n",
    "dfcod = pd.concat([dfne2008, dfne2018, dfmw2008, dfmw2018, dfs2008, dfs2018, dfw2008, dfw2018])\n",
    "\n",
    "# Get rid of unnecessary columns that were adding null values or just noise\n",
    "\n",
    "dfcod.drop(['Notes', 'Population', 'Race Code', 'Ten-Year Age Groups', 'Crude Rate'], axis = 1, inplace = True)\n",
    "dfcod.info()\n",
    "\n"
   ]
  },
  {
   "cell_type": "code",
   "execution_count": 81,
   "metadata": {},
   "outputs": [
    {
     "data": {
      "text/html": [
       "<div>\n",
       "<style scoped>\n",
       "    .dataframe tbody tr th:only-of-type {\n",
       "        vertical-align: middle;\n",
       "    }\n",
       "\n",
       "    .dataframe tbody tr th {\n",
       "        vertical-align: top;\n",
       "    }\n",
       "\n",
       "    .dataframe thead th {\n",
       "        text-align: right;\n",
       "    }\n",
       "</style>\n",
       "<table border=\"1\" class=\"dataframe\">\n",
       "  <thead>\n",
       "    <tr style=\"text-align: right;\">\n",
       "      <th></th>\n",
       "      <th>Race</th>\n",
       "      <th>Cause of death</th>\n",
       "      <th>Cause of death Code</th>\n",
       "      <th>Ten-Year Age Groups Code</th>\n",
       "      <th>Gender</th>\n",
       "      <th>Gender Code</th>\n",
       "      <th>Deaths</th>\n",
       "      <th>year</th>\n",
       "      <th>US_region</th>\n",
       "    </tr>\n",
       "  </thead>\n",
       "  <tbody>\n",
       "    <tr>\n",
       "      <th>0</th>\n",
       "      <td>Asian or Pacific Islander</td>\n",
       "      <td>Bronchus or lung, unspecified - Malignant neop...</td>\n",
       "      <td>C34.9</td>\n",
       "      <td>65-74</td>\n",
       "      <td>Male</td>\n",
       "      <td>M</td>\n",
       "      <td>10.0</td>\n",
       "      <td>2008</td>\n",
       "      <td>northeast</td>\n",
       "    </tr>\n",
       "    <tr>\n",
       "      <th>1</th>\n",
       "      <td>Asian or Pacific Islander</td>\n",
       "      <td>Atherosclerotic heart disease</td>\n",
       "      <td>I25.1</td>\n",
       "      <td>65-74</td>\n",
       "      <td>Male</td>\n",
       "      <td>M</td>\n",
       "      <td>10.0</td>\n",
       "      <td>2008</td>\n",
       "      <td>northeast</td>\n",
       "    </tr>\n",
       "    <tr>\n",
       "      <th>2</th>\n",
       "      <td>Asian or Pacific Islander</td>\n",
       "      <td>Atherosclerotic heart disease</td>\n",
       "      <td>I25.1</td>\n",
       "      <td>85+</td>\n",
       "      <td>Female</td>\n",
       "      <td>F</td>\n",
       "      <td>11.0</td>\n",
       "      <td>2008</td>\n",
       "      <td>northeast</td>\n",
       "    </tr>\n",
       "    <tr>\n",
       "      <th>3</th>\n",
       "      <td>Black or African American</td>\n",
       "      <td>Enterocolitis due to Clostridium difficile</td>\n",
       "      <td>A04.7</td>\n",
       "      <td>85+</td>\n",
       "      <td>Female</td>\n",
       "      <td>F</td>\n",
       "      <td>10.0</td>\n",
       "      <td>2008</td>\n",
       "      <td>northeast</td>\n",
       "    </tr>\n",
       "    <tr>\n",
       "      <th>4</th>\n",
       "      <td>Black or African American</td>\n",
       "      <td>Septicaemia, unspecified</td>\n",
       "      <td>A41.9</td>\n",
       "      <td>45-54</td>\n",
       "      <td>Female</td>\n",
       "      <td>F</td>\n",
       "      <td>15.0</td>\n",
       "      <td>2008</td>\n",
       "      <td>northeast</td>\n",
       "    </tr>\n",
       "  </tbody>\n",
       "</table>\n",
       "</div>"
      ],
      "text/plain": [
       "                        Race  \\\n",
       "0  Asian or Pacific Islander   \n",
       "1  Asian or Pacific Islander   \n",
       "2  Asian or Pacific Islander   \n",
       "3  Black or African American   \n",
       "4  Black or African American   \n",
       "\n",
       "                                      Cause of death Cause of death Code  \\\n",
       "0  Bronchus or lung, unspecified - Malignant neop...               C34.9   \n",
       "1                      Atherosclerotic heart disease               I25.1   \n",
       "2                      Atherosclerotic heart disease               I25.1   \n",
       "3         Enterocolitis due to Clostridium difficile               A04.7   \n",
       "4                           Septicaemia, unspecified               A41.9   \n",
       "\n",
       "  Ten-Year Age Groups Code  Gender Gender Code  Deaths  year  US_region  \n",
       "0                    65-74    Male           M    10.0  2008  northeast  \n",
       "1                    65-74    Male           M    10.0  2008  northeast  \n",
       "2                      85+  Female           F    11.0  2008  northeast  \n",
       "3                      85+  Female           F    10.0  2008  northeast  \n",
       "4                    45-54  Female           F    15.0  2008  northeast  "
      ]
     },
     "execution_count": 81,
     "metadata": {},
     "output_type": "execute_result"
    }
   ],
   "source": [
    "dfcod.head()"
   ]
  },
  {
   "cell_type": "code",
   "execution_count": null,
   "metadata": {},
   "outputs": [],
   "source": []
  }
 ],
 "metadata": {
  "kernelspec": {
   "display_name": "Python 3",
   "language": "python",
   "name": "python3"
  },
  "language_info": {
   "codemirror_mode": {
    "name": "ipython",
    "version": 3
   },
   "file_extension": ".py",
   "mimetype": "text/x-python",
   "name": "python",
   "nbconvert_exporter": "python",
   "pygments_lexer": "ipython3",
   "version": "3.7.4"
  }
 },
 "nbformat": 4,
 "nbformat_minor": 4
}
