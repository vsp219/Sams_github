{
 "cells": [
  {
   "cell_type": "markdown",
   "metadata": {},
   "source": [
    "n this exercise, you'll predict house prices using your model. To complete this assignment, submit a link to a Jupyter notebook containing your solutions to the following tasks:\n",
    "\n",
    "Load the housing prices data from Thinkful's database.\n",
    "Split your data into train and test sets.\n",
    "Estimate your model from the previous checkpoint in the train set. Assess the goodness of fit of your model.\n"
   ]
  },
  {
   "cell_type": "code",
   "execution_count": 2,
   "metadata": {},
   "outputs": [],
   "source": [
    "%matplotlib inline\n",
    "\n",
    "import matplotlib.pyplot as plt\n",
    "import numpy as np\n",
    "import pandas as pd\n",
    "import statsmodels.api as sm\n",
    "import pylab\n",
    "from sklearn.preprocessing import PowerTransformer, QuantileTransformer\n",
    "from sqlalchemy import create_engine\n",
    "from sklearn.preprocessing import StandardScaler\n",
    "from statsmodels.stats.outliers_influence import variance_inflation_factor\n",
    "from statsmodels.tools.tools import add_constant\n",
    "from sklearn.linear_model import LinearRegression\n",
    "from sklearn.model_selection import train_test_split\n",
    "from sqlalchemy import create_engine\n",
    "import seaborn as sns"
   ]
  },
  {
   "cell_type": "code",
   "execution_count": 3,
   "metadata": {},
   "outputs": [],
   "source": [
    "postgres_user = 'dsbc_student'\n",
    "postgres_pw = '7*.8G9QH21'\n",
    "postgres_host = '142.93.121.174'\n",
    "postgres_port = '5432'\n",
    "postgres_db = 'houseprices'\n",
    "\n",
    "engine = create_engine('postgresql://{}:{}@{}:{}/{}'.format(\n",
    "    postgres_user, postgres_pw, postgres_host, postgres_port, postgres_db))\n",
    "\n",
    "df1 = pd.read_sql_query('select* from houseprices', con = engine)\n",
    "\n",
    "engine.dispose()"
   ]
  },
  {
   "cell_type": "markdown",
   "metadata": {},
   "source": [
    "Predict the house prices in the test set, and evaluate the performance of your model using the metrics we mentioned in this checkpoint.\n",
    "Is the performance of your model satisfactory? Why?\n"
   ]
  },
  {
   "cell_type": "code",
   "execution_count": 5,
   "metadata": {},
   "outputs": [],
   "source": [
    "X = pd.concat([df1[['overallcond', 'grlivarea', 'garagecars']], pd.get_dummies(df1['mszoning'], prefix = 'mszoning', drop_first = True)], axis = 1)\n",
    "y = df1['saleprice']\n"
   ]
  },
  {
   "cell_type": "code",
   "execution_count": 6,
   "metadata": {},
   "outputs": [],
   "source": [
    "X_train, X_test, y_train, y_test = train_test_split(X, y, test_size = 0.2)"
   ]
  },
  {
   "cell_type": "code",
   "execution_count": 21,
   "metadata": {},
   "outputs": [
    {
     "data": {
      "text/html": [
       "<table class=\"simpletable\">\n",
       "<caption>OLS Regression Results</caption>\n",
       "<tr>\n",
       "  <th>Dep. Variable:</th>        <td>saleprice</td>    <th>  R-squared:         </th> <td>   0.684</td> \n",
       "</tr>\n",
       "<tr>\n",
       "  <th>Model:</th>                   <td>OLS</td>       <th>  Adj. R-squared:    </th> <td>   0.682</td> \n",
       "</tr>\n",
       "<tr>\n",
       "  <th>Method:</th>             <td>Least Squares</td>  <th>  F-statistic:       </th> <td>   359.3</td> \n",
       "</tr>\n",
       "<tr>\n",
       "  <th>Date:</th>             <td>Wed, 27 May 2020</td> <th>  Prob (F-statistic):</th> <td>3.39e-285</td>\n",
       "</tr>\n",
       "<tr>\n",
       "  <th>Time:</th>                 <td>15:40:22</td>     <th>  Log-Likelihood:    </th> <td> -14181.</td> \n",
       "</tr>\n",
       "<tr>\n",
       "  <th>No. Observations:</th>      <td>  1168</td>      <th>  AIC:               </th> <td>2.838e+04</td>\n",
       "</tr>\n",
       "<tr>\n",
       "  <th>Df Residuals:</th>          <td>  1160</td>      <th>  BIC:               </th> <td>2.842e+04</td>\n",
       "</tr>\n",
       "<tr>\n",
       "  <th>Df Model:</th>              <td>     7</td>      <th>                     </th>     <td> </td>    \n",
       "</tr>\n",
       "<tr>\n",
       "  <th>Covariance Type:</th>      <td>nonrobust</td>    <th>                     </th>     <td> </td>    \n",
       "</tr>\n",
       "</table>\n",
       "<table class=\"simpletable\">\n",
       "<tr>\n",
       "       <td></td>          <th>coef</th>     <th>std err</th>      <th>t</th>      <th>P>|t|</th>  <th>[0.025</th>    <th>0.975]</th>  \n",
       "</tr>\n",
       "<tr>\n",
       "  <th>const</th>       <td> -1.13e+05</td> <td> 1.84e+04</td> <td>   -6.135</td> <td> 0.000</td> <td>-1.49e+05</td> <td>-7.69e+04</td>\n",
       "</tr>\n",
       "<tr>\n",
       "  <th>overallcond</th> <td> 4376.7685</td> <td> 1208.565</td> <td>    3.621</td> <td> 0.000</td> <td> 2005.551</td> <td> 6747.986</td>\n",
       "</tr>\n",
       "<tr>\n",
       "  <th>grlivarea</th>   <td>   88.0736</td> <td>    2.989</td> <td>   29.471</td> <td> 0.000</td> <td>   82.210</td> <td>   93.937</td>\n",
       "</tr>\n",
       "<tr>\n",
       "  <th>garagecars</th>  <td> 3.733e+04</td> <td> 2120.488</td> <td>   17.602</td> <td> 0.000</td> <td> 3.32e+04</td> <td> 4.15e+04</td>\n",
       "</tr>\n",
       "<tr>\n",
       "  <th>mszoning_FV</th> <td> 8.545e+04</td> <td> 1.83e+04</td> <td>    4.669</td> <td> 0.000</td> <td> 4.95e+04</td> <td> 1.21e+05</td>\n",
       "</tr>\n",
       "<tr>\n",
       "  <th>mszoning_RH</th> <td> 6.481e+04</td> <td> 2.25e+04</td> <td>    2.885</td> <td> 0.004</td> <td> 2.07e+04</td> <td> 1.09e+05</td>\n",
       "</tr>\n",
       "<tr>\n",
       "  <th>mszoning_RL</th> <td> 7.562e+04</td> <td> 1.74e+04</td> <td>    4.355</td> <td> 0.000</td> <td> 4.16e+04</td> <td>  1.1e+05</td>\n",
       "</tr>\n",
       "<tr>\n",
       "  <th>mszoning_RM</th> <td>   4.8e+04</td> <td> 1.77e+04</td> <td>    2.718</td> <td> 0.007</td> <td> 1.34e+04</td> <td> 8.26e+04</td>\n",
       "</tr>\n",
       "</table>\n",
       "<table class=\"simpletable\">\n",
       "<tr>\n",
       "  <th>Omnibus:</th>       <td>369.778</td> <th>  Durbin-Watson:     </th> <td>   2.057</td>\n",
       "</tr>\n",
       "<tr>\n",
       "  <th>Prob(Omnibus):</th> <td> 0.000</td>  <th>  Jarque-Bera (JB):  </th> <td>2483.836</td>\n",
       "</tr>\n",
       "<tr>\n",
       "  <th>Skew:</th>          <td> 1.289</td>  <th>  Prob(JB):          </th> <td>    0.00</td>\n",
       "</tr>\n",
       "<tr>\n",
       "  <th>Kurtosis:</th>      <td> 9.663</td>  <th>  Cond. No.          </th> <td>4.70e+04</td>\n",
       "</tr>\n",
       "</table><br/><br/>Warnings:<br/>[1] Standard Errors assume that the covariance matrix of the errors is correctly specified.<br/>[2] The condition number is large, 4.7e+04. This might indicate that there are<br/>strong multicollinearity or other numerical problems."
      ],
      "text/plain": [
       "<class 'statsmodels.iolib.summary.Summary'>\n",
       "\"\"\"\n",
       "                            OLS Regression Results                            \n",
       "==============================================================================\n",
       "Dep. Variable:              saleprice   R-squared:                       0.684\n",
       "Model:                            OLS   Adj. R-squared:                  0.682\n",
       "Method:                 Least Squares   F-statistic:                     359.3\n",
       "Date:                Wed, 27 May 2020   Prob (F-statistic):          3.39e-285\n",
       "Time:                        15:40:22   Log-Likelihood:                -14181.\n",
       "No. Observations:                1168   AIC:                         2.838e+04\n",
       "Df Residuals:                    1160   BIC:                         2.842e+04\n",
       "Df Model:                           7                                         \n",
       "Covariance Type:            nonrobust                                         \n",
       "===============================================================================\n",
       "                  coef    std err          t      P>|t|      [0.025      0.975]\n",
       "-------------------------------------------------------------------------------\n",
       "const        -1.13e+05   1.84e+04     -6.135      0.000   -1.49e+05   -7.69e+04\n",
       "overallcond  4376.7685   1208.565      3.621      0.000    2005.551    6747.986\n",
       "grlivarea      88.0736      2.989     29.471      0.000      82.210      93.937\n",
       "garagecars   3.733e+04   2120.488     17.602      0.000    3.32e+04    4.15e+04\n",
       "mszoning_FV  8.545e+04   1.83e+04      4.669      0.000    4.95e+04    1.21e+05\n",
       "mszoning_RH  6.481e+04   2.25e+04      2.885      0.004    2.07e+04    1.09e+05\n",
       "mszoning_RL  7.562e+04   1.74e+04      4.355      0.000    4.16e+04     1.1e+05\n",
       "mszoning_RM    4.8e+04   1.77e+04      2.718      0.007    1.34e+04    8.26e+04\n",
       "==============================================================================\n",
       "Omnibus:                      369.778   Durbin-Watson:                   2.057\n",
       "Prob(Omnibus):                  0.000   Jarque-Bera (JB):             2483.836\n",
       "Skew:                           1.289   Prob(JB):                         0.00\n",
       "Kurtosis:                       9.663   Cond. No.                     4.70e+04\n",
       "==============================================================================\n",
       "\n",
       "Warnings:\n",
       "[1] Standard Errors assume that the covariance matrix of the errors is correctly specified.\n",
       "[2] The condition number is large, 4.7e+04. This might indicate that there are\n",
       "strong multicollinearity or other numerical problems.\n",
       "\"\"\""
      ]
     },
     "execution_count": 21,
     "metadata": {},
     "output_type": "execute_result"
    }
   ],
   "source": [
    "import statsmodels.api as sm\n",
    "X_train = sm.add_constant(X_train)\n",
    "X_test = sm.add_constant(X_test)\n",
    "\n",
    "results = sm.OLS(y_train, X_train).fit()\n",
    "results.summary()"
   ]
  },
  {
   "cell_type": "code",
   "execution_count": null,
   "metadata": {},
   "outputs": [],
   "source": [
    "from sklearn.metrics import mean_absolute_error\n",
    "from statsmodels.tools.eval_measures import mse, rmse\n",
    "from sqlalchemy import create_engine"
   ]
  },
  {
   "cell_type": "code",
   "execution_count": 22,
   "metadata": {},
   "outputs": [
    {
     "data": {
      "image/png": "[encoded data removed]",
      "text/plain": [
       "<Figure size 432x288 with 1 Axes>"
      ]
     },
     "metadata": {
      "needs_background": "light"
     },
     "output_type": "display_data"
    },
    {
     "name": "stdout",
     "output_type": "stream",
     "text": [
      "Mean absolute error of the prediction is: 34373.47085062828\n",
      "Mean squared error of the prediction is: 2992263729.035291\n",
      "Root mean squared error of the prediction is: 54701.58799372548\n",
      "Mean absolute percentage error of the prediction is: 21.14066637805417\n"
     ]
    }
   ],
   "source": [
    "y_preds = results.predict(X_test)\n",
    "\n",
    "plt.scatter(y_test, y_preds)\n",
    "plt.plot(y_test, y_test, color=\"red\")\n",
    "plt.xlabel(\"true values\")\n",
    "plt.ylabel(\"predicted values\")\n",
    "plt.title(\"Charges: true and predicted values\")\n",
    "plt.show()\n",
    "\n",
    "print(\"Mean absolute error of the prediction is: {}\".format(mean_absolute_error(y_test, y_preds)))\n",
    "print(\"Mean squared error of the prediction is: {}\".format(mse(y_test, y_preds)))\n",
    "print(\"Root mean squared error of the prediction is: {}\".format(rmse(y_test, y_preds)))\n",
    "print(\"Mean absolute percentage error of the prediction is: {}\".format(np.mean(np.abs((y_test - y_preds) / y_test)) * 100))\n"
   ]
  },
  {
   "cell_type": "markdown",
   "metadata": {},
   "source": [
    "The model is performing fairly well. "
   ]
  },
  {
   "cell_type": "markdown",
   "metadata": {},
   "source": [
    "Try to improve your model in terms of predictive performance by adding or removing some variables.\n",
    "Please submit a link your work notebook after you complete a couple assessment questions related to the assignment."
   ]
  },
  {
   "cell_type": "code",
   "execution_count": 25,
   "metadata": {},
   "outputs": [
    {
     "name": "stdout",
     "output_type": "stream",
     "text": [
      "<class 'pandas.core.frame.DataFrame'>\n",
      "RangeIndex: 1460 entries, 0 to 1459\n",
      "Data columns (total 81 columns):\n",
      " #   Column         Non-Null Count  Dtype  \n",
      "---  ------         --------------  -----  \n",
      " 0   id             1460 non-null   int64  \n",
      " 1   mssubclass     1460 non-null   int64  \n",
      " 2   mszoning       1460 non-null   object \n",
      " 3   lotfrontage    1201 non-null   float64\n",
      " 4   lotarea        1460 non-null   int64  \n",
      " 5   street         1460 non-null   object \n",
      " 6   alley          91 non-null     object \n",
      " 7   lotshape       1460 non-null   object \n",
      " 8   landcontour    1460 non-null   object \n",
      " 9   utilities      1460 non-null   object \n",
      " 10  lotconfig      1460 non-null   object \n",
      " 11  landslope      1460 non-null   object \n",
      " 12  neighborhood   1460 non-null   object \n",
      " 13  condition1     1460 non-null   object \n",
      " 14  condition2     1460 non-null   object \n",
      " 15  bldgtype       1460 non-null   object \n",
      " 16  housestyle     1460 non-null   object \n",
      " 17  overallqual    1460 non-null   int64  \n",
      " 18  overallcond    1460 non-null   int64  \n",
      " 19  yearbuilt      1460 non-null   int64  \n",
      " 20  yearremodadd   1460 non-null   int64  \n",
      " 21  roofstyle      1460 non-null   object \n",
      " 22  roofmatl       1460 non-null   object \n",
      " 23  exterior1st    1460 non-null   object \n",
      " 24  exterior2nd    1460 non-null   object \n",
      " 25  masvnrtype     1452 non-null   object \n",
      " 26  masvnrarea     1452 non-null   float64\n",
      " 27  exterqual      1460 non-null   object \n",
      " 28  extercond      1460 non-null   object \n",
      " 29  foundation     1460 non-null   object \n",
      " 30  bsmtqual       1423 non-null   object \n",
      " 31  bsmtcond       1423 non-null   object \n",
      " 32  bsmtexposure   1422 non-null   object \n",
      " 33  bsmtfintype1   1423 non-null   object \n",
      " 34  bsmtfinsf1     1460 non-null   int64  \n",
      " 35  bsmtfintype2   1422 non-null   object \n",
      " 36  bsmtfinsf2     1460 non-null   int64  \n",
      " 37  bsmtunfsf      1460 non-null   int64  \n",
      " 38  totalbsmtsf    1460 non-null   int64  \n",
      " 39  heating        1460 non-null   object \n",
      " 40  heatingqc      1460 non-null   object \n",
      " 41  centralair     1460 non-null   object \n",
      " 42  electrical     1459 non-null   object \n",
      " 43  firstflrsf     1460 non-null   int64  \n",
      " 44  secondflrsf    1460 non-null   int64  \n",
      " 45  lowqualfinsf   1460 non-null   int64  \n",
      " 46  grlivarea      1460 non-null   int64  \n",
      " 47  bsmtfullbath   1460 non-null   int64  \n",
      " 48  bsmthalfbath   1460 non-null   int64  \n",
      " 49  fullbath       1460 non-null   int64  \n",
      " 50  halfbath       1460 non-null   int64  \n",
      " 51  bedroomabvgr   1460 non-null   int64  \n",
      " 52  kitchenabvgr   1460 non-null   int64  \n",
      " 53  kitchenqual    1460 non-null   object \n",
      " 54  totrmsabvgrd   1460 non-null   int64  \n",
      " 55  functional     1460 non-null   object \n",
      " 56  fireplaces     1460 non-null   int64  \n",
      " 57  fireplacequ    770 non-null    object \n",
      " 58  garagetype     1379 non-null   object \n",
      " 59  garageyrblt    1379 non-null   float64\n",
      " 60  garagefinish   1379 non-null   object \n",
      " 61  garagecars     1460 non-null   int64  \n",
      " 62  garagearea     1460 non-null   int64  \n",
      " 63  garagequal     1379 non-null   object \n",
      " 64  garagecond     1379 non-null   object \n",
      " 65  paveddrive     1460 non-null   object \n",
      " 66  wooddecksf     1460 non-null   int64  \n",
      " 67  openporchsf    1460 non-null   int64  \n",
      " 68  enclosedporch  1460 non-null   int64  \n",
      " 69  threessnporch  1460 non-null   int64  \n",
      " 70  screenporch    1460 non-null   int64  \n",
      " 71  poolarea       1460 non-null   int64  \n",
      " 72  poolqc         7 non-null      object \n",
      " 73  fence          281 non-null    object \n",
      " 74  miscfeature    54 non-null     object \n",
      " 75  miscval        1460 non-null   int64  \n",
      " 76  mosold         1460 non-null   int64  \n",
      " 77  yrsold         1460 non-null   int64  \n",
      " 78  saletype       1460 non-null   object \n",
      " 79  salecondition  1460 non-null   object \n",
      " 80  saleprice      1460 non-null   int64  \n",
      "dtypes: float64(3), int64(35), object(43)\n",
      "memory usage: 924.0+ KB\n"
     ]
    }
   ],
   "source": [
    "df1.info()"
   ]
  },
  {
   "cell_type": "code",
   "execution_count": 33,
   "metadata": {},
   "outputs": [
    {
     "data": {
      "text/html": [
       "<table class=\"simpletable\">\n",
       "<caption>OLS Regression Results</caption>\n",
       "<tr>\n",
       "  <th>Dep. Variable:</th>        <td>saleprice</td>    <th>  R-squared:         </th> <td>   0.660</td> \n",
       "</tr>\n",
       "<tr>\n",
       "  <th>Model:</th>                   <td>OLS</td>       <th>  Adj. R-squared:    </th> <td>   0.657</td> \n",
       "</tr>\n",
       "<tr>\n",
       "  <th>Method:</th>             <td>Least Squares</td>  <th>  F-statistic:       </th> <td>   249.9</td> \n",
       "</tr>\n",
       "<tr>\n",
       "  <th>Date:</th>             <td>Wed, 27 May 2020</td> <th>  Prob (F-statistic):</th> <td>4.06e-264</td>\n",
       "</tr>\n",
       "<tr>\n",
       "  <th>Time:</th>                 <td>16:03:21</td>     <th>  Log-Likelihood:    </th> <td> -14236.</td> \n",
       "</tr>\n",
       "<tr>\n",
       "  <th>No. Observations:</th>      <td>  1168</td>      <th>  AIC:               </th> <td>2.849e+04</td>\n",
       "</tr>\n",
       "<tr>\n",
       "  <th>Df Residuals:</th>          <td>  1158</td>      <th>  BIC:               </th> <td>2.854e+04</td>\n",
       "</tr>\n",
       "<tr>\n",
       "  <th>Df Model:</th>              <td>     9</td>      <th>                     </th>     <td> </td>    \n",
       "</tr>\n",
       "<tr>\n",
       "  <th>Covariance Type:</th>      <td>nonrobust</td>    <th>                     </th>     <td> </td>    \n",
       "</tr>\n",
       "</table>\n",
       "<table class=\"simpletable\">\n",
       "<tr>\n",
       "       <td></td>          <th>coef</th>     <th>std err</th>      <th>t</th>      <th>P>|t|</th>  <th>[0.025</th>    <th>0.975]</th>  \n",
       "</tr>\n",
       "<tr>\n",
       "  <th>const</th>       <td>-8.786e+04</td> <td> 2.28e+04</td> <td>   -3.858</td> <td> 0.000</td> <td>-1.33e+05</td> <td>-4.32e+04</td>\n",
       "</tr>\n",
       "<tr>\n",
       "  <th>overallcond</th> <td> 4257.3804</td> <td> 1304.434</td> <td>    3.264</td> <td> 0.001</td> <td> 1698.063</td> <td> 6816.698</td>\n",
       "</tr>\n",
       "<tr>\n",
       "  <th>grlivarea</th>   <td>   75.1415</td> <td>    3.933</td> <td>   19.104</td> <td> 0.000</td> <td>   67.424</td> <td>   82.859</td>\n",
       "</tr>\n",
       "<tr>\n",
       "  <th>fullbath</th>    <td>  1.12e+04</td> <td> 3665.101</td> <td>    3.057</td> <td> 0.002</td> <td> 4011.507</td> <td> 1.84e+04</td>\n",
       "</tr>\n",
       "<tr>\n",
       "  <th>halfbath</th>    <td>-4439.9054</td> <td> 3177.889</td> <td>   -1.397</td> <td> 0.163</td> <td>-1.07e+04</td> <td> 1795.159</td>\n",
       "</tr>\n",
       "<tr>\n",
       "  <th>garagecars</th>  <td> 3.909e+04</td> <td> 2226.297</td> <td>   17.559</td> <td> 0.000</td> <td> 3.47e+04</td> <td> 4.35e+04</td>\n",
       "</tr>\n",
       "<tr>\n",
       "  <th>mszoning_FV</th> <td> 6.269e+04</td> <td> 2.26e+04</td> <td>    2.772</td> <td> 0.006</td> <td> 1.83e+04</td> <td> 1.07e+05</td>\n",
       "</tr>\n",
       "<tr>\n",
       "  <th>mszoning_RH</th> <td> 1.226e+04</td> <td> 2.62e+04</td> <td>    0.468</td> <td> 0.640</td> <td>-3.91e+04</td> <td> 6.36e+04</td>\n",
       "</tr>\n",
       "<tr>\n",
       "  <th>mszoning_RL</th> <td> 5.116e+04</td> <td> 2.15e+04</td> <td>    2.381</td> <td> 0.017</td> <td> 8999.898</td> <td> 9.33e+04</td>\n",
       "</tr>\n",
       "<tr>\n",
       "  <th>mszoning_RM</th> <td> 2.272e+04</td> <td> 2.17e+04</td> <td>    1.048</td> <td> 0.295</td> <td>-1.98e+04</td> <td> 6.53e+04</td>\n",
       "</tr>\n",
       "</table>\n",
       "<table class=\"simpletable\">\n",
       "<tr>\n",
       "  <th>Omnibus:</th>       <td>317.934</td> <th>  Durbin-Watson:     </th> <td>   2.067</td>\n",
       "</tr>\n",
       "<tr>\n",
       "  <th>Prob(Omnibus):</th> <td> 0.000</td>  <th>  Jarque-Bera (JB):  </th> <td>4722.361</td>\n",
       "</tr>\n",
       "<tr>\n",
       "  <th>Skew:</th>          <td> 0.835</td>  <th>  Prob(JB):          </th> <td>    0.00</td>\n",
       "</tr>\n",
       "<tr>\n",
       "  <th>Kurtosis:</th>      <td>12.708</td>  <th>  Cond. No.          </th> <td>5.57e+04</td>\n",
       "</tr>\n",
       "</table><br/><br/>Warnings:<br/>[1] Standard Errors assume that the covariance matrix of the errors is correctly specified.<br/>[2] The condition number is large, 5.57e+04. This might indicate that there are<br/>strong multicollinearity or other numerical problems."
      ],
      "text/plain": [
       "<class 'statsmodels.iolib.summary.Summary'>\n",
       "\"\"\"\n",
       "                            OLS Regression Results                            \n",
       "==============================================================================\n",
       "Dep. Variable:              saleprice   R-squared:                       0.660\n",
       "Model:                            OLS   Adj. R-squared:                  0.657\n",
       "Method:                 Least Squares   F-statistic:                     249.9\n",
       "Date:                Wed, 27 May 2020   Prob (F-statistic):          4.06e-264\n",
       "Time:                        16:03:21   Log-Likelihood:                -14236.\n",
       "No. Observations:                1168   AIC:                         2.849e+04\n",
       "Df Residuals:                    1158   BIC:                         2.854e+04\n",
       "Df Model:                           9                                         \n",
       "Covariance Type:            nonrobust                                         \n",
       "===============================================================================\n",
       "                  coef    std err          t      P>|t|      [0.025      0.975]\n",
       "-------------------------------------------------------------------------------\n",
       "const       -8.786e+04   2.28e+04     -3.858      0.000   -1.33e+05   -4.32e+04\n",
       "overallcond  4257.3804   1304.434      3.264      0.001    1698.063    6816.698\n",
       "grlivarea      75.1415      3.933     19.104      0.000      67.424      82.859\n",
       "fullbath      1.12e+04   3665.101      3.057      0.002    4011.507    1.84e+04\n",
       "halfbath    -4439.9054   3177.889     -1.397      0.163   -1.07e+04    1795.159\n",
       "garagecars   3.909e+04   2226.297     17.559      0.000    3.47e+04    4.35e+04\n",
       "mszoning_FV  6.269e+04   2.26e+04      2.772      0.006    1.83e+04    1.07e+05\n",
       "mszoning_RH  1.226e+04   2.62e+04      0.468      0.640   -3.91e+04    6.36e+04\n",
       "mszoning_RL  5.116e+04   2.15e+04      2.381      0.017    8999.898    9.33e+04\n",
       "mszoning_RM  2.272e+04   2.17e+04      1.048      0.295   -1.98e+04    6.53e+04\n",
       "==============================================================================\n",
       "Omnibus:                      317.934   Durbin-Watson:                   2.067\n",
       "Prob(Omnibus):                  0.000   Jarque-Bera (JB):             4722.361\n",
       "Skew:                           0.835   Prob(JB):                         0.00\n",
       "Kurtosis:                      12.708   Cond. No.                     5.57e+04\n",
       "==============================================================================\n",
       "\n",
       "Warnings:\n",
       "[1] Standard Errors assume that the covariance matrix of the errors is correctly specified.\n",
       "[2] The condition number is large, 5.57e+04. This might indicate that there are\n",
       "strong multicollinearity or other numerical problems.\n",
       "\"\"\""
      ]
     },
     "execution_count": 33,
     "metadata": {},
     "output_type": "execute_result"
    }
   ],
   "source": [
    "X1 = pd.concat([df1[['overallcond','grlivarea','fullbath','halfbath','garagecars','']], pd.get_dummies(df1['mszoning'], prefix = 'mszoning', drop_first = True)], axis = 1)\n",
    "y1 = df1['saleprice']\n",
    "\n",
    "X1_train, X1_test, y1_train, y1_test = train_test_split(X1, y1, test_size = 0.2)\n",
    "X1_train = sm.add_constant(X1_train)\n",
    "X1_test = sm.add_constant(X1_test)\n",
    "\n",
    "results = sm.OLS(y1_train, X1_train).fit()\n",
    "results.summary()"
   ]
  },
  {
   "cell_type": "code",
   "execution_count": 34,
   "metadata": {},
   "outputs": [
    {
     "data": {
      "image/png": "[encoded data removed]",
      "text/plain": [
       "<Figure size 432x288 with 1 Axes>"
      ]
     },
     "metadata": {
      "needs_background": "light"
     },
     "output_type": "display_data"
    },
    {
     "name": "stdout",
     "output_type": "stream",
     "text": [
      "Mean absolute error of the prediction is: 31541.731890283238\n",
      "Mean squared error of the prediction is: 1973270958.2609763\n",
      "Root mean squared error of the prediction is: 44421.51458765197\n",
      "Mean absolute percentage error of the prediction is: 19.27648974400519\n"
     ]
    }
   ],
   "source": [
    "y1_preds = results.predict(X1_test)\n",
    "\n",
    "plt.scatter(y1_test, y1_preds)\n",
    "plt.plot(y1_test, y1_test, color=\"red\")\n",
    "plt.xlabel(\"true values\")\n",
    "plt.ylabel(\"predicted values\")\n",
    "plt.title(\"Charges: true and predicted values\")\n",
    "plt.show()\n",
    "\n",
    "print(\"Mean absolute error of the prediction is: {}\".format(mean_absolute_error(y1_test, y1_preds)))\n",
    "print(\"Mean squared error of the prediction is: {}\".format(mse(y1_test, y1_preds)))\n",
    "print(\"Root mean squared error of the prediction is: {}\".format(rmse(y1_test, y1_preds)))\n",
    "print(\"Mean absolute percentage error of the prediction is: {}\".format(np.mean(np.abs((y1_test - y1_preds) / y1_test)) * 100))"
   ]
  },
  {
   "cell_type": "markdown",
   "metadata": {},
   "source": [
    "Slightly tighter error or prediction with added features, but not much better than the first model with 4 less features."
   ]
  },
  {
   "cell_type": "code",
   "execution_count": null,
   "metadata": {},
   "outputs": [],
   "source": []
  }
 ],
 "metadata": {
  "kernelspec": {
   "display_name": "Python 3",
   "language": "python",
   "name": "python3"
  },
  "language_info": {
   "codemirror_mode": {
    "name": "ipython",
    "version": 3
   },
   "file_extension": ".py",
   "mimetype": "text/x-python",
   "name": "python",
   "nbconvert_exporter": "python",
   "pygments_lexer": "ipython3",
   "version": "3.7.4"
  }
 },
 "nbformat": 4,
 "nbformat_minor": 4
}
