{
 "cells": [
  {
   "cell_type": "code",
   "execution_count": 4,
   "metadata": {},
   "outputs": [],
   "source": [
    "import matplotlib.pyplot as plt\n",
    "import seaborn as sns\n",
    "import numpy as np\n",
    "import pandas as pd\n",
    "import seaborn as sns\n",
    "import scipy.stats as stats\n",
    "from scipy.stats.mstats import winsorize\n",
    "from sqlalchemy import create_engine\n",
    "import warnings\n",
    "warnings.filterwarnings('ignore')\n",
    "sns.set(style=\"whitegrid\")"
   ]
  },
  {
   "cell_type": "code",
   "execution_count": 5,
   "metadata": {},
   "outputs": [],
   "source": [
    "from wordcloud import WordCloud"
   ]
  },
  {
   "cell_type": "code",
   "execution_count": 6,
   "metadata": {},
   "outputs": [],
   "source": [
    "postgres_user = 'dsbc_student'\n",
    "postgres_pw = '7*.8G9QH21'\n",
    "postgres_host = '142.93.121.174'\n",
    "postgres_port = '5432'\n",
    "postgres_db = 'useducation'\n",
    "\n",
    "engine = create_engine('postgresql://{}:{}@{}:{}/{}'.format(postgres_user,\n",
    "        postgres_pw, postgres_host, postgres_port, postgres_db))"
   ]
  },
  {
   "cell_type": "code",
   "execution_count": 7,
   "metadata": {},
   "outputs": [
    {
     "name": "stdout",
     "output_type": "stream",
     "text": [
      "<class 'pandas.core.frame.DataFrame'>\n",
      "RangeIndex: 1492 entries, 0 to 1491\n",
      "Data columns (total 25 columns):\n",
      " #   Column                        Non-Null Count  Dtype  \n",
      "---  ------                        --------------  -----  \n",
      " 0   PRIMARY_KEY                   1492 non-null   object \n",
      " 1   STATE                         1492 non-null   object \n",
      " 2   YEAR                          1492 non-null   int64  \n",
      " 3   ENROLL                        1229 non-null   float64\n",
      " 4   TOTAL_REVENUE                 1280 non-null   float64\n",
      " 5   FEDERAL_REVENUE               1280 non-null   float64\n",
      " 6   STATE_REVENUE                 1280 non-null   float64\n",
      " 7   LOCAL_REVENUE                 1280 non-null   float64\n",
      " 8   TOTAL_EXPENDITURE             1280 non-null   float64\n",
      " 9   INSTRUCTION_EXPENDITURE       1280 non-null   float64\n",
      " 10  SUPPORT_SERVICES_EXPENDITURE  1280 non-null   float64\n",
      " 11  OTHER_EXPENDITURE             1229 non-null   float64\n",
      " 12  CAPITAL_OUTLAY_EXPENDITURE    1280 non-null   float64\n",
      " 13  GRADES_PK_G                   1319 non-null   float64\n",
      " 14  GRADES_KG_G                   1360 non-null   float64\n",
      " 15  GRADES_4_G                    1361 non-null   float64\n",
      " 16  GRADES_8_G                    1361 non-null   float64\n",
      " 17  GRADES_12_G                   1361 non-null   float64\n",
      " 18  GRADES_1_8_G                  1361 non-null   float64\n",
      " 19  GRADES_9_12_G                 1361 non-null   float64\n",
      " 20  GRADES_ALL_G                  1319 non-null   float64\n",
      " 21  AVG_MATH_4_SCORE              536 non-null    float64\n",
      " 22  AVG_MATH_8_SCORE              532 non-null    float64\n",
      " 23  AVG_READING_4_SCORE           533 non-null    float64\n",
      " 24  AVG_READING_8_SCORE           498 non-null    float64\n",
      "dtypes: float64(22), int64(1), object(2)\n",
      "memory usage: 291.5+ KB\n"
     ]
    }
   ],
   "source": [
    "df = pd.read_sql_query('select * from useducation',con=engine)\n",
    "engine.dispose()\n",
    "df.info()"
   ]
  },
  {
   "cell_type": "code",
   "execution_count": 8,
   "metadata": {
    "scrolled": true
   },
   "outputs": [
    {
     "name": "stdout",
     "output_type": "stream",
     "text": [
      "PRIMARY_KEY                       0\n",
      "STATE                             0\n",
      "YEAR                              0\n",
      "ENROLL                          263\n",
      "TOTAL_REVENUE                   212\n",
      "FEDERAL_REVENUE                 212\n",
      "STATE_REVENUE                   212\n",
      "LOCAL_REVENUE                   212\n",
      "TOTAL_EXPENDITURE               212\n",
      "INSTRUCTION_EXPENDITURE         212\n",
      "SUPPORT_SERVICES_EXPENDITURE    212\n",
      "OTHER_EXPENDITURE               263\n",
      "CAPITAL_OUTLAY_EXPENDITURE      212\n",
      "GRADES_PK_G                     173\n",
      "GRADES_KG_G                     132\n",
      "GRADES_4_G                      131\n",
      "GRADES_8_G                      131\n",
      "GRADES_12_G                     131\n",
      "GRADES_1_8_G                    131\n",
      "GRADES_9_12_G                   131\n",
      "GRADES_ALL_G                    173\n",
      "AVG_MATH_4_SCORE                956\n",
      "AVG_MATH_8_SCORE                960\n",
      "AVG_READING_4_SCORE             959\n",
      "AVG_READING_8_SCORE             994\n",
      "dtype: int64\n",
      "1492\n"
     ]
    },
    {
     "data": {
      "text/plain": [
       "PRIMARY_KEY                     0.000000\n",
       "STATE                           0.000000\n",
       "YEAR                            0.000000\n",
       "ENROLL                          0.176273\n",
       "TOTAL_REVENUE                   0.142091\n",
       "FEDERAL_REVENUE                 0.142091\n",
       "STATE_REVENUE                   0.142091\n",
       "LOCAL_REVENUE                   0.142091\n",
       "TOTAL_EXPENDITURE               0.142091\n",
       "INSTRUCTION_EXPENDITURE         0.142091\n",
       "SUPPORT_SERVICES_EXPENDITURE    0.142091\n",
       "OTHER_EXPENDITURE               0.176273\n",
       "CAPITAL_OUTLAY_EXPENDITURE      0.142091\n",
       "GRADES_PK_G                     0.115952\n",
       "GRADES_KG_G                     0.088472\n",
       "GRADES_4_G                      0.087802\n",
       "GRADES_8_G                      0.087802\n",
       "GRADES_12_G                     0.087802\n",
       "GRADES_1_8_G                    0.087802\n",
       "GRADES_9_12_G                   0.087802\n",
       "GRADES_ALL_G                    0.115952\n",
       "AVG_MATH_4_SCORE                0.640751\n",
       "AVG_MATH_8_SCORE                0.643432\n",
       "AVG_READING_4_SCORE             0.642761\n",
       "AVG_READING_8_SCORE             0.666220\n",
       "dtype: float64"
      ]
     },
     "execution_count": 8,
     "metadata": {},
     "output_type": "execute_result"
    }
   ],
   "source": [
    "print(df.isnull().sum())\n",
    "print(df.shape[0])\n",
    "df.isnull().sum()/df.shape[0]"
   ]
  },
  {
   "cell_type": "code",
   "execution_count": 9,
   "metadata": {},
   "outputs": [
    {
     "name": "stdout",
     "output_type": "stream",
     "text": [
      "['ENROLL', 'TOTAL_REVENUE', 'FEDERAL_REVENUE', 'STATE_REVENUE', 'LOCAL_REVENUE', 'TOTAL_EXPENDITURE', 'INSTRUCTION_EXPENDITURE', 'SUPPORT_SERVICES_EXPENDITURE', 'OTHER_EXPENDITURE', 'CAPITAL_OUTLAY_EXPENDITURE', 'GRADES_PK_G', 'GRADES_KG_G', 'GRADES_4_G', 'GRADES_8_G', 'GRADES_12_G', 'GRADES_1_8_G', 'GRADES_9_12_G', 'GRADES_ALL_G', 'AVG_MATH_4_SCORE', 'AVG_MATH_8_SCORE', 'AVG_READING_4_SCORE', 'AVG_READING_8_SCORE']\n"
     ]
    }
   ],
   "source": [
    "fillcols = []\n",
    "fulllist = df.columns\n",
    "\n",
    "#Generate a list of the column names with nulls in a list called fillcol\n",
    "for i in range(df.shape[1]):\n",
    "    if df[fulllist[i]].isnull().sum() > 0:\n",
    "            fillcols.append(fulllist[i])\n",
    "print(fillcols)\n",
    "#Fill null values with the mean from each respective column\n",
    "states = df[\"STATE\"].unique()\n",
    "\n",
    "for state in states:\n",
    "   df.loc[df[\"STATE\"] == state, fillcols] = df.loc[df[\"STATE\"] == state, fillcols].interpolate()\n",
    "\n",
    "\n",
    "#Drop na for avg test score columns since they over 60% empty\n",
    "df.dropna(inplace=True)\n"
   ]
  },
  {
   "cell_type": "code",
   "execution_count": 10,
   "metadata": {},
   "outputs": [
    {
     "name": "stdout",
     "output_type": "stream",
     "text": [
      "<class 'pandas.core.frame.DataFrame'>\n",
      "Int64Index: 1046 entries, 54 to 1491\n",
      "Data columns (total 25 columns):\n",
      " #   Column                        Non-Null Count  Dtype  \n",
      "---  ------                        --------------  -----  \n",
      " 0   PRIMARY_KEY                   1046 non-null   object \n",
      " 1   STATE                         1046 non-null   object \n",
      " 2   YEAR                          1046 non-null   int64  \n",
      " 3   ENROLL                        1046 non-null   float64\n",
      " 4   TOTAL_REVENUE                 1046 non-null   float64\n",
      " 5   FEDERAL_REVENUE               1046 non-null   float64\n",
      " 6   STATE_REVENUE                 1046 non-null   float64\n",
      " 7   LOCAL_REVENUE                 1046 non-null   float64\n",
      " 8   TOTAL_EXPENDITURE             1046 non-null   float64\n",
      " 9   INSTRUCTION_EXPENDITURE       1046 non-null   float64\n",
      " 10  SUPPORT_SERVICES_EXPENDITURE  1046 non-null   float64\n",
      " 11  OTHER_EXPENDITURE             1046 non-null   float64\n",
      " 12  CAPITAL_OUTLAY_EXPENDITURE    1046 non-null   float64\n",
      " 13  GRADES_PK_G                   1046 non-null   float64\n",
      " 14  GRADES_KG_G                   1046 non-null   float64\n",
      " 15  GRADES_4_G                    1046 non-null   float64\n",
      " 16  GRADES_8_G                    1046 non-null   float64\n",
      " 17  GRADES_12_G                   1046 non-null   float64\n",
      " 18  GRADES_1_8_G                  1046 non-null   float64\n",
      " 19  GRADES_9_12_G                 1046 non-null   float64\n",
      " 20  GRADES_ALL_G                  1046 non-null   float64\n",
      " 21  AVG_MATH_4_SCORE              1046 non-null   float64\n",
      " 22  AVG_MATH_8_SCORE              1046 non-null   float64\n",
      " 23  AVG_READING_4_SCORE           1046 non-null   float64\n",
      " 24  AVG_READING_8_SCORE           1046 non-null   float64\n",
      "dtypes: float64(22), int64(1), object(2)\n",
      "memory usage: 212.5+ KB\n"
     ]
    }
   ],
   "source": [
    "df.info()"
   ]
  },
  {
   "cell_type": "code",
   "execution_count": 11,
   "metadata": {},
   "outputs": [
    {
     "data": {
      "text/plain": [
       "PRIMARY_KEY                     0.0\n",
       "STATE                           0.0\n",
       "YEAR                            0.0\n",
       "ENROLL                          0.0\n",
       "TOTAL_REVENUE                   0.0\n",
       "FEDERAL_REVENUE                 0.0\n",
       "STATE_REVENUE                   0.0\n",
       "LOCAL_REVENUE                   0.0\n",
       "TOTAL_EXPENDITURE               0.0\n",
       "INSTRUCTION_EXPENDITURE         0.0\n",
       "SUPPORT_SERVICES_EXPENDITURE    0.0\n",
       "OTHER_EXPENDITURE               0.0\n",
       "CAPITAL_OUTLAY_EXPENDITURE      0.0\n",
       "GRADES_PK_G                     0.0\n",
       "GRADES_KG_G                     0.0\n",
       "GRADES_4_G                      0.0\n",
       "GRADES_8_G                      0.0\n",
       "GRADES_12_G                     0.0\n",
       "GRADES_1_8_G                    0.0\n",
       "GRADES_9_12_G                   0.0\n",
       "GRADES_ALL_G                    0.0\n",
       "AVG_MATH_4_SCORE                0.0\n",
       "AVG_MATH_8_SCORE                0.0\n",
       "AVG_READING_4_SCORE             0.0\n",
       "AVG_READING_8_SCORE             0.0\n",
       "dtype: float64"
      ]
     },
     "execution_count": 11,
     "metadata": {},
     "output_type": "execute_result"
    }
   ],
   "source": [
    "#Check there are no nulls\n",
    "df.isnull().sum()/df.shape[0]"
   ]
  },
  {
   "cell_type": "markdown",
   "metadata": {},
   "source": [
    "# Derive the descriptive statistics of the data and discuss the points you find remarkable."
   ]
  },
  {
   "cell_type": "code",
   "execution_count": 13,
   "metadata": {},
   "outputs": [
    {
     "data": {
      "text/html": [
       "<div>\n",
       "<style scoped>\n",
       "    .dataframe tbody tr th:only-of-type {\n",
       "        vertical-align: middle;\n",
       "    }\n",
       "\n",
       "    .dataframe tbody tr th {\n",
       "        vertical-align: top;\n",
       "    }\n",
       "\n",
       "    .dataframe thead th {\n",
       "        text-align: right;\n",
       "    }\n",
       "</style>\n",
       "<table border=\"1\" class=\"dataframe\">\n",
       "  <thead>\n",
       "    <tr style=\"text-align: right;\">\n",
       "      <th></th>\n",
       "      <th>YEAR</th>\n",
       "      <th>ENROLL</th>\n",
       "      <th>TOTAL_REVENUE</th>\n",
       "      <th>FEDERAL_REVENUE</th>\n",
       "      <th>STATE_REVENUE</th>\n",
       "      <th>LOCAL_REVENUE</th>\n",
       "      <th>TOTAL_EXPENDITURE</th>\n",
       "      <th>INSTRUCTION_EXPENDITURE</th>\n",
       "      <th>SUPPORT_SERVICES_EXPENDITURE</th>\n",
       "      <th>OTHER_EXPENDITURE</th>\n",
       "      <th>...</th>\n",
       "      <th>GRADES_4_G</th>\n",
       "      <th>GRADES_8_G</th>\n",
       "      <th>GRADES_12_G</th>\n",
       "      <th>GRADES_1_8_G</th>\n",
       "      <th>GRADES_9_12_G</th>\n",
       "      <th>GRADES_ALL_G</th>\n",
       "      <th>AVG_MATH_4_SCORE</th>\n",
       "      <th>AVG_MATH_8_SCORE</th>\n",
       "      <th>AVG_READING_4_SCORE</th>\n",
       "      <th>AVG_READING_8_SCORE</th>\n",
       "    </tr>\n",
       "  </thead>\n",
       "  <tbody>\n",
       "    <tr>\n",
       "      <th>count</th>\n",
       "      <td>1046.000000</td>\n",
       "      <td>1.046000e+03</td>\n",
       "      <td>1.046000e+03</td>\n",
       "      <td>1.046000e+03</td>\n",
       "      <td>1.046000e+03</td>\n",
       "      <td>1.046000e+03</td>\n",
       "      <td>1.046000e+03</td>\n",
       "      <td>1.046000e+03</td>\n",
       "      <td>1.046000e+03</td>\n",
       "      <td>1.046000e+03</td>\n",
       "      <td>...</td>\n",
       "      <td>1046.000000</td>\n",
       "      <td>1046.000000</td>\n",
       "      <td>1046.000000</td>\n",
       "      <td>1.046000e+03</td>\n",
       "      <td>1.046000e+03</td>\n",
       "      <td>1.046000e+03</td>\n",
       "      <td>1046.000000</td>\n",
       "      <td>1046.000000</td>\n",
       "      <td>1046.000000</td>\n",
       "      <td>1046.000000</td>\n",
       "    </tr>\n",
       "    <tr>\n",
       "      <th>mean</th>\n",
       "      <td>2006.970363</td>\n",
       "      <td>9.312498e+05</td>\n",
       "      <td>1.016897e+07</td>\n",
       "      <td>8.849582e+05</td>\n",
       "      <td>4.715139e+06</td>\n",
       "      <td>4.568873e+06</td>\n",
       "      <td>1.025869e+07</td>\n",
       "      <td>5.302625e+06</td>\n",
       "      <td>2.997572e+06</td>\n",
       "      <td>4.659259e+05</td>\n",
       "      <td>...</td>\n",
       "      <td>71534.228967</td>\n",
       "      <td>71677.377629</td>\n",
       "      <td>62567.048279</td>\n",
       "      <td>5.751591e+05</td>\n",
       "      <td>2.797579e+05</td>\n",
       "      <td>8.764167e+05</td>\n",
       "      <td>235.269162</td>\n",
       "      <td>278.747113</td>\n",
       "      <td>219.099817</td>\n",
       "      <td>263.615681</td>\n",
       "    </tr>\n",
       "    <tr>\n",
       "      <th>std</th>\n",
       "      <td>6.242782</td>\n",
       "      <td>1.104296e+06</td>\n",
       "      <td>1.288751e+07</td>\n",
       "      <td>1.261405e+06</td>\n",
       "      <td>6.105385e+06</td>\n",
       "      <td>5.989616e+06</td>\n",
       "      <td>1.308992e+07</td>\n",
       "      <td>6.879720e+06</td>\n",
       "      <td>3.665806e+06</td>\n",
       "      <td>5.757227e+05</td>\n",
       "      <td>...</td>\n",
       "      <td>85272.286001</td>\n",
       "      <td>84302.592122</td>\n",
       "      <td>74919.819069</td>\n",
       "      <td>6.824060e+05</td>\n",
       "      <td>3.325605e+05</td>\n",
       "      <td>1.040403e+06</td>\n",
       "      <td>9.632646</td>\n",
       "      <td>9.912572</td>\n",
       "      <td>7.804302</td>\n",
       "      <td>5.768169</td>\n",
       "    </tr>\n",
       "    <tr>\n",
       "      <th>min</th>\n",
       "      <td>1993.000000</td>\n",
       "      <td>4.386600e+04</td>\n",
       "      <td>6.559710e+05</td>\n",
       "      <td>4.062200e+04</td>\n",
       "      <td>0.000000e+00</td>\n",
       "      <td>2.853100e+04</td>\n",
       "      <td>6.578090e+05</td>\n",
       "      <td>2.834840e+05</td>\n",
       "      <td>1.695450e+05</td>\n",
       "      <td>2.263600e+04</td>\n",
       "      <td>...</td>\n",
       "      <td>2548.000000</td>\n",
       "      <td>1485.000000</td>\n",
       "      <td>484.000000</td>\n",
       "      <td>1.922600e+04</td>\n",
       "      <td>2.758000e+03</td>\n",
       "      <td>2.455400e+04</td>\n",
       "      <td>187.134670</td>\n",
       "      <td>232.831510</td>\n",
       "      <td>179.324956</td>\n",
       "      <td>236.379102</td>\n",
       "    </tr>\n",
       "    <tr>\n",
       "      <th>25%</th>\n",
       "      <td>2002.000000</td>\n",
       "      <td>2.743105e+05</td>\n",
       "      <td>2.571806e+06</td>\n",
       "      <td>2.323988e+05</td>\n",
       "      <td>1.384262e+06</td>\n",
       "      <td>9.253550e+05</td>\n",
       "      <td>2.537691e+06</td>\n",
       "      <td>1.347766e+06</td>\n",
       "      <td>7.685512e+05</td>\n",
       "      <td>1.147892e+05</td>\n",
       "      <td>...</td>\n",
       "      <td>20166.750000</td>\n",
       "      <td>20564.750000</td>\n",
       "      <td>18304.000000</td>\n",
       "      <td>1.649732e+05</td>\n",
       "      <td>8.084075e+04</td>\n",
       "      <td>2.573745e+05</td>\n",
       "      <td>230.660761</td>\n",
       "      <td>273.383577</td>\n",
       "      <td>214.943439</td>\n",
       "      <td>259.956991</td>\n",
       "    </tr>\n",
       "    <tr>\n",
       "      <th>50%</th>\n",
       "      <td>2007.000000</td>\n",
       "      <td>6.638440e+05</td>\n",
       "      <td>5.842360e+06</td>\n",
       "      <td>4.945290e+05</td>\n",
       "      <td>2.906463e+06</td>\n",
       "      <td>2.335014e+06</td>\n",
       "      <td>5.959529e+06</td>\n",
       "      <td>2.999999e+06</td>\n",
       "      <td>1.776351e+06</td>\n",
       "      <td>3.029990e+05</td>\n",
       "      <td>...</td>\n",
       "      <td>50695.000000</td>\n",
       "      <td>49774.000000</td>\n",
       "      <td>40743.000000</td>\n",
       "      <td>4.052340e+05</td>\n",
       "      <td>1.859055e+05</td>\n",
       "      <td>6.232765e+05</td>\n",
       "      <td>237.041971</td>\n",
       "      <td>280.862695</td>\n",
       "      <td>220.962973</td>\n",
       "      <td>264.517851</td>\n",
       "    </tr>\n",
       "    <tr>\n",
       "      <th>75%</th>\n",
       "      <td>2012.000000</td>\n",
       "      <td>1.008680e+06</td>\n",
       "      <td>1.170678e+07</td>\n",
       "      <td>9.548370e+05</td>\n",
       "      <td>5.892033e+06</td>\n",
       "      <td>5.193129e+06</td>\n",
       "      <td>1.150621e+07</td>\n",
       "      <td>5.971732e+06</td>\n",
       "      <td>3.520381e+06</td>\n",
       "      <td>5.473685e+05</td>\n",
       "      <td>...</td>\n",
       "      <td>78924.000000</td>\n",
       "      <td>80671.250000</td>\n",
       "      <td>72551.000000</td>\n",
       "      <td>6.372388e+05</td>\n",
       "      <td>3.166840e+05</td>\n",
       "      <td>9.682915e+05</td>\n",
       "      <td>241.940254</td>\n",
       "      <td>285.257700</td>\n",
       "      <td>224.164324</td>\n",
       "      <td>267.663197</td>\n",
       "    </tr>\n",
       "    <tr>\n",
       "      <th>max</th>\n",
       "      <td>2017.000000</td>\n",
       "      <td>6.307022e+06</td>\n",
       "      <td>8.921726e+07</td>\n",
       "      <td>9.990221e+06</td>\n",
       "      <td>5.090457e+07</td>\n",
       "      <td>3.610526e+07</td>\n",
       "      <td>8.532013e+07</td>\n",
       "      <td>4.396452e+07</td>\n",
       "      <td>2.605802e+07</td>\n",
       "      <td>3.995951e+06</td>\n",
       "      <td>...</td>\n",
       "      <td>493415.000000</td>\n",
       "      <td>500143.000000</td>\n",
       "      <td>498403.000000</td>\n",
       "      <td>3.929869e+06</td>\n",
       "      <td>2.013687e+06</td>\n",
       "      <td>5.944746e+06</td>\n",
       "      <td>253.420961</td>\n",
       "      <td>300.568235</td>\n",
       "      <td>236.773867</td>\n",
       "      <td>280.499130</td>\n",
       "    </tr>\n",
       "  </tbody>\n",
       "</table>\n",
       "<p>8 rows × 23 columns</p>\n",
       "</div>"
      ],
      "text/plain": [
       "              YEAR        ENROLL  TOTAL_REVENUE  FEDERAL_REVENUE  \\\n",
       "count  1046.000000  1.046000e+03   1.046000e+03     1.046000e+03   \n",
       "mean   2006.970363  9.312498e+05   1.016897e+07     8.849582e+05   \n",
       "std       6.242782  1.104296e+06   1.288751e+07     1.261405e+06   \n",
       "min    1993.000000  4.386600e+04   6.559710e+05     4.062200e+04   \n",
       "25%    2002.000000  2.743105e+05   2.571806e+06     2.323988e+05   \n",
       "50%    2007.000000  6.638440e+05   5.842360e+06     4.945290e+05   \n",
       "75%    2012.000000  1.008680e+06   1.170678e+07     9.548370e+05   \n",
       "max    2017.000000  6.307022e+06   8.921726e+07     9.990221e+06   \n",
       "\n",
       "       STATE_REVENUE  LOCAL_REVENUE  TOTAL_EXPENDITURE  \\\n",
       "count   1.046000e+03   1.046000e+03       1.046000e+03   \n",
       "mean    4.715139e+06   4.568873e+06       1.025869e+07   \n",
       "std     6.105385e+06   5.989616e+06       1.308992e+07   \n",
       "min     0.000000e+00   2.853100e+04       6.578090e+05   \n",
       "25%     1.384262e+06   9.253550e+05       2.537691e+06   \n",
       "50%     2.906463e+06   2.335014e+06       5.959529e+06   \n",
       "75%     5.892033e+06   5.193129e+06       1.150621e+07   \n",
       "max     5.090457e+07   3.610526e+07       8.532013e+07   \n",
       "\n",
       "       INSTRUCTION_EXPENDITURE  SUPPORT_SERVICES_EXPENDITURE  \\\n",
       "count             1.046000e+03                  1.046000e+03   \n",
       "mean              5.302625e+06                  2.997572e+06   \n",
       "std               6.879720e+06                  3.665806e+06   \n",
       "min               2.834840e+05                  1.695450e+05   \n",
       "25%               1.347766e+06                  7.685512e+05   \n",
       "50%               2.999999e+06                  1.776351e+06   \n",
       "75%               5.971732e+06                  3.520381e+06   \n",
       "max               4.396452e+07                  2.605802e+07   \n",
       "\n",
       "       OTHER_EXPENDITURE  ...     GRADES_4_G     GRADES_8_G    GRADES_12_G  \\\n",
       "count       1.046000e+03  ...    1046.000000    1046.000000    1046.000000   \n",
       "mean        4.659259e+05  ...   71534.228967   71677.377629   62567.048279   \n",
       "std         5.757227e+05  ...   85272.286001   84302.592122   74919.819069   \n",
       "min         2.263600e+04  ...    2548.000000    1485.000000     484.000000   \n",
       "25%         1.147892e+05  ...   20166.750000   20564.750000   18304.000000   \n",
       "50%         3.029990e+05  ...   50695.000000   49774.000000   40743.000000   \n",
       "75%         5.473685e+05  ...   78924.000000   80671.250000   72551.000000   \n",
       "max         3.995951e+06  ...  493415.000000  500143.000000  498403.000000   \n",
       "\n",
       "       GRADES_1_8_G  GRADES_9_12_G  GRADES_ALL_G  AVG_MATH_4_SCORE  \\\n",
       "count  1.046000e+03   1.046000e+03  1.046000e+03       1046.000000   \n",
       "mean   5.751591e+05   2.797579e+05  8.764167e+05        235.269162   \n",
       "std    6.824060e+05   3.325605e+05  1.040403e+06          9.632646   \n",
       "min    1.922600e+04   2.758000e+03  2.455400e+04        187.134670   \n",
       "25%    1.649732e+05   8.084075e+04  2.573745e+05        230.660761   \n",
       "50%    4.052340e+05   1.859055e+05  6.232765e+05        237.041971   \n",
       "75%    6.372388e+05   3.166840e+05  9.682915e+05        241.940254   \n",
       "max    3.929869e+06   2.013687e+06  5.944746e+06        253.420961   \n",
       "\n",
       "       AVG_MATH_8_SCORE  AVG_READING_4_SCORE  AVG_READING_8_SCORE  \n",
       "count       1046.000000          1046.000000          1046.000000  \n",
       "mean         278.747113           219.099817           263.615681  \n",
       "std            9.912572             7.804302             5.768169  \n",
       "min          232.831510           179.324956           236.379102  \n",
       "25%          273.383577           214.943439           259.956991  \n",
       "50%          280.862695           220.962973           264.517851  \n",
       "75%          285.257700           224.164324           267.663197  \n",
       "max          300.568235           236.773867           280.499130  \n",
       "\n",
       "[8 rows x 23 columns]"
      ]
     },
     "execution_count": 13,
     "metadata": {},
     "output_type": "execute_result"
    }
   ],
   "source": [
    "df.describe()"
   ]
  },
  {
   "cell_type": "markdown",
   "metadata": {},
   "source": [
    "# Choose a state (e.g. California) and draw a line graph of its total revenues and total expenditures along the years. How do these 2 variables evolve during the years? Try to explain the peaks and troughs with some state-wise news and information around those dates."
   ]
  },
  {
   "cell_type": "code",
   "execution_count": 26,
   "metadata": {},
   "outputs": [
    {
     "name": "stdout",
     "output_type": "stream",
     "text": [
      "<class 'pandas.core.frame.DataFrame'>\n",
      "Int64Index: 1046 entries, 54 to 1491\n",
      "Data columns (total 25 columns):\n",
      " #   Column                        Non-Null Count  Dtype  \n",
      "---  ------                        --------------  -----  \n",
      " 0   PRIMARY_KEY                   1046 non-null   object \n",
      " 1   STATE                         1046 non-null   object \n",
      " 2   YEAR                          1046 non-null   int64  \n",
      " 3   ENROLL                        1046 non-null   float64\n",
      " 4   TOTAL_REVENUE                 1046 non-null   float64\n",
      " 5   FEDERAL_REVENUE               1046 non-null   float64\n",
      " 6   STATE_REVENUE                 1046 non-null   float64\n",
      " 7   LOCAL_REVENUE                 1046 non-null   float64\n",
      " 8   TOTAL_EXPENDITURE             1046 non-null   float64\n",
      " 9   INSTRUCTION_EXPENDITURE       1046 non-null   float64\n",
      " 10  SUPPORT_SERVICES_EXPENDITURE  1046 non-null   float64\n",
      " 11  OTHER_EXPENDITURE             1046 non-null   float64\n",
      " 12  CAPITAL_OUTLAY_EXPENDITURE    1046 non-null   float64\n",
      " 13  GRADES_PK_G                   1046 non-null   float64\n",
      " 14  GRADES_KG_G                   1046 non-null   float64\n",
      " 15  GRADES_4_G                    1046 non-null   float64\n",
      " 16  GRADES_8_G                    1046 non-null   float64\n",
      " 17  GRADES_12_G                   1046 non-null   float64\n",
      " 18  GRADES_1_8_G                  1046 non-null   float64\n",
      " 19  GRADES_9_12_G                 1046 non-null   float64\n",
      " 20  GRADES_ALL_G                  1046 non-null   float64\n",
      " 21  AVG_MATH_4_SCORE              1046 non-null   float64\n",
      " 22  AVG_MATH_8_SCORE              1046 non-null   float64\n",
      " 23  AVG_READING_4_SCORE           1046 non-null   float64\n",
      " 24  AVG_READING_8_SCORE           1046 non-null   float64\n",
      "dtypes: float64(22), int64(1), object(2)\n",
      "memory usage: 212.5+ KB\n"
     ]
    }
   ],
   "source": [
    "df.info()"
   ]
  },
  {
   "cell_type": "code",
   "execution_count": 15,
   "metadata": {},
   "outputs": [
    {
     "data": {
      "text/plain": [
       "<function matplotlib.pyplot.legend(*args, **kwargs)>"
      ]
     },
     "execution_count": 15,
     "metadata": {},
     "output_type": "execute_result"
    },
    {
     "data": {
      "image/png": "[encoded data removed]",
      "text/plain": [
       "<Figure size 432x288 with 1 Axes>"
      ]
     },
     "metadata": {},
     "output_type": "display_data"
    }
   ],
   "source": [
    "plotdata = df.loc[df['STATE']=='CALIFORNIA']\n",
    "sns.lineplot(x='YEAR', y='TOTAL_REVENUE', data = plotdata, label ='TR')\n",
    "sns.lineplot(x='YEAR', y='TOTAL_EXPENDITURE', data = plotdata, label = 'TE')\n",
    "plt.legend"
   ]
  },
  {
   "cell_type": "markdown",
   "metadata": {},
   "source": [
    "The housing crisis seems to correlate with the sudden decrease in revenue and expenditure"
   ]
  },
  {
   "cell_type": "markdown",
   "metadata": {},
   "source": [
    "# In your chosen state, which of the lessons are the students more successful, math or reading?"
   ]
  },
  {
   "cell_type": "code",
   "execution_count": 24,
   "metadata": {},
   "outputs": [
    {
     "data": {
      "text/plain": [
       "<matplotlib.axes._subplots.AxesSubplot at 0x7fc4e86d7d10>"
      ]
     },
     "execution_count": 24,
     "metadata": {},
     "output_type": "execute_result"
    },
    {
     "data": {
      "image/png": "[encoded data removed]",
      "text/plain": [
       "<Figure size 720x360 with 1 Axes>"
      ]
     },
     "metadata": {},
     "output_type": "display_data"
    }
   ],
   "source": [
    "#'AVG_MATH_4_SCORE', 'AVG_MATH_8_SCORE', 'AVG_READING_4_SCORE', 'AVG_READING_8_SCORE', data =\n",
    "\n",
    "dfmelt = pd.melt(df, id_vars=['STATE'], value_vars=['AVG_MATH_4_SCORE', 'AVG_MATH_8_SCORE', 'AVG_READING_4_SCORE', 'AVG_READING_8_SCORE'], var_name='subject', value_name='scores')\n",
    "plt.figure(figsize=(10, 5))\n",
    "plt.title('Average California test scores from 1992-2020')\n",
    "sns.barplot(x= 'subject', y= 'scores', data = dfmelt.loc[dfmelt['STATE']=='CALIFORNIA'])\n"
   ]
  },
  {
   "cell_type": "markdown",
   "metadata": {},
   "source": [
    "Math scores seem to be better on average "
   ]
  },
  {
   "cell_type": "markdown",
   "metadata": {},
   "source": [
    "# What are the distributions of the math and reading scores in the sample?"
   ]
  },
  {
   "cell_type": "code",
   "execution_count": 27,
   "metadata": {},
   "outputs": [
    {
     "name": "stdout",
     "output_type": "stream",
     "text": [
      "AVG_MATH_4_SCORE\n"
     ]
    },
    {
     "data": {
      "image/png": "[encoded data removed]",
      "text/plain": [
       "<Figure size 432x288 with 1 Axes>"
      ]
     },
     "metadata": {},
     "output_type": "display_data"
    },
    {
     "name": "stdout",
     "output_type": "stream",
     "text": [
      "AVG_MATH_8_SCORE\n"
     ]
    },
    {
     "data": {
      "image/png": "[encoded data removed]",
      "text/plain": [
       "<Figure size 432x288 with 1 Axes>"
      ]
     },
     "metadata": {},
     "output_type": "display_data"
    },
    {
     "name": "stdout",
     "output_type": "stream",
     "text": [
      "AVG_READING_4_SCORE\n"
     ]
    },
    {
     "data": {
      "image/png": "[encoded data removed]",
      "text/plain": [
       "<Figure size 432x288 with 1 Axes>"
      ]
     },
     "metadata": {},
     "output_type": "display_data"
    },
    {
     "name": "stdout",
     "output_type": "stream",
     "text": [
      "AVG_READING_8_SCORE\n"
     ]
    },
    {
     "data": {
      "image/png": "[encoded data removed]",
      "text/plain": [
       "<Figure size 432x288 with 1 Axes>"
      ]
     },
     "metadata": {},
     "output_type": "display_data"
    }
   ],
   "source": [
    "columns = df.columns[21:25]\n",
    "columns\n",
    "\n",
    "for x in columns:\n",
    "  plt.hist(df[x])\n",
    "  print(x)\n",
    "  plt.show()\n"
   ]
  },
  {
   "cell_type": "markdown",
   "metadata": {},
   "source": [
    "# Notice there are too many missing values for math and reading scores. Fill out the missing values using mean, median, and linear interpolation. Then compare the effects of these techniques on the distributions of the score variables. (You'll need to load the dataset once again to answer this question since we already filled in the missing values and then dropped the rows that have missing values.)"
   ]
  },
  {
   "cell_type": "code",
   "execution_count": 28,
   "metadata": {},
   "outputs": [
    {
     "name": "stdout",
     "output_type": "stream",
     "text": [
      "<class 'pandas.core.frame.DataFrame'>\n",
      "RangeIndex: 1492 entries, 0 to 1491\n",
      "Data columns (total 25 columns):\n",
      " #   Column                        Non-Null Count  Dtype  \n",
      "---  ------                        --------------  -----  \n",
      " 0   PRIMARY_KEY                   1492 non-null   object \n",
      " 1   STATE                         1492 non-null   object \n",
      " 2   YEAR                          1492 non-null   int64  \n",
      " 3   ENROLL                        1229 non-null   float64\n",
      " 4   TOTAL_REVENUE                 1280 non-null   float64\n",
      " 5   FEDERAL_REVENUE               1280 non-null   float64\n",
      " 6   STATE_REVENUE                 1280 non-null   float64\n",
      " 7   LOCAL_REVENUE                 1280 non-null   float64\n",
      " 8   TOTAL_EXPENDITURE             1280 non-null   float64\n",
      " 9   INSTRUCTION_EXPENDITURE       1280 non-null   float64\n",
      " 10  SUPPORT_SERVICES_EXPENDITURE  1280 non-null   float64\n",
      " 11  OTHER_EXPENDITURE             1229 non-null   float64\n",
      " 12  CAPITAL_OUTLAY_EXPENDITURE    1280 non-null   float64\n",
      " 13  GRADES_PK_G                   1319 non-null   float64\n",
      " 14  GRADES_KG_G                   1360 non-null   float64\n",
      " 15  GRADES_4_G                    1361 non-null   float64\n",
      " 16  GRADES_8_G                    1361 non-null   float64\n",
      " 17  GRADES_12_G                   1361 non-null   float64\n",
      " 18  GRADES_1_8_G                  1361 non-null   float64\n",
      " 19  GRADES_9_12_G                 1361 non-null   float64\n",
      " 20  GRADES_ALL_G                  1319 non-null   float64\n",
      " 21  AVG_MATH_4_SCORE              536 non-null    float64\n",
      " 22  AVG_MATH_8_SCORE              532 non-null    float64\n",
      " 23  AVG_READING_4_SCORE           533 non-null    float64\n",
      " 24  AVG_READING_8_SCORE           498 non-null    float64\n",
      "dtypes: float64(22), int64(1), object(2)\n",
      "memory usage: 291.5+ KB\n"
     ]
    }
   ],
   "source": [
    "postgres_user = 'dsbc_student'\n",
    "postgres_pw = '7*.8G9QH21'\n",
    "postgres_host = '142.93.121.174'\n",
    "postgres_port = '5432'\n",
    "postgres_db = 'useducation'\n",
    "\n",
    "engine = create_engine('postgresql://{}:{}@{}:{}/{}'.format(postgres_user,\n",
    "        postgres_pw, postgres_host, postgres_port, postgres_db))\n",
    "df = pd.read_sql_query('select * from useducation',con=engine)\n",
    "engine.dispose()\n",
    "df.info()"
   ]
  },
  {
   "cell_type": "code",
   "execution_count": 29,
   "metadata": {},
   "outputs": [
    {
     "name": "stdout",
     "output_type": "stream",
     "text": [
      "AVG_MATH_4_SCORE\n"
     ]
    },
    {
     "data": {
      "image/png": "[encoded data removed]",
      "text/plain": [
       "<Figure size 432x288 with 1 Axes>"
      ]
     },
     "metadata": {},
     "output_type": "display_data"
    },
    {
     "name": "stdout",
     "output_type": "stream",
     "text": [
      "AVG_MATH_8_SCORE\n"
     ]
    },
    {
     "data": {
      "image/png": "[encoded data removed]",
      "text/plain": [
       "<Figure size 432x288 with 1 Axes>"
      ]
     },
     "metadata": {},
     "output_type": "display_data"
    },
    {
     "name": "stdout",
     "output_type": "stream",
     "text": [
      "AVG_READING_4_SCORE\n"
     ]
    },
    {
     "data": {
      "image/png": "[encoded data removed]",
      "text/plain": [
       "<Figure size 432x288 with 1 Axes>"
      ]
     },
     "metadata": {},
     "output_type": "display_data"
    },
    {
     "name": "stdout",
     "output_type": "stream",
     "text": [
      "AVG_READING_8_SCORE\n"
     ]
    },
    {
     "data": {
      "image/png": "[encoded data removed]",
      "text/plain": [
       "<Figure size 432x288 with 1 Axes>"
      ]
     },
     "metadata": {},
     "output_type": "display_data"
    }
   ],
   "source": [
    "#Filling with mean\n",
    "dfmean = df.fillna(df.mean())\n",
    "columns = dfmean.columns[21:25]\n",
    "columns\n",
    "\n",
    "for x in columns:\n",
    "  plt.hist(dfmean[x])\n",
    "  print(x)\n",
    "  plt.show()\n"
   ]
  },
  {
   "cell_type": "code",
   "execution_count": 30,
   "metadata": {},
   "outputs": [
    {
     "name": "stdout",
     "output_type": "stream",
     "text": [
      "AVG_MATH_4_SCORE\n"
     ]
    },
    {
     "data": {
      "image/png": "[encoded data removed]",
      "text/plain": [
       "<Figure size 432x288 with 1 Axes>"
      ]
     },
     "metadata": {},
     "output_type": "display_data"
    },
    {
     "name": "stdout",
     "output_type": "stream",
     "text": [
      "AVG_MATH_8_SCORE\n"
     ]
    },
    {
     "data": {
      "image/png": "[encoded data removed]",
      "text/plain": [
       "<Figure size 432x288 with 1 Axes>"
      ]
     },
     "metadata": {},
     "output_type": "display_data"
    },
    {
     "name": "stdout",
     "output_type": "stream",
     "text": [
      "AVG_READING_4_SCORE\n"
     ]
    },
    {
     "data": {
      "image/png": "[encoded data removed]",
      "text/plain": [
       "<Figure size 432x288 with 1 Axes>"
      ]
     },
     "metadata": {},
     "output_type": "display_data"
    },
    {
     "name": "stdout",
     "output_type": "stream",
     "text": [
      "AVG_READING_8_SCORE\n"
     ]
    },
    {
     "data": {
      "image/png": "[encoded data removed]",
      "text/plain": [
       "<Figure size 432x288 with 1 Axes>"
      ]
     },
     "metadata": {},
     "output_type": "display_data"
    }
   ],
   "source": [
    "#Filling with median\n",
    "#Filling with mean\n",
    "dfmedian = df.fillna(df.median())\n",
    "columns = dfmedian.columns[21:25]\n",
    "columns\n",
    "\n",
    "for x in columns:\n",
    "  plt.hist(dfmedian[x])\n",
    "  print(x)\n",
    "  plt.show()\n"
   ]
  },
  {
   "cell_type": "code",
   "execution_count": 31,
   "metadata": {},
   "outputs": [
    {
     "name": "stdout",
     "output_type": "stream",
     "text": [
      "AVG_MATH_4_SCORE\n"
     ]
    },
    {
     "data": {
      "image/png": "[encoded data removed]",
      "text/plain": [
       "<Figure size 432x288 with 1 Axes>"
      ]
     },
     "metadata": {},
     "output_type": "display_data"
    },
    {
     "name": "stdout",
     "output_type": "stream",
     "text": [
      "AVG_MATH_8_SCORE\n"
     ]
    },
    {
     "data": {
      "image/png": "[encoded data removed]",
      "text/plain": [
       "<Figure size 432x288 with 1 Axes>"
      ]
     },
     "metadata": {},
     "output_type": "display_data"
    },
    {
     "name": "stdout",
     "output_type": "stream",
     "text": [
      "AVG_READING_4_SCORE\n"
     ]
    },
    {
     "data": {
      "image/png": "[encoded data removed]",
      "text/plain": [
       "<Figure size 432x288 with 1 Axes>"
      ]
     },
     "metadata": {},
     "output_type": "display_data"
    },
    {
     "name": "stdout",
     "output_type": "stream",
     "text": [
      "AVG_READING_8_SCORE\n"
     ]
    },
    {
     "data": {
      "image/png": "[encoded data removed]",
      "text/plain": [
       "<Figure size 432x288 with 1 Axes>"
      ]
     },
     "metadata": {},
     "output_type": "display_data"
    }
   ],
   "source": [
    "#Filling with interpolation\n",
    "dfinterp = df.fillna(df.interpolate())\n",
    "columns = dfinterp.columns[21:25]\n",
    "columns\n",
    "\n",
    "for x in columns:\n",
    "  plt.hist(dfinterp[x])\n",
    "  print(x)\n",
    "  plt.show()"
   ]
  },
  {
   "cell_type": "code",
   "execution_count": null,
   "metadata": {},
   "outputs": [],
   "source": []
  },
  {
   "cell_type": "code",
   "execution_count": null,
   "metadata": {},
   "outputs": [],
   "source": []
  }
 ],
 "metadata": {
  "kernelspec": {
   "display_name": "Python 3",
   "language": "python",
   "name": "python3"
  },
  "language_info": {
   "codemirror_mode": {
    "name": "ipython",
    "version": 3
   },
   "file_extension": ".py",
   "mimetype": "text/x-python",
   "name": "python",
   "nbconvert_exporter": "python",
   "pygments_lexer": "ipython3",
   "version": "3.7.4"
  }
 },
 "nbformat": 4,
 "nbformat_minor": 4
}
