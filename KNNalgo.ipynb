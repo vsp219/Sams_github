{
  "nbformat": 4,
  "nbformat_minor": 0,
  "metadata": {
    "colab": {
      "name": "KNNalgo.ipynb",
      "provenance": [],
      "collapsed_sections": []
    },
    "kernelspec": {
      "name": "python3",
      "display_name": "Python 3"
    }
  },
  "cells": [
    {
      "cell_type": "code",
      "metadata": {
        "id": "reJldrwh_4zo",
        "colab_type": "code",
        "colab": {}
      },
      "source": [
        "import seaborn as sns\n",
        "import pandas as pd\n",
        "import numpy as np"
      ],
      "execution_count": 0,
      "outputs": []
    },
    {
      "cell_type": "code",
      "metadata": {
        "id": "_PjZNVfx_1g-",
        "colab_type": "code",
        "outputId": "2e040bd5-2701-4765-b3ff-142dda2ab239",
        "colab": {
          "base_uri": "https://localhost:8080/",
          "height": 466
        }
      },
      "source": [
        "# Generate dataframe\n",
        "x = pd.DataFrame([[63,70,34,79,60,67,77,78,23,75,20,95,88,78,54,56],[45,50,46,55,67,56,50,54,40,85,47,55,23,25,44,67],['zeeb','booble','zeeb','booble','zeeb','booble','zeeb','booble','zeeb','booble','zeeb','booble','zeeb','booble','zeeb','booble']])\n",
        "\n",
        "print(len(x[0]))\n",
        "\n",
        "x= x.T\n",
        "x = x.rename(columns={0: 'col1', 1: 'col2',2:'target'})\n",
        "x['col1'] = x['col1']+100\n",
        "x['col1'] = pd.to_numeric(x['col1'])\n",
        "x['col2'] = pd.to_numeric(x['col2'])\n",
        "\n",
        "sns.scatterplot(x=x['col1'], y=x['col2'], hue=x['target'])\n",
        "x.info()\n"
      ],
      "execution_count": 0,
      "outputs": [
        {
          "output_type": "stream",
          "text": [
            "3\n",
            "<class 'pandas.core.frame.DataFrame'>\n",
            "RangeIndex: 16 entries, 0 to 15\n",
            "Data columns (total 3 columns):\n",
            " #   Column  Non-Null Count  Dtype \n",
            "---  ------  --------------  ----- \n",
            " 0   col1    16 non-null     int64 \n",
            " 1   col2    16 non-null     int64 \n",
            " 2   target  16 non-null     object\n",
            "dtypes: int64(2), object(1)\n",
            "memory usage: 512.0+ bytes\n"
          ],
          "name": "stdout"
        },
        {
          "output_type": "display_data",
          "data": {
            "image/png": "[encoded data removed]",
            "text/plain": [
              "<Figure size 432x288 with 1 Axes>"
            ]
          },
          "metadata": {
            "tags": [],
            "needs_background": "light"
          }
        }
      ]
    },
    {
      "cell_type": "code",
      "metadata": {
        "id": "NVHKuIphEQBu",
        "colab_type": "code",
        "outputId": "402f8f1f-3c82-4dba-b5c4-e723fcf54592",
        "colab": {
          "base_uri": "https://localhost:8080/",
          "height": 34
        }
      },
      "source": [
        "# Your nearest neighbor algorithm here.\n",
        "\n",
        "def nnalgo(col1, col2):\n",
        "  diff1 = []\n",
        "  dist = []\n",
        "  diff2 = []\n",
        "  for i in x['col1']:\n",
        "    diff1.append((col1-i))\n",
        "  for i in x['col2']:\n",
        "    diff2.append((col2-i))\n",
        "  for i in range(x.shape[0]):\n",
        "    dist.append(np.sqrt(diff1[i]**2 + diff2[i]**2))\n",
        "  dist\n",
        "  return x.iloc[dist.index(min(dist)),2]\n",
        "\n",
        "\n",
        "nnalgo(130,30)"
      ],
      "execution_count": 0,
      "outputs": [
        {
          "output_type": "execute_result",
          "data": {
            "text/plain": [
              "'zeeb'"
            ]
          },
          "metadata": {
            "tags": []
          },
          "execution_count": 73
        }
      ]
    }
  ]
}