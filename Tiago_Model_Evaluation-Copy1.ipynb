{
 "cells": [
  {
   "cell_type": "code",
   "execution_count": 34,
   "metadata": {
    "colab": {},
    "colab_type": "code",
    "id": "CucDRI3maJBA"
   },
   "outputs": [],
   "source": [
    "# all imports in one place for convenience\n",
    "import matplotlib.pyplot as plt\n",
    "from sklearn.datasets import fetch_20newsgroups_vectorized\n",
    "import numpy as np\n",
    "import pandas as pd\n",
    "import seaborn as sns\n",
    "from sklearn.linear_model import LogisticRegression\n",
    "from sklearn.model_selection import train_test_split, cross_val_score\n",
    "from sklearn.dummy import DummyClassifier\n",
    "from sklearn.metrics import confusion_matrix\n",
    "from sklearn.utils.multiclass import unique_labels\n",
    "from sklearn.metrics import accuracy_score, precision_score, recall_score, f1_score, fbeta_score, classification_report\n",
    "from sklearn.metrics import roc_curve, precision_recall_curve, roc_auc_score\n",
    "%matplotlib inline\n"
   ]
  },
  {
   "cell_type": "markdown",
   "metadata": {
    "colab_type": "text",
    "id": "Lmo4B_L4bKvN"
   },
   "source": [
    "## 20 Newsgroups Dataset\n",
    "For this example we will use the 20 newsgroups dataset which can be loaded using scikit-learn's dataset library. The 20 newsgroups dataset comprises around 18000 newsgroups posts on 20 topics."
   ]
  },
  {
   "cell_type": "code",
   "execution_count": 60,
   "metadata": {
    "colab": {
     "base_uri": "https://localhost:8080/",
     "height": 51
    },
    "colab_type": "code",
    "id": "wHxgkVxYaffN",
    "outputId": "631d3cfd-34a8-49f6-dcfe-864cf4d2c221"
   },
   "outputs": [
    {
     "name": "stdout",
     "output_type": "stream",
     "text": [
      "<class 'numpy.ndarray'>\n"
     ]
    }
   ],
   "source": [
    "dataset = fetch_20newsgroups_vectorized()\n",
    "X, y = dataset.data, dataset.target\n",
    "print(type(dataset.target))\n"
   ]
  },
  {
   "cell_type": "markdown",
   "metadata": {
    "colab_type": "text",
    "id": "0ik7deMzc4b5"
   },
   "source": [
    "Next, we can count the number of instances for each class."
   ]
  },
  {
   "cell_type": "code",
   "execution_count": 36,
   "metadata": {
    "colab": {
     "base_uri": "https://localhost:8080/",
     "height": 357
    },
    "colab_type": "code",
    "id": "MwKasyg3avtm",
    "outputId": "36a173e6-0a44-45e7-f82f-6d52e4e5c7a1"
   },
   "outputs": [
    {
     "name": "stdout",
     "output_type": "stream",
     "text": [
      "alt.atheism 480\n",
      "comp.graphics 584\n",
      "comp.os.ms-windows.misc 591\n",
      "comp.sys.ibm.pc.hardware 590\n",
      "comp.sys.mac.hardware 578\n",
      "comp.windows.x 593\n",
      "misc.forsale 585\n",
      "rec.autos 594\n",
      "rec.motorcycles 598\n",
      "rec.sport.baseball 597\n",
      "rec.sport.hockey 600\n",
      "sci.crypt 595\n",
      "sci.electronics 591\n",
      "sci.med 594\n",
      "sci.space 593\n",
      "soc.religion.christian 599\n",
      "talk.politics.guns 546\n",
      "talk.politics.mideast 564\n",
      "talk.politics.misc 465\n",
      "talk.religion.misc 377\n"
     ]
    }
   ],
   "source": [
    "for class_name, class_count  in zip(dataset.target_names, np.bincount(dataset.target)):\n",
    "    print(class_name, class_count)"
   ]
  },
  {
   "cell_type": "markdown",
   "metadata": {
    "colab_type": "text",
    "id": "1wm4CefddPJj"
   },
   "source": [
    "We see that this is a well-balanced dataset. That is, each class is fairly evenly represented. Unfortunately, we do not always find such evenly distributed data in real life. So to look at the impact of an unbalanced dataset, let us reduce this dataset to just two classes: *sci.space* and everything else. First, make a copy of the target data, then replace all instances of classes that are not *sci.space* with 0, and all instances of *sci.space* with 1.\n",
    "\n",
    "To see the effect of this change, look at the counts for each class again:"
   ]
  },
  {
   "cell_type": "code",
   "execution_count": 37,
   "metadata": {
    "colab": {
     "base_uri": "https://localhost:8080/",
     "height": 34
    },
    "colab_type": "code",
    "id": "q2H3FdQTgTTC",
    "outputId": "2082df9d-5d86-4cc7-ce23-4674307ee71b"
   },
   "outputs": [
    {
     "data": {
      "text/plain": [
       "array([10721,   593])"
      ]
     },
     "execution_count": 37,
     "metadata": {},
     "output_type": "execute_result"
    }
   ],
   "source": [
    "y_2 = y.copy()\n",
    "y_2[y_2 != 14] = 0\n",
    "y_2[y_2 == 14] = 1\n",
    "\n",
    "np.bincount(y_2)"
   ]
  },
  {
   "cell_type": "markdown",
   "metadata": {
    "colab_type": "text",
    "id": "JdjoWKjTiPR_"
   },
   "source": [
    "Now we have a dataset that is **class imbalanced**: that is, in the negative class representing posts that are **not** about space, we have 10,721, instances and in the positive class, representing posts about space we only have 593 instances. Now we can train a classifier to predict if a post is about space or not. Let us use the logistic regression classifier."
   ]
  },
  {
   "cell_type": "code",
   "execution_count": 38,
   "metadata": {},
   "outputs": [
    {
     "name": "stdout",
     "output_type": "stream",
     "text": [
      "  (0, 0)\t0.08481889296799709\n",
      "  (0, 789)\t0.08481889296799709\n",
      "  (0, 6475)\t0.08481889296799709\n",
      "  (0, 8713)\t0.08481889296799709\n",
      "  (0, 8925)\t0.08481889296799709\n",
      "  (0, 15530)\t0.08481889296799709\n",
      "  (0, 26605)\t0.08481889296799709\n",
      "  (0, 27618)\t0.08481889296799709\n",
      "  (0, 28989)\t0.08481889296799709\n",
      "  (0, 29573)\t0.08481889296799709\n",
      "  (0, 30107)\t0.08481889296799709\n",
      "  (0, 30112)\t0.08481889296799709\n",
      "  (0, 32311)\t0.08481889296799709\n",
      "  (0, 32417)\t0.08481889296799709\n",
      "  (0, 32517)\t0.08481889296799709\n",
      "  (0, 33663)\t0.2544566789039913\n",
      "  (0, 35805)\t0.16963778593599418\n",
      "  (0, 39583)\t0.08481889296799709\n",
      "  (0, 39596)\t0.08481889296799709\n",
      "  (0, 43740)\t0.08481889296799709\n",
      "  (0, 50527)\t0.2544566789039913\n",
      "  (0, 54895)\t0.08481889296799709\n",
      "  (0, 55525)\t0.08481889296799709\n",
      "  (0, 56979)\t0.08481889296799709\n",
      "  (0, 58632)\t0.08481889296799709\n",
      "  :\t:\n",
      "  (2828, 56979)\t0.13130643285972254\n",
      "  (2828, 58095)\t0.39391929857916763\n",
      "  (2828, 59764)\t0.13130643285972254\n",
      "  (2828, 62821)\t0.13130643285972254\n",
      "  (2828, 63246)\t0.13130643285972254\n",
      "  (2828, 67496)\t0.13130643285972254\n",
      "  (2828, 68532)\t0.2626128657194451\n",
      "  (2828, 74334)\t0.2626128657194451\n",
      "  (2828, 76032)\t0.13130643285972254\n",
      "  (2828, 77163)\t0.2626128657194451\n",
      "  (2828, 80956)\t0.13130643285972254\n",
      "  (2828, 90379)\t0.13130643285972254\n",
      "  (2828, 90729)\t0.13130643285972254\n",
      "  (2828, 90774)\t0.13130643285972254\n",
      "  (2828, 94524)\t0.13130643285972254\n",
      "  (2828, 99253)\t0.13130643285972254\n",
      "  (2828, 101005)\t0.13130643285972254\n",
      "  (2828, 106027)\t0.13130643285972254\n",
      "  (2828, 106371)\t0.13130643285972254\n",
      "  (2828, 107308)\t0.13130643285972254\n",
      "  (2828, 107964)\t0.13130643285972254\n",
      "  (2828, 110558)\t0.2626128657194451\n",
      "  (2828, 111322)\t0.13130643285972254\n",
      "  (2828, 114455)\t0.13130643285972254\n",
      "  (2828, 115508)\t0.13130643285972254\n"
     ]
    }
   ],
   "source": [
    "X_train, X_test, y_train, y_test = train_test_split(X, y_2, random_state=82)\n",
    "print(X_test)"
   ]
  },
  {
   "cell_type": "code",
   "execution_count": 39,
   "metadata": {
    "colab": {
     "base_uri": "https://localhost:8080/",
     "height": 34
    },
    "colab_type": "code",
    "id": "lK7dTfctjG-p",
    "outputId": "f481f2f6-9b33-413d-f267-8daa9ff5386c"
   },
   "outputs": [
    {
     "data": {
      "text/plain": [
       "0.9671261930010604"
      ]
     },
     "execution_count": 39,
     "metadata": {},
     "output_type": "execute_result"
    }
   ],
   "source": [
    "\n",
    "lr = LogisticRegression(solver='lbfgs')\n",
    "lr.fit(X_train, y_train)\n",
    "lr.score(X_test, y_test)"
   ]
  },
  {
   "cell_type": "markdown",
   "metadata": {
    "colab_type": "text",
    "id": "ppiSOaAuj1Cp"
   },
   "source": [
    "Not bad! Without any tuning we got an accuracy of 0.967. An accuracy of 96.7% is quite good, but before we celebrate our data science skills, let's examine what this means in the context of an imbalanced dataset.\n",
    "\n",
    "Suppose we wrote a classifier that did no work at all, did not even look at the features, just simply returned all predictions to be the dominant class. In this case, the dominant class is the negative class. So our dummy classifier will predict the negative class 100% of the time. What is the accuracy of the dummy classifier? Take a moment to think about it.\n",
    "\n",
    "Recall that \n",
    "\n",
    "$$ accuracy = \\frac{ \\# correct predictions}{all predictions}$$\n",
    "\n",
    "Since we have 10,721 negative samples, our dummy classifier will be right 10,721 times and wrong 593 times.\n",
    "\n",
    "$$ accuracy = \\frac{10721}{10721 + 593} = 0.94759$$\n",
    "\n",
    "Still pretty impressive!\n",
    "\n",
    "Scikit-learn actually has a dummy classifier to help illustrate this exact scenario."
   ]
  },
  {
   "cell_type": "code",
   "execution_count": 40,
   "metadata": {
    "colab": {
     "base_uri": "https://localhost:8080/",
     "height": 34
    },
    "colab_type": "code",
    "id": "t8wSuCaMnlqP",
    "outputId": "0cf5e9c0-9ae1-4988-e417-c6492f2bd9b3"
   },
   "outputs": [
    {
     "data": {
      "text/plain": [
       "0.9568752209261223"
      ]
     },
     "execution_count": 40,
     "metadata": {},
     "output_type": "execute_result"
    }
   ],
   "source": [
    "dummy = DummyClassifier(strategy = 'most_frequent')\n",
    "dummy.fit(X_train, y_train)\n",
    "dummy.score(X_test, y_test)\n"
   ]
  },
  {
   "cell_type": "markdown",
   "metadata": {
    "colab_type": "text",
    "id": "DCdip2fyoeV9"
   },
   "source": [
    "Remember, the dummy classifier does not actually use the features to make a prediction, it just looks at which class is dominant and returns that one every time. Here, on our test data we get an accuracy of over 95%, almost as good as our real classifier. Given the closeness of these two results, can we really be confident that our classifier is doing such a great job?\n",
    "\n",
    "This dummy classifier is quite useful for many reasons. It gives a null accuracy baseline to which you can compare your model's performance. This way we know if our classifier is doing better than just a random guess.\n",
    "\n",
    "If your model's accuracy is close to the null accuracy baseline it might mean that:\n",
    "\n",
    " - your features are not good predictors for your problem.\n",
    " - your algorithm's parameters may need tuning.\n",
    " - you have a large class imbalance.\n",
    " \n",
    " "
   ]
  },
  {
   "cell_type": "markdown",
   "metadata": {
    "colab_type": "text",
    "id": "B6mvvQGWutAx"
   },
   "source": [
    "## Confusion Matrix\n",
    "The confusion matrix is simply a table showing every combination of predicted and actual values. It makes it easy to see what type of errors your model is making and allows for the generation of a number of metrics describing the performance of your model. Scikit-learn comes with a function to calculate the confusion matrix given the set of actual values and the set of predictions.\n",
    "\n",
    "## Why do we use a confusion Matrix?\n",
    "\n",
    "While it is important to have good accuracy, it does not tell the whole story.  The confusion matrix gives us a deeper understanding of what is going on with our classification model performance by showing us how things are bucketed. It reveals to us which datapoints are bucketed correctly and which ones were not.  \n",
    "\n",
    "We will explain more about this further in a bit.\n"
   ]
  },
  {
   "cell_type": "code",
   "execution_count": 41,
   "metadata": {
    "colab": {
     "base_uri": "https://localhost:8080/",
     "height": 51
    },
    "colab_type": "code",
    "id": "ycg9sXrMwhCw",
    "outputId": "b9f5e406-d3b2-4685-e2ac-e1434afd4006"
   },
   "outputs": [
    {
     "name": "stdout",
     "output_type": "stream",
     "text": [
      "  (0, 0)\t0.08481889296799709\n",
      "  (0, 789)\t0.08481889296799709\n",
      "  (0, 6475)\t0.08481889296799709\n",
      "  (0, 8713)\t0.08481889296799709\n",
      "  (0, 8925)\t0.08481889296799709\n",
      "  (0, 15530)\t0.08481889296799709\n",
      "  (0, 26605)\t0.08481889296799709\n",
      "  (0, 27618)\t0.08481889296799709\n",
      "  (0, 28989)\t0.08481889296799709\n",
      "  (0, 29573)\t0.08481889296799709\n",
      "  (0, 30107)\t0.08481889296799709\n",
      "  (0, 30112)\t0.08481889296799709\n",
      "  (0, 32311)\t0.08481889296799709\n",
      "  (0, 32417)\t0.08481889296799709\n",
      "  (0, 32517)\t0.08481889296799709\n",
      "  (0, 33663)\t0.2544566789039913\n",
      "  (0, 35805)\t0.16963778593599418\n",
      "  (0, 39583)\t0.08481889296799709\n",
      "  (0, 39596)\t0.08481889296799709\n",
      "  (0, 43740)\t0.08481889296799709\n",
      "  (0, 50527)\t0.2544566789039913\n",
      "  (0, 54895)\t0.08481889296799709\n",
      "  (0, 55525)\t0.08481889296799709\n",
      "  (0, 56979)\t0.08481889296799709\n",
      "  (0, 58632)\t0.08481889296799709\n",
      "  :\t:\n",
      "  (2828, 56979)\t0.13130643285972254\n",
      "  (2828, 58095)\t0.39391929857916763\n",
      "  (2828, 59764)\t0.13130643285972254\n",
      "  (2828, 62821)\t0.13130643285972254\n",
      "  (2828, 63246)\t0.13130643285972254\n",
      "  (2828, 67496)\t0.13130643285972254\n",
      "  (2828, 68532)\t0.2626128657194451\n",
      "  (2828, 74334)\t0.2626128657194451\n",
      "  (2828, 76032)\t0.13130643285972254\n",
      "  (2828, 77163)\t0.2626128657194451\n",
      "  (2828, 80956)\t0.13130643285972254\n",
      "  (2828, 90379)\t0.13130643285972254\n",
      "  (2828, 90729)\t0.13130643285972254\n",
      "  (2828, 90774)\t0.13130643285972254\n",
      "  (2828, 94524)\t0.13130643285972254\n",
      "  (2828, 99253)\t0.13130643285972254\n",
      "  (2828, 101005)\t0.13130643285972254\n",
      "  (2828, 106027)\t0.13130643285972254\n",
      "  (2828, 106371)\t0.13130643285972254\n",
      "  (2828, 107308)\t0.13130643285972254\n",
      "  (2828, 107964)\t0.13130643285972254\n",
      "  (2828, 110558)\t0.2626128657194451\n",
      "  (2828, 111322)\t0.13130643285972254\n",
      "  (2828, 114455)\t0.13130643285972254\n",
      "  (2828, 115508)\t0.13130643285972254\n",
      "<bound method LinearClassifierMixin.predict of LogisticRegression()>\n",
      "[[  29   93]\n",
      " [   0 2707]]\n"
     ]
    },
    {
     "data": {
      "text/plain": [
       "array([0, 0, 0, ..., 0, 0, 0])"
      ]
     },
     "execution_count": 41,
     "metadata": {},
     "output_type": "execute_result"
    }
   ],
   "source": [
    "\n",
    "predictions = lr.predict(X_test)\n",
    "predictions2 = lr.predict(X_test)\n",
    "print(X_test)\n",
    "print(lr.predict)\n",
    "\n",
    "confusion = confusion_matrix(y_test, predictions, labels=[1, 0])\n",
    "print(confusion)\n",
    "predictions"
   ]
  },
  {
   "cell_type": "markdown",
   "metadata": {
    "colab_type": "text",
    "id": "6ezOecLMyeZt"
   },
   "source": [
    "We'll interpret this in a minute.\n",
    "\n",
    "While this gives us all the information we need, it is not easy to read. To get a prettier picture of the confusion matrix we could use [this function taken from here](https://www.kaggle.com/grfiv4/plot-a-confusion-matrix), or any one of many similar functions you may find on the web."
   ]
  },
  {
   "cell_type": "code",
   "execution_count": 42,
   "metadata": {
    "colab": {},
    "colab_type": "code",
    "id": "IQWUgUrNycCz"
   },
   "outputs": [],
   "source": [
    "def plot_confusion_matrix(cm,\n",
    "                          target_names,\n",
    "                          title='Confusion matrix',\n",
    "                          cmap=None,\n",
    "                          normalize=True):\n",
    "    \"\"\"\n",
    "    given a sklearn confusion matrix (cm), make a nice plot\n",
    "\n",
    "    Arguments\n",
    "    ---------\n",
    "    cm:           confusion matrix from sklearn.metrics.confusion_matrix\n",
    "\n",
    "    target_names: given classification classes such as [0, 1, 2]\n",
    "                  the class names, for example: ['high', 'medium', 'low']\n",
    "\n",
    "    title:        the text to display at the top of the matrix\n",
    "\n",
    "    cmap:         the gradient of the values displayed from matplotlib.pyplot.cm\n",
    "                  see http://matplotlib.org/examples/color/colormaps_reference.html\n",
    "                  plt.get_cmap('jet') or plt.cm.Blues\n",
    "\n",
    "    normalize:    If False, plot the raw numbers\n",
    "                  If True, plot the proportions\n",
    "\n",
    "    Usage\n",
    "    -----\n",
    "    plot_confusion_matrix(cm           = cm,                  # confusion matrix created by\n",
    "                                                              # sklearn.metrics.confusion_matrix\n",
    "                          normalize    = True,                # show proportions\n",
    "                          target_names = y_labels_vals,       # list of names of the classes\n",
    "                          title        = best_estimator_name) # title of graph\n",
    "\n",
    "    Citiation\n",
    "    ---------\n",
    "    http://scikit-learn.org/stable/auto_examples/model_selection/plot_confusion_matrix.html\n",
    "\n",
    "    \"\"\"\n",
    "    import matplotlib.pyplot as plt\n",
    "    import numpy as np\n",
    "    import itertools\n",
    "\n",
    "    accuracy = np.trace(cm) / float(np.sum(cm))\n",
    "    misclass = 1 - accuracy\n",
    "\n",
    "    if cmap is None:\n",
    "        cmap = plt.get_cmap('Blues')\n",
    "\n",
    "    plt.figure(figsize=(8, 6))\n",
    "    plt.imshow(cm, interpolation='nearest', cmap=cmap)\n",
    "    plt.title(title)\n",
    "    plt.colorbar()\n",
    "\n",
    "    if target_names is not None:\n",
    "        tick_marks = np.arange(len(target_names))\n",
    "        plt.xticks(tick_marks, target_names, rotation=45)\n",
    "        plt.yticks(tick_marks, target_names)\n",
    "\n",
    "    if normalize:\n",
    "        cm = cm.astype('float') / cm.sum(axis=1)[:, np.newaxis]\n",
    "\n",
    "\n",
    "    thresh = cm.max() / 1.5 if normalize else cm.max() / 2\n",
    "    for i, j in itertools.product(range(cm.shape[0]), range(cm.shape[1])):\n",
    "        if normalize:\n",
    "            plt.text(j, i, \"{:0.4f}\".format(cm[i, j]),\n",
    "                     horizontalalignment=\"center\",\n",
    "                     color=\"white\" if cm[i, j] > thresh else \"black\")\n",
    "        else:\n",
    "            plt.text(j, i, \"{:,}\".format(cm[i, j]),\n",
    "                     horizontalalignment=\"center\",\n",
    "                     color=\"white\" if cm[i, j] > thresh else \"black\")\n",
    "\n",
    "\n",
    "    plt.tight_layout()\n",
    "    plt.ylabel('True label')\n",
    "    plt.xlabel('Predicted label\\naccuracy={:0.4f}; misclass={:0.4f}'.format(accuracy, misclass))\n",
    "    plt.show()"
   ]
  },
  {
   "cell_type": "code",
   "execution_count": 43,
   "metadata": {
    "colab": {
     "base_uri": "https://localhost:8080/",
     "height": 467
    },
    "colab_type": "code",
    "id": "h693RNJOywey",
    "outputId": "5be3d3c4-7b23-4c22-e89c-1b7182877f75"
   },
   "outputs": [
    {
     "data": {
      "image/png": "[encoded data removed]",
      "text/plain": [
       "<Figure size 576x432 with 2 Axes>"
      ]
     },
     "metadata": {
      "needs_background": "light"
     },
     "output_type": "display_data"
    }
   ],
   "source": [
    "plot_confusion_matrix(cm=confusion, target_names = ['Space', 'Not Space'], title = 'Confusion Matrix',normalize=False)\n"
   ]
  },
  {
   "cell_type": "markdown",
   "metadata": {
    "colab_type": "text",
    "id": "JHae2YkV9PIT"
   },
   "source": [
    "Notice that the numbers appearing in the boxes of the plot above are the same as in the text-based matrix that scikit-learn produced. But this labeled diagram is much better to look at for visually evaluating a confusion matrix.\n",
    "\n",
    "### Interpreting the Matrix\n",
    "\n",
    "But what do the numbers mean? Suppose we trained a binary classification model to recognize images of cats vs no cats.  We build a dataset of images correctly labeled as cats in a photo and other images with no cats. Then we run the model on a labeled test set with several images, some of cats and some with no cats.  Some images are predicted correctly as truly cats in the image, but some of the pictures of cats were falsely bucketed as not a cat.  The reverse can happen where pictures were truely classified as not a cat, but some have slipped through and there was a cat in the photo.  \n",
    "\n",
    "We could then count the number of times that our model correctly predicted cats, correctly predicted no cats, incorrectly predicted cats and incorrectly predicted no cats. These are the numbers that we plug into the confusion matrix.\n",
    "\n",
    "From the image above we can define **True Postives (TP)** as the number of of times the model correctly predicts the positive class (cat) and, **True Negatives (TN)** as the number of times the model correctly predicts the negative class (no cat). \n",
    "\n",
    "**False Positives (FP)** is the number of times the model incorrectly predicts the positive class and **False Negatives (FN)** is the number of times the model incorrectly predicts the negative class. In statistics false positives are called *Type I errors* and false negatives are called *Type II errors*.\n",
    "\n",
    "That means the true positive and true negative are the total number of correct predictions, while the false positives and false negatives are the total number of wrong predictions.\n",
    "\n",
    "There are a number of important metrics that can be calculated from this matrix. First, accuracy:\n",
    "\n",
    "$$Accuracy = \\frac{TP + TN}{TP + TN + FP + FN} = \\frac{29 + 2707}{29 + 2707 + 0 + 93} = 0.967$$\n",
    "\n",
    "#### Precision\n",
    "Precision is a value that tells us what proportion of positive predictions are correct. That is, if the model has a precision of 0.5 then 50% of its positive predictions are correct. Let's calculate the precision of our model.\n",
    "\n",
    "$$precision = \\frac{TP}{TP + FP} = \\frac{29}{29 + 0} = 1.0$$\n",
    "\n",
    "When our model predicts that a post is in the group sci.space it is right only 24% of the time!\n",
    "\n",
    "Without looking at the precision score, we would have missed this by simply accepting the accuracy score at face value.\n",
    "\n",
    "#### Recall\n",
    "Recall is a value that tells us what proportion of positives were correctly predicted. This is a good indication of how many positive instances are being missed.\n",
    "\n",
    "$$recall = \\frac{TP}{TP + FN} = \\frac{29}{29 + 93} = 0.24$$\n",
    "\n",
    "We found 100% of all posts about space.\n",
    "\n",
    "### Trade-offs \n",
    "\n",
    "There is often a trade-off to be made between precision and recall. We may be able to tune our model to improve the precision; that is, make fewer false positive predictions, but it comes at the cost of lower recall. Similarly, if we tune the model to improve the recall then precision may suffer.\n",
    "\n",
    "There is no one right way to tune your model. You have decide on a case-by-case basis. Given the 20 newsgroups dataset and the model that we trained, are we happy with our precision and recall scores? Well, that depends on how we plan to use this model and the business use case. Suppose we used this model as part of a system that automatically determines a label for new posts, so that we can recommend posts to persons with interest in space.\n",
    "\n",
    "Given a precision of 24%, more than 75% of the recommendations are going to be wrong. And with a recall of 100%, all posts about space will be correctly identified. Our users may be annoyed because we recommend too many irrelevant posts (false positives). For this scenario, if we improve the precision and make our recommendations more relevant but maybe miss more space posts, our users would be happier.\n",
    "\n",
    "Now consider a screening test for a particular disease in the population. Suppose we train a model to detect the disease given some symptoms of the patient. If our model predicts positivem, we immediately send the patient for further tests and treatment. If the model predicts false, then we assume the patient is safe. A low precision in this case means that many of the positive cases predicted would turn out to not have the disease. The high recall will mean that most of the positive cases are found. This seems about right. Imagine if the recall were low, many persons with the disease will be incorrectly classified as not having the disease. \n",
    "\n",
    "This is a case where recall is more important than precision, because we don't want to let people who need treatment to slip through the cracks (false negatives). \n"
   ]
  },
  {
   "cell_type": "markdown",
   "metadata": {
    "colab_type": "text",
    "id": "jNa0sboA5MLh"
   },
   "source": [
    "### F-Score\n",
    "When evaluating classifiers, it is convenient to combine the precision and recall into a single value called the F1 score. We use the F-score to see how the two metrics level out when combined.\n",
    "\n",
    "This is done with the following formula:\n",
    "\n",
    "$$F_1 = 2 \\times \\frac{\\text{precision} \\times \\text{recall}}{\\text{precision} + \\text{recall}} = \\frac{2 \\times TP}{2 \\times TP + FN + FP}$$\n",
    "\n",
    "In computing this value the contribution of precision and recall are equal. \n",
    "\n",
    "There is a more general case of the F1 score called the F-beta score. To calculate this score a parameter $\\beta$ is used to adjust the contribution of recall and precision. To favor precision a value of $\\beta < 1$ is used and to favor recall a value of $\\beta > 1$ is used. This way if you are building a model where precision is more important that recall then set a value for $\\beta$ less than 1. The formula is:\n",
    "\n",
    "$$F_\\beta = (1 + \\beta^2) \\times \\frac{\\text{precision} \\times \\text{recall}}{(\\beta^2 \\times \\text{precision}) + \\text{recall}} = \\frac{(1 + \\beta^2) \\times TP}{(1 + \\beta^2) \\times TP + \\beta \\times FN + FP}$$\n",
    "\n",
    "We do not have to perform these calculations by hand. Scikit-learn provides functions in the *sklearn.metrics* library for calculating these values. Each of these functions take the actual target values and the predictions made by the model as input."
   ]
  },
  {
   "cell_type": "code",
   "execution_count": 44,
   "metadata": {
    "colab": {
     "base_uri": "https://localhost:8080/",
     "height": 119
    },
    "colab_type": "code",
    "id": "Hg845J937Jsx",
    "outputId": "7884ce40-b7a4-4962-a942-d76f6e03b4f8"
   },
   "outputs": [
    {
     "name": "stdout",
     "output_type": "stream",
     "text": [
      "Accuracy score: 0.97\n",
      "Precision score: 1.00\n",
      "Recall score: 0.24\n",
      "F1 score: 0.38\n",
      "Fbeta score favoring precision: 0.61\n",
      "FBeta score favoring recall: 0.28\n"
     ]
    },
    {
     "name": "stderr",
     "output_type": "stream",
     "text": [
      "/Users/robholmstrom/miniconda3/lib/python3.7/site-packages/sklearn/utils/validation.py:71: FutureWarning: Pass beta=0.5 as keyword args. From version 0.25 passing these as positional arguments will result in an error\n",
      "  FutureWarning)\n",
      "/Users/robholmstrom/miniconda3/lib/python3.7/site-packages/sklearn/utils/validation.py:71: FutureWarning: Pass beta=2 as keyword args. From version 0.25 passing these as positional arguments will result in an error\n",
      "  FutureWarning)\n"
     ]
    }
   ],
   "source": [
    "accuracy = accuracy_score(y_test, predictions)\n",
    "precision = precision_score(y_test, predictions)\n",
    "recall = recall_score(y_test, predictions)\n",
    "f1 = f1_score(y_test, predictions)\n",
    "fbeta_precision = fbeta_score(y_test, predictions, 0.5)\n",
    "fbeta_recall = fbeta_score(y_test, predictions, 2)\n",
    "\n",
    "print('Accuracy score: {:.2f}'.format(accuracy))\n",
    "print('Precision score: {:.2f}'.format(precision))\n",
    "print('Recall score: {:.2f}'.format(recall))\n",
    "print('F1 score: {:.2f}'.format(f1))\n",
    "print('Fbeta score favoring precision: {:.2f}'.format(fbeta_precision))\n",
    "print('FBeta score favoring recall: {:.2f}'.format(fbeta_recall))"
   ]
  },
  {
   "cell_type": "markdown",
   "metadata": {
    "colab_type": "text",
    "id": "XEeycLyRWTe_"
   },
   "source": [
    "Notice that the $F_\\beta$ score with the $\\beta < 1$ scored higher than the $F_\\beta$ with $\\beta > 1$. This is because we have a higher precision score than recall score. \n",
    "\n",
    "The *classification_report* function is also useful giving a summary of these metrics with a single call."
   ]
  },
  {
   "cell_type": "code",
   "execution_count": 45,
   "metadata": {
    "colab": {
     "base_uri": "https://localhost:8080/",
     "height": 170
    },
    "colab_type": "code",
    "id": "pJkY6GDTXmhu",
    "outputId": "5bed0b39-8ed0-43f3-e376-680fb52beca1"
   },
   "outputs": [
    {
     "name": "stdout",
     "output_type": "stream",
     "text": [
      "              precision    recall  f1-score   support\n",
      "\n",
      "   Not Space       0.97      1.00      0.98      2707\n",
      "       Space       1.00      0.24      0.38       122\n",
      "\n",
      "    accuracy                           0.97      2829\n",
      "   macro avg       0.98      0.62      0.68      2829\n",
      "weighted avg       0.97      0.97      0.96      2829\n",
      "\n"
     ]
    }
   ],
   "source": [
    "report = classification_report(y_test, predictions, target_names=['Not Space', 'Space'])\n",
    "print(report)"
   ]
  },
  {
   "cell_type": "markdown",
   "metadata": {
    "colab_type": "text",
    "id": "Wv2I-70DY420"
   },
   "source": [
    "We could compare this report to the report on the dummy classifier. The dummy classifier can be used to make predictions in a similar way to a real classifier except we will get all results being the dominant class. We know in this example that the dominant class is the negative class so our dummy classifier will predict 0 instances as the positive class."
   ]
  },
  {
   "cell_type": "code",
   "execution_count": 46,
   "metadata": {
    "colab": {
     "base_uri": "https://localhost:8080/",
     "height": 224
    },
    "colab_type": "code",
    "id": "NhCRQPAUYJH2",
    "outputId": "8d2230c3-cb66-4c24-de1b-81a3b015cae4"
   },
   "outputs": [
    {
     "name": "stdout",
     "output_type": "stream",
     "text": [
      "              precision    recall  f1-score   support\n",
      "\n",
      "   Not Space       0.96      1.00      0.98      2707\n",
      "       Space       0.00      0.00      0.00       122\n",
      "\n",
      "    accuracy                           0.96      2829\n",
      "   macro avg       0.48      0.50      0.49      2829\n",
      "weighted avg       0.92      0.96      0.94      2829\n",
      "\n"
     ]
    },
    {
     "name": "stderr",
     "output_type": "stream",
     "text": [
      "/Users/robholmstrom/miniconda3/lib/python3.7/site-packages/sklearn/metrics/_classification.py:1221: UndefinedMetricWarning: Precision and F-score are ill-defined and being set to 0.0 in labels with no predicted samples. Use `zero_division` parameter to control this behavior.\n",
      "  _warn_prf(average, modifier, msg_start, len(result))\n"
     ]
    }
   ],
   "source": [
    "dummy_report = classification_report(y_test, dummy.predict(X_test), target_names=['Not Space', 'Space'])\n",
    "print(dummy_report)"
   ]
  },
  {
   "cell_type": "markdown",
   "metadata": {
    "colab_type": "text",
    "id": "Y0O4cOLQZXaO"
   },
   "source": [
    "The *UndefinedMetricWarning* is due to the fact that TP + FP == 0. This is a good indication that the classifier is not performing well even though the accuracy is high. Even if our classifier did have a few FP's the precision and recall would be quite low for that class."
   ]
  },
  {
   "cell_type": "markdown",
   "metadata": {
    "colab_type": "text",
    "id": "xqYk9tngq4vB"
   },
   "source": [
    "## Decision Function - Varying the Probability Threshold\n",
    "Given some input, the model generates some probabilities for each input. This is given by the *predict_proba()* method. Rather than giving actual predictions, this method gives a probability that this instance belongs to the positive class or not.\n",
    "\n",
    "In the following code the list of probabilities for the test data is generated and the first 30 values are printed."
   ]
  },
  {
   "cell_type": "code",
   "execution_count": 69,
   "metadata": {
    "colab": {
     "base_uri": "https://localhost:8080/",
     "height": 102
    },
    "colab_type": "code",
    "id": "SGrL2EMlq_YU",
    "outputId": "65349a06-dbc2-41b3-bc01-eb830fe7abfb"
   },
   "outputs": [
    {
     "name": "stdout",
     "output_type": "stream",
     "text": [
      "[0.03045873 0.01633326 0.04686767 0.0330425  0.01673376 0.03064549\n",
      " 0.03555476 0.03864876 0.03771071 0.03000802 0.0433192  0.03206011\n",
      " 0.01691639 0.04610477 0.045327   0.0176444  0.03604467 0.02145434\n",
      " 0.05960115 0.22718345 0.04970892 0.04448515 0.01503259 0.0268403\n",
      " 0.02251283 0.02651896 0.05111075 0.03264745 0.03637281]\n"
     ]
    }
   ],
   "source": [
    "\n",
    "probs = lr.predict_proba(X_test)[:, 1]\n",
    "print(probs[1:30])\n"
   ]
  },
  {
   "cell_type": "markdown",
   "metadata": {
    "colab_type": "text",
    "id": "cfaBR6h2ReC_"
   },
   "source": [
    "We have seen in the previous lesson that the probability threshold is 0.5: that is, if the probability is greater than 0.5 then we will predict positive and if it is less than 0.5 we will predict negative. In the plot below the probabilities of all test samples are plotted in two distribution plots. The red plot is the negative class and the green plot is the positive class. The blue line is the probability threshold. \n",
    "\n",
    "Notice that there are positive instances on both sides of the threshold. That means that all positive instances on the left of the threshold will be incorrectly classified as negative giving false negatives. "
   ]
  },
  {
   "cell_type": "code",
   "execution_count": 67,
   "metadata": {
    "colab": {
     "base_uri": "https://localhost:8080/",
     "height": 282
    },
    "colab_type": "code",
    "id": "S_OQCQ2HGnoN",
    "outputId": "8f8bb664-d6e5-4847-b4b8-6cf984172075"
   },
   "outputs": [
    {
     "data": {
      "image/png": "[encoded data removed]",
      "text/plain": [
       "<Figure size 576x288 with 1 Axes>"
      ]
     },
     "metadata": {},
     "output_type": "display_data"
    }
   ],
   "source": [
    "pos = [_ for _, j in zip(probs, y_test) if j == 1]\n",
    "pos = [i for i, j in zip(probs, y_test) if j == 1]\n",
    "neg = [i for i, j in zip(probs, y_test) if j == 0]\n",
    "\n",
    "with plt.xkcd():\n",
    "  fig = plt.figure(figsize=(8, 4))\n",
    "\n",
    "  sns.distplot(pos, hist = False, kde = True, color='g',\n",
    "                 kde_kws = {'shade': True, 'linewidth': 3})\n",
    "\n",
    "  sns.distplot(neg, hist = False, kde = True, color='r',\n",
    "                 kde_kws = {'shade': True, 'linewidth': 3})\n",
    "\n",
    "  plt.plot([0.5, 0.5], [0, 25], '-b')\n",
    "  plt.annotate(\n",
    "        'The probability threshold\\npositive to the right\\nnegative to the left',\n",
    "        xy=(0.51, 15), arrowprops=dict(arrowstyle='->'), xytext=(0.6, 20))\n",
    "\n",
    "plt.show()"
   ]
  },
  {
   "cell_type": "markdown",
   "metadata": {
    "colab_type": "text",
    "id": "n724uu0Ng5Jn"
   },
   "source": [
    "By adjusting the threshold we can affect the recall and precision values. Suppose we wanted to be sure that we got no false positives: that is, we do not want to classify any post as space if it was not about space. We could move the threshold to the right until there are no red instances on the right of the line. That correspondingly will mean that fewer positive instances will be correctly identified. Or, to put it another way, more positive instances will end up on the left of the threshold and will be incorrectly classified as negative."
   ]
  },
  {
   "cell_type": "markdown",
   "metadata": {
    "colab_type": "text",
    "id": "ePLqUSvXih07"
   },
   "source": [
    "## ROC curve\n",
    "If we set the threshold to 0 (moving the threshold all the way to the left) then the model predicts 1 for all samples. We will get a **true positive rate (tpr)** of 1, that is, all positive instances will be correctly predicted. We will also get a **false positive rate (fpr)** of 1 since all negative samples will be incorrectly predicted as positive.\n",
    "\n",
    "If we set the threshold to 1 then the model predicts 0 for all samples. We get a tpr of 0 since none of the actual positive samples will be correctly predicted and an fpr of 0 because none of the negative class will be predicted as positive.\n",
    "\n",
    "As we vary the threshold between these two extremes we get different tpr and fpr values. We can plot these values to see the relationship between the values as the threshold moves.\n",
    "\n",
    "The set of points we get when we vary the threshold from 0 to 1 can be connected to describe a curve through space which is called the **Receiver operating characteristic (ROC)** curve.\n",
    "\n",
    "The *sklearn.metrics.roc_curve* function calculates the fpr, tpr and threshold values that we can use to plot a ROC curve. Below the first 30 values are printed."
   ]
  },
  {
   "cell_type": "code",
   "execution_count": 49,
   "metadata": {
    "colab": {
     "base_uri": "https://localhost:8080/",
     "height": 272
    },
    "colab_type": "code",
    "id": "582PFFN1ij7K",
    "outputId": "f73a2b8a-2ec2-48ba-84d5-d0b2c4d89209"
   },
   "outputs": [
    {
     "name": "stdout",
     "output_type": "stream",
     "text": [
      "(array([0.00000000e+00, 0.00000000e+00, 0.00000000e+00, 3.69412634e-04,\n",
      "       3.69412634e-04, 7.38825268e-04, 7.38825268e-04, 1.10823790e-03,\n",
      "       1.10823790e-03, 1.47765054e-03, 1.47765054e-03, 1.84706317e-03,\n",
      "       1.84706317e-03, 2.21647580e-03, 2.21647580e-03, 2.58588844e-03,\n",
      "       2.58588844e-03, 3.32471371e-03, 3.32471371e-03, 3.69412634e-03,\n",
      "       3.69412634e-03, 4.80236424e-03, 4.80236424e-03, 5.91060214e-03,\n",
      "       5.91060214e-03, 6.28001478e-03, 6.28001478e-03, 6.64942741e-03,\n",
      "       6.64942741e-03, 7.75766531e-03, 7.75766531e-03, 8.86590321e-03,\n",
      "       8.86590321e-03, 1.03435537e-02, 1.03435537e-02, 1.14517917e-02,\n",
      "       1.14517917e-02, 1.18212043e-02, 1.18212043e-02, 1.32988548e-02,\n",
      "       1.32988548e-02, 1.40376801e-02, 1.40376801e-02, 1.66235685e-02,\n",
      "       1.66235685e-02, 1.69929812e-02, 1.69929812e-02, 1.81012191e-02,\n",
      "       1.81012191e-02, 1.88400443e-02, 1.88400443e-02, 2.06871075e-02,\n",
      "       2.06871075e-02, 2.14259328e-02, 2.14259328e-02, 5.02401182e-02,\n",
      "       5.02401182e-02, 6.02142593e-02, 6.02142593e-02, 7.01884004e-02,\n",
      "       7.01884004e-02, 1.46287403e-01, 1.46287403e-01, 1.85814555e-01,\n",
      "       1.85814555e-01, 3.98596232e-01, 3.98596232e-01, 1.00000000e+00]), array([0.        , 0.00819672, 0.46721311, 0.46721311, 0.48360656,\n",
      "       0.48360656, 0.5       , 0.5       , 0.59016393, 0.59016393,\n",
      "       0.6147541 , 0.6147541 , 0.62295082, 0.62295082, 0.64754098,\n",
      "       0.64754098, 0.68852459, 0.68852459, 0.70491803, 0.70491803,\n",
      "       0.74590164, 0.74590164, 0.7704918 , 0.7704918 , 0.77868852,\n",
      "       0.77868852, 0.78688525, 0.78688525, 0.80327869, 0.80327869,\n",
      "       0.81147541, 0.81147541, 0.83606557, 0.83606557, 0.85245902,\n",
      "       0.85245902, 0.86065574, 0.86065574, 0.86885246, 0.86885246,\n",
      "       0.87704918, 0.87704918, 0.8852459 , 0.8852459 , 0.89344262,\n",
      "       0.89344262, 0.90163934, 0.90163934, 0.90983607, 0.90983607,\n",
      "       0.92622951, 0.92622951, 0.93442623, 0.93442623, 0.95081967,\n",
      "       0.95081967, 0.95901639, 0.95901639, 0.96721311, 0.96721311,\n",
      "       0.97540984, 0.97540984, 0.98360656, 0.98360656, 0.99180328,\n",
      "       0.99180328, 1.        , 1.        ]), array([1.98462604, 0.98462604, 0.3446592 , 0.34283523, 0.3311512 ,\n",
      "       0.32653259, 0.32153467, 0.31893541, 0.27469392, 0.27468563,\n",
      "       0.24375424, 0.24159574, 0.23921165, 0.23860809, 0.21948719,\n",
      "       0.20223596, 0.18165188, 0.17696934, 0.16373987, 0.16369255,\n",
      "       0.15575538, 0.15284347, 0.1478981 , 0.13727432, 0.13693788,\n",
      "       0.13573329, 0.13529207, 0.13304517, 0.13221123, 0.12896697,\n",
      "       0.12835996, 0.12477598, 0.12364249, 0.12252669, 0.12056497,\n",
      "       0.11468404, 0.11375718, 0.11344342, 0.11019272, 0.10741217,\n",
      "       0.10738912, 0.10627008, 0.10539327, 0.09950518, 0.09851017,\n",
      "       0.09656103, 0.09538086, 0.09209324, 0.09178581, 0.08947612,\n",
      "       0.08838538, 0.08605685, 0.08583705, 0.0855273 , 0.0853756 ,\n",
      "       0.06783297, 0.06774842, 0.06572402, 0.06572363, 0.06377121,\n",
      "       0.06351009, 0.05159144, 0.05148266, 0.04797074, 0.04796685,\n",
      "       0.03572084, 0.0357107 , 0.00461702]))\n",
      "[0.         0.         0.00036941 0.00036941 0.00073883 0.00073883\n",
      " 0.00110824 0.00110824 0.00147765 0.00147765 0.00184706 0.00184706\n",
      " 0.00221648 0.00221648 0.00258589 0.00258589 0.00332471 0.00332471\n",
      " 0.00369413 0.00369413 0.00480236 0.00480236 0.0059106  0.0059106\n",
      " 0.00628001 0.00628001 0.00664943 0.00664943 0.00775767]\n",
      "[0.00819672 0.46721311 0.46721311 0.48360656 0.48360656 0.5\n",
      " 0.5        0.59016393 0.59016393 0.6147541  0.6147541  0.62295082\n",
      " 0.62295082 0.64754098 0.64754098 0.68852459 0.68852459 0.70491803\n",
      " 0.70491803 0.74590164 0.74590164 0.7704918  0.7704918  0.77868852\n",
      " 0.77868852 0.78688525 0.78688525 0.80327869 0.80327869]\n",
      "[0.98462604 0.3446592  0.34283523 0.3311512  0.32653259 0.32153467\n",
      " 0.31893541 0.27469392 0.27468563 0.24375424 0.24159574 0.23921165\n",
      " 0.23860809 0.21948719 0.20223596 0.18165188 0.17696934 0.16373987\n",
      " 0.16369255 0.15575538 0.15284347 0.1478981  0.13727432 0.13693788\n",
      " 0.13573329 0.13529207 0.13304517 0.13221123 0.12896697]\n"
     ]
    }
   ],
   "source": [
    "fpr, tpr, thresholds = roc_curve(y_test, probs)\n",
    "print(roc_curve(y_test, probs))\n",
    "print(fpr[1:30])\n",
    "print(tpr[1:30])\n",
    "print(thresholds[1:30])"
   ]
  },
  {
   "cell_type": "code",
   "execution_count": 57,
   "metadata": {
    "colab": {
     "base_uri": "https://localhost:8080/",
     "height": 404
    },
    "colab_type": "code",
    "id": "nX4xptQJmPUM",
    "outputId": "13f5baea-d771-4f8f-b783-ad5449e3d0a7"
   },
   "outputs": [
    {
     "data": {
      "image/png": "[encoded data removed]",
      "text/plain": [
       "<Figure size 432x432 with 1 Axes>"
      ]
     },
     "metadata": {
      "needs_background": "light"
     },
     "output_type": "display_data"
    }
   ],
   "source": [
    "fig = plt.figure(figsize = (6, 6))\n",
    "plt.plot([0, 1], [0, 1], 'k--')\n",
    "plt.plot(fpr, tpr)\n",
    "plt.xlabel('False Positive Rate')\n",
    "plt.ylabel('True Positive Rate')\n",
    "plt.title('ROC curve for Logistic Regression Model')\n",
    "plt.show()"
   ]
  },
  {
   "cell_type": "markdown",
   "metadata": {
    "colab_type": "text",
    "id": "-7izD9a3x7C7"
   },
   "source": [
    "The top left-hand corner of this graph is the ideal spot: it minimizes the false positive rate and maximizes the true positive rate. So a steep curve that gets close to that corner is better than a shallow curve that remains close to the dashed baseline. That dashed line represents a 50% chance classifier. That is, any classifier that works as well as a coin toss will have a curve close to that line. But that is as good as random. So curves just above that line are better than random. The particular curve for this classifier is quite good as you can see it steeply climbs before leveling out.\n",
    "\n"
   ]
  },
  {
   "cell_type": "markdown",
   "metadata": {
    "colab_type": "text",
    "id": "0yLCNgGQ10dB"
   },
   "source": [
    "## Precision-Recall Curve\n",
    "Another useful visualization is the precision-recall curve. Similar to the ROC curve it shows the relationship of precision to recall as the threshold is varied from 0 to 1. Again, the sklearn.metrics library provides a function that can help."
   ]
  },
  {
   "cell_type": "code",
   "execution_count": 51,
   "metadata": {
    "colab": {
     "base_uri": "https://localhost:8080/",
     "height": 404
    },
    "colab_type": "code",
    "id": "vyVzU2JV28E5",
    "outputId": "c1e2eabe-fefb-4107-8fa0-7814392cda69"
   },
   "outputs": [
    {
     "data": {
      "image/png": "[encoded data removed]",
      "text/plain": [
       "<Figure size 432x432 with 1 Axes>"
      ]
     },
     "metadata": {
      "needs_background": "light"
     },
     "output_type": "display_data"
    }
   ],
   "source": [
    "pres, rec, thresholds = precision_recall_curve(y_test, predictions)\n",
    "fig = plt.figure(figsize = (6, 6))\n",
    "plt.plot(rec, pres)\n",
    "plt.xlabel('Recall')\n",
    "plt.ylabel('Precision')\n",
    "plt.title('Precision-Recall Curve')\n",
    "plt.show()"
   ]
  },
  {
   "cell_type": "markdown",
   "metadata": {
    "colab_type": "text",
    "id": "fzpdAz-A4zh4"
   },
   "source": [
    "In this case, we see a smooth drop in precision as recall increases. We do not always have such a smooth curve but the general downward trend is expected.\n",
    "\n",
    "Remember that these two visualizations serve slightly different purposes.\n",
    "\n",
    " - **ROC curves** are used when the classes are more or less balanced.\n",
    " - **Precision-Recall curves** are used when there is a class imbalance.\n",
    " \n",
    " "
   ]
  },
  {
   "cell_type": "markdown",
   "metadata": {
    "colab_type": "text",
    "id": "PRcSLoOa5oYs"
   },
   "source": [
    "## Area under the ROC curve (AUC)\n",
    "Given the ROC curve can we compute a useful metric from it. Since the top left-hand corner is ideal we want to favor curves that get as close to that corner as possible. If we measure the area under the curve we get a useful metric that tells us how close we get to the ideal. In the plot below we shaded the area under the curve. Notice that if the curve gets closer to the baseline the area will be smaller.\n",
    "\n"
   ]
  },
  {
   "cell_type": "code",
   "execution_count": 52,
   "metadata": {
    "colab": {
     "base_uri": "https://localhost:8080/",
     "height": 404
    },
    "colab_type": "code",
    "id": "V7kjCQPF8aDU",
    "outputId": "67a062f8-c9be-4e71-f767-97bac65c69eb"
   },
   "outputs": [
    {
     "data": {
      "image/png": "[encoded data removed]",
      "text/plain": [
       "<Figure size 432x432 with 1 Axes>"
      ]
     },
     "metadata": {
      "needs_background": "light"
     },
     "output_type": "display_data"
    }
   ],
   "source": [
    "fig = plt.figure(figsize = (6, 6))\n",
    "plt.plot([0, 1], [0, 1], 'k--')\n",
    "plt.plot(fpr, tpr)\n",
    "plt.fill(fpr, tpr, 'grey', alpha=0.3)\n",
    "plt.xlabel('False Positive Rate')\n",
    "plt.ylabel('True Positive Rate')\n",
    "plt.title('ROC curve for Logistic Regression Model')\n",
    "plt.show()"
   ]
  },
  {
   "cell_type": "markdown",
   "metadata": {
    "colab_type": "text",
    "id": "MmWKZiqU8yW2"
   },
   "source": [
    "To calculate the area under the curve (AUC) we use the *roc_auc_score* function from sklearn.metrics. This function takes the actual labels and the predicted probabilities as input."
   ]
  },
  {
   "cell_type": "code",
   "execution_count": 53,
   "metadata": {
    "colab": {
     "base_uri": "https://localhost:8080/",
     "height": 34
    },
    "colab_type": "code",
    "id": "_bUCAfqq9KP8",
    "outputId": "b4a670ca-ad6c-4548-daa1-ecf69e4605d5"
   },
   "outputs": [
    {
     "name": "stdout",
     "output_type": "stream",
     "text": [
      "Area under the ROC curve: 0.990\n"
     ]
    }
   ],
   "source": [
    "auc = roc_auc_score(y_test, probs)\n",
    "print('Area under the ROC curve: {:.3f}'.format(auc))"
   ]
  },
  {
   "cell_type": "markdown",
   "metadata": {
    "colab_type": "text",
    "id": "Oe6ILSwDHmBB"
   },
   "source": [
    "## Cross Validation\n",
    "So far we have been using a train-test split to reserve a portion of our data for testing. We do this so that we have some previously unseen data to test the model. If we train and test with the same data we run the risk of overfitting the model to the training data.\n",
    "\n",
    "But there is still a risk of overfitting to the test data itself. If we tune our model to perform well on the test data, what guarantee do we have that it will continue to perform as well on new data? Also, we know that the training algorithm is susceptible to small changes in the data. Recall from the discussion on linear classifiers that we are searching for a set of parameter values that optimizes a cost function. There is no absolute right answer to such a search. The values we find are dependent on the data that we use to train the model.\n",
    "\n",
    "By splitting the data into just training and testing, we drastically reduce the number of samples which can be used for learning the model, and the results can depend on a particular random choice for the pair of sets.\n",
    "\n",
    "We can see that illustrated by calling train_test_split multiple times and training a model with the results each time. The train_test_split function randomly assigns data to the training set and test set. That means each time you call the function a different set of data is assigned to the test set."
   ]
  },
  {
   "cell_type": "code",
   "execution_count": 54,
   "metadata": {
    "colab": {
     "base_uri": "https://localhost:8080/",
     "height": 51
    },
    "colab_type": "code",
    "id": "ibNUzjhwNI5S",
    "outputId": "8dad2572-a1c3-42c4-804b-30e5c2ca6dda"
   },
   "outputs": [
    {
     "name": "stdout",
     "output_type": "stream",
     "text": [
      "First split score: 0.966\n",
      "Second split score: 0.959\n"
     ]
    }
   ],
   "source": [
    "X_train, X_test, y_train, y_test = train_test_split(X, y_2)\n",
    "\n",
    "lr = LogisticRegression(solver='lbfgs')\n",
    "lr.fit(X_train, y_train)\n",
    "print('First split score: {:.3f}'.format(lr.score(X_test, y_test)))\n",
    "\n",
    "X_train, X_test, y_train, y_test = train_test_split(X, y_2)\n",
    "\n",
    "lr = LogisticRegression(solver='lbfgs')\n",
    "lr.fit(X_train, y_train)\n",
    "print('Second split score: {:.3f}'.format(lr.score(X_test, y_test)))"
   ]
  },
  {
   "cell_type": "markdown",
   "metadata": {
    "colab_type": "text",
    "id": "XssqZnhPNf2b"
   },
   "source": [
    "In the code above train_test_split is called twice and two models are trained with the results. Notice that the accuracy varies between the models. The implication is that we run the risk of randomly selecting a biased training or testing dataset and end up with a model which does not generalize well to unseen data.\n",
    "\n",
    "That is where cross validation comes in.\n",
    "\n",
    "Before we explore cross validation, just a quick note about the randomness of train_test_split. If we get a different test set each time, and it results in a different accuracy score each time, how can we know whether any observed improvements are a result of our parameter tuning or just random chance? During model building it would be useful to create a test split that remained stable. To do this we use the **random_state** parameter (which we did at the beginning of this notebook). This parameter takes an integer and uses it as the seed for the random generator. That means you can specify the same number to get the same split each time. In the code below, two models are trained on two splits of the data again, this time with the same **random_state**."
   ]
  },
  {
   "cell_type": "code",
   "execution_count": 55,
   "metadata": {
    "colab": {
     "base_uri": "https://localhost:8080/",
     "height": 51
    },
    "colab_type": "code",
    "id": "Q1qVHr90OmGx",
    "outputId": "35b1fa67-9120-49d9-f43f-2ea96a9cae9c"
   },
   "outputs": [
    {
     "name": "stdout",
     "output_type": "stream",
     "text": [
      "First split score: 0.964\n",
      "Second split score: 0.964\n"
     ]
    }
   ],
   "source": [
    "X_train, X_test, y_train, y_test = train_test_split(X, y_2, random_state=40)\n",
    "\n",
    "lr = LogisticRegression(solver='lbfgs')\n",
    "lr.fit(X_train, y_train)\n",
    "print('First split score: {:.3f}'.format(lr.score(X_test, y_test)))\n",
    "\n",
    "X_train, X_test, y_train, y_test = train_test_split(X, y_2, random_state=40)\n",
    "\n",
    "lr = LogisticRegression(solver='lbfgs')\n",
    "lr.fit(X_train, y_train)\n",
    "print('Second split score: {:.3f}'.format(lr.score(X_test, y_test)))"
   ]
  },
  {
   "cell_type": "markdown",
   "metadata": {
    "colab_type": "text",
    "id": "KLRs34SsO6tW"
   },
   "source": [
    "Now back, to **cross validation**. Cross validation works by dividing the dataset into a specified number (k) of distinct sets called **folds**. Typically k = 5 or 10 folds, but you are free to use any number of folds that you wish. We then iterate the folds and train a model with k - 1 folds and use the remaining fold as the test set for validation. In each iteration, a different fold is used as the test set.\n",
    "\n",
    "This yields k accuracy scores for the k models that are created and trained. But, each model was trained on a different set of data and tested on a different set of data. Also, each data sample has a chance to be in the test set for one model. We can then find the mean of the scores to get an overall value for our model. \n",
    "\n",
    "The **sklearn.model_selection.cross_val_score** function performs this cross validation process providing an array of scores for each model created. Remember that this may be an expensive (in terms of time) process since you have to create and train k different models. Typically you first split the data into the training and test set using *train_test_split* as we did above and cross validation is done on the training set, while the test set is held for final evaluation of the selected model."
   ]
  },
  {
   "cell_type": "code",
   "execution_count": 56,
   "metadata": {
    "colab": {
     "base_uri": "https://localhost:8080/",
     "height": 51
    },
    "colab_type": "code",
    "id": "xIETjRsnW5Bi",
    "outputId": "06e3492b-f467-4cfe-bc99-343be4584f78"
   },
   "outputs": [
    {
     "name": "stdout",
     "output_type": "stream",
     "text": [
      "Accuracy scores for the 5 folds:  [0.95167943 0.96169711 0.95816146 0.95639364 0.95875074]\n",
      "Mean cross validatiion score: 0.957\n"
     ]
    }
   ],
   "source": [
    "X_train, X_test, y_train, y_test = train_test_split(X, y_2, random_state=40)\n",
    "clf = LogisticRegression(solver='lbfgs')\n",
    "cv_scores = cross_val_score(clf, X_train, y_train, cv = 5)\n",
    "\n",
    "print('Accuracy scores for the 5 folds: ', cv_scores)\n",
    "print('Mean cross validatiion score: {:.3f}'.format(np.mean(cv_scores)))"
   ]
  },
  {
   "cell_type": "markdown",
   "metadata": {},
   "source": [
    "Based on the scores, the model is able to predict consistently high on all 5 folds of the dataset.  This gives us assurance that the model is performing well on unseen data multiple times and it was not just by luck of the draw during the initial data split.\n"
   ]
  },
  {
   "cell_type": "markdown",
   "metadata": {
    "colab_type": "text",
    "id": "tRW939g-b2kK"
   },
   "source": [
    "# Conclusion:\n",
    "\n",
    "Accuracy score does not tell the whole story, so we use a variety of techniques to have a better understanding of how our classification model is performing.  \n",
    "\n",
    "With the different evaluation metrics presented, we can identify where the model is misclassifying and use this information to improve the model on further iterations.  \n",
    "\n",
    "We also want to consider trade-offs to better focus our time and energy for the next model iteration.  How the model will be used will drive those decisions.  \n",
    "\n",
    "We can now use the various model evaluation techniques described above along with cross validation to select the best performing model for our next project."
   ]
  }
 ],
 "metadata": {
  "colab": {
   "collapsed_sections": [],
   "name": "Copy of Checkpoint 6 Model Evaluation.ipynb",
   "provenance": [],
   "version": "0.3.2"
  },
  "kernelspec": {
   "display_name": "Python 3",
   "language": "python",
   "name": "python3"
  },
  "language_info": {
   "codemirror_mode": {
    "name": "ipython",
    "version": 3
   },
   "file_extension": ".py",
   "mimetype": "text/x-python",
   "name": "python",
   "nbconvert_exporter": "python",
   "pygments_lexer": "ipython3",
   "version": "3.7.4"
  }
 },
 "nbformat": 4,
 "nbformat_minor": 1
}
