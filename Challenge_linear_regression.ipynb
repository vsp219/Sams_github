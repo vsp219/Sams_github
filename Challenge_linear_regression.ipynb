{
 "cells": [
  {
   "cell_type": "markdown",
   "metadata": {},
   "source": [
    "Challenge\n",
    "In this module, we learned how to approach and solve regression problems using linear regression models. Throughout the module, you worked on a house price dataset from Kaggle. In this challenge, you will keep working on this dataset.\n",
    "\n",
    "The scenario\n",
    "The housing market is one of the most crucial parts of the economy for every country. Purchasing a home is one of the primary ways to build wealth and savings for people. In this respect, predicting prices in the housing market is a very central topic in economic and financial circles.\n",
    "\n",
    "The house price dataset from Kaggle includes several features of the houses along with their sale prices at the time they are sold. So far, in this module, you built and implemented some models using this dataset.\n",
    "\n",
    "In this challenge, you are required to improve your model with respect to its prediction performance.\n",
    "\n",
    "To complete this challenge, submit a Jupyter notebook containing your solutions to the following tasks.\n",
    "\n",
    "Steps\n",
    "Load the houseprices data from Thinkful's database.\n"
   ]
  },
  {
   "cell_type": "code",
   "execution_count": 134,
   "metadata": {},
   "outputs": [],
   "source": [
    "%matplotlib inline\n",
    "\n",
    "import matplotlib.pyplot as plt\n",
    "import numpy as np\n",
    "import pandas as pd\n",
    "import statsmodels.api as sm\n",
    "import pylab\n",
    "from sklearn.preprocessing import PowerTransformer, QuantileTransformer\n",
    "from sqlalchemy import create_engine\n",
    "from sklearn.preprocessing import StandardScaler\n",
    "from statsmodels.stats.outliers_influence import variance_inflation_factor\n",
    "from statsmodels.tools.tools import add_constant\n",
    "from sklearn.linear_model import LinearRegression\n",
    "from sklearn.model_selection import train_test_split\n",
    "from sqlalchemy import create_engine\n",
    "import seaborn as sns"
   ]
  },
  {
   "cell_type": "code",
   "execution_count": 135,
   "metadata": {},
   "outputs": [],
   "source": [
    "postgres_user = 'dsbc_student'\n",
    "postgres_pw = '7*.8G9QH21'\n",
    "postgres_host = '142.93.121.174'\n",
    "postgres_port = '5432'\n",
    "postgres_db = 'houseprices'\n",
    "\n",
    "engine = create_engine('postgresql://{}:{}@{}:{}/{}'.format(\n",
    "    postgres_user, postgres_pw, postgres_host, postgres_port, postgres_db))\n",
    "\n",
    "df1 = pd.read_sql_query('select* from houseprices', con = engine)\n",
    "\n",
    "engine.dispose()"
   ]
  },
  {
   "cell_type": "markdown",
   "metadata": {},
   "source": [
    "Do data cleaning, exploratory data analysis, and feature engineering. You can use your previous work in this module. But make sure that your work is satisfactory.\n"
   ]
  },
  {
   "cell_type": "code",
   "execution_count": 136,
   "metadata": {},
   "outputs": [],
   "source": [
    "X = pd.concat([df1[['overallcond', 'grlivarea', 'garagecars', 'fullbath', 'halfbath','totalbsmtsf']], pd.get_dummies(df1['mszoning'], prefix = 'mszoning', drop_first = True)], axis = 1)\n",
    "y = df1['saleprice']\n"
   ]
  },
  {
   "cell_type": "markdown",
   "metadata": {},
   "source": [
    "Now, split your data into train and test sets where 20% of the data resides in the test set.\n"
   ]
  },
  {
   "cell_type": "code",
   "execution_count": 137,
   "metadata": {},
   "outputs": [],
   "source": [
    "X_train, X_test, y_train, y_test = train_test_split(X, y, random_state=40)\n",
    "\n"
   ]
  },
  {
   "cell_type": "markdown",
   "metadata": {},
   "source": [
    "Build several linear regression models including Lasso, Ridge, or ElasticNet and train them in the training set. "
   ]
  },
  {
   "cell_type": "code",
   "execution_count": 138,
   "metadata": {},
   "outputs": [
    {
     "name": "stdout",
     "output_type": "stream",
     "text": [
      "R-squared of the model on the training set is: 0.6965164646961184\n",
      "-----Test set statistics-----\n",
      "R-squared of the model on the test set is: 0.7389648850278968\n",
      "Mean absolute error of the prediction is: 25011.104252306544\n",
      "Mean squared error of the prediction is: 1404518000.3393893\n",
      "Root mean squared error of the prediction is: 37476.89955611843\n",
      "Mean absolute percentage error of the prediction is: 15.19866626940877\n"
     ]
    }
   ],
   "source": [
    "from sklearn.linear_model import LinearRegression\n",
    "lrm = LinearRegression()\n",
    "lrm.fit(X_train, y_train)\n",
    "y_lrmpredict = lrm.predict(X_test)\n",
    "\n",
    "\n",
    "print(\"R-squared of the model on the training set is: {}\".format(lrm.score(X_train, y_train)))\n",
    "print(\"-----Test set statistics-----\")\n",
    "print(\"R-squared of the model on the test set is: {}\".format(lrm.score(X_test, y_test)))\n",
    "print(\"Mean absolute error of the prediction is: {}\".format(mean_absolute_error(y_test, y_lrmpredict)))\n",
    "print(\"Mean squared error of the prediction is: {}\".format(mse(y_test, y_lrmpredict)))\n",
    "print(\"Root mean squared error of the prediction is: {}\".format(rmse(y_test, y_lrmpredict)))\n",
    "print(\"Mean absolute percentage error of the prediction is: {}\".format(np.mean(np.abs((y_test - y_lrmpredict) / y_test)) * 100))\n"
   ]
  },
  {
   "cell_type": "markdown",
   "metadata": {},
   "source": [
    "Use k-fold cross-validation to select the best hyperparameters if your models include one!\n"
   ]
  },
  {
   "cell_type": "code",
   "execution_count": 139,
   "metadata": {},
   "outputs": [
    {
     "name": "stdout",
     "output_type": "stream",
     "text": [
      "Best lambda = 1.0\n",
      "Best R-squared of the model for Ridge on the training set is: 0.6962786176425262\n",
      "-----Test set statistics-----\n",
      "R-squared of the Ridge model on the test set is: 0.7381916312441654\n",
      "Mean absolute error of the Ridge prediction is: 24956.28247687255\n",
      "Mean squared error of the Ridge prediction is: 1408678547.314831\n",
      "Root mean squared error of the Ridge prediction is: 37532.36666285289\n",
      "Mean absolute percentage error of the Ridge prediction is: 15.126013113346207\n"
     ]
    }
   ],
   "source": [
    "from sklearn.linear_model import Ridge\n",
    "RG = Ridge()\n",
    "pms = [{'alpha':[np.power(10.0,p) for p in np.arange(0,40,1)]}]\n",
    "\n",
    "from sklearn.model_selection import GridSearchCV\n",
    "RGcv = GridSearchCV(RG, param_grid=pms)\n",
    "\n",
    "RGcv.fit(X_train, y_train)\n",
    "\n",
    "print('Best lambda = ' + str(RGcv.best_estimator_.alpha))\n",
    "y_test_predRG = RGcv.predict(X_test)\n",
    "\n",
    "\n",
    "\n",
    "from sklearn.metrics import mean_absolute_error\n",
    "from statsmodels.tools.eval_measures import mse, rmse\n",
    "\n",
    "RGbest = Ridge(alpha =1)\n",
    "RGbest.fit(X_train, y_train)\n",
    "\n",
    "y_test_predRG = RGbest.predict(X_test)\n",
    "\n",
    "print(\"Best R-squared of the model for Ridge on the training set is: {}\".format(RGcv.score(X_train, y_train)))\n",
    "print(\"-----Test set statistics-----\")\n",
    "print(\"R-squared of the Ridge model on the test set is: {}\".format(RGcv.score(X_test, y_test)))\n",
    "print(\"Mean absolute error of the Ridge prediction is: {}\".format(mean_absolute_error(y_test, y_test_predRG)))\n",
    "print(\"Mean squared error of the Ridge prediction is: {}\".format(mse(y_test, y_test_predRG)))\n",
    "print(\"Root mean squared error of the Ridge prediction is: {}\".format(rmse(y_test, y_test_predRG)))\n",
    "print(\"Mean absolute percentage error of the Ridge prediction is: {}\".format(np.mean(np.abs((y_test - y_test_predRG) / y_test)) * 100))\n"
   ]
  },
  {
   "cell_type": "code",
   "execution_count": 140,
   "metadata": {},
   "outputs": [
    {
     "name": "stdout",
     "output_type": "stream",
     "text": [
      "Best alpha value is: 100.0\n",
      "R-squared of the Lasso model in training set is: 0.6958410716205874\n",
      "-----Test set statistics-----\n",
      "R-squared of the model in test set is: 0.7374029333273326\n",
      "Mean absolute error of the prediction is: 24990.598794263475\n",
      "Mean squared error of the prediction is: 1412922192.5467768\n",
      "Root mean squared error of the prediction is: 37588.85729237824\n",
      "Mean absolute percentage error of the prediction is: 15.141948317106404\n"
     ]
    }
   ],
   "source": [
    "from sklearn.linear_model import  LassoCV, RidgeCV, ElasticNetCV\n",
    "alphas = [np.power(10.0,p) for p in np.arange(0,40,1)]\n",
    "lasso_cv = LassoCV(alphas=alphas, cv=5)\n",
    "\n",
    "lasso_cv.fit(X_train, y_train)\n",
    "\n",
    "# We are making predictions here\n",
    "y_preds_train = lasso_cv.predict(X_train)\n",
    "y_preds_test = lasso_cv.predict(X_test)\n",
    "\n",
    "print(\"Best alpha value is: {}\".format(lasso_cv.alpha_))\n",
    "print(\"R-squared of the Lasso model in training set is: {}\".format(lasso_cv.score(X_train, y_train)))\n",
    "print(\"-----Test set statistics-----\")\n",
    "print(\"R-squared of the model in test set is: {}\".format(lasso_cv.score(X_test, y_test)))\n",
    "print(\"Mean absolute error of the prediction is: {}\".format(mean_absolute_error(y_test, y_preds_test)))\n",
    "print(\"Mean squared error of the prediction is: {}\".format(mse(y_test, y_preds_test)))\n",
    "print(\"Root mean squared error of the prediction is: {}\".format(rmse(y_test, y_preds_test)))\n",
    "print(\"Mean absolute percentage error of the prediction is: {}\".format(np.mean(np.abs((y_test - y_preds_test) / y_test)) * 100))"
   ]
  },
  {
   "cell_type": "code",
   "execution_count": 141,
   "metadata": {},
   "outputs": [
    {
     "name": "stdout",
     "output_type": "stream",
     "text": [
      "Best alpha value is: 0.001\n",
      "R-squared of the Elastic model in training set is: 0.6964035133647133\n",
      "-----Test set statistics-----\n",
      "R-squared of the model in test set is: 0.7386066243935697\n",
      "Mean absolute error of the prediction is: 24970.353022990657\n",
      "Mean squared error of the prediction is: 1406445647.1610792\n",
      "Root mean squared error of the prediction is: 37502.60853808811\n",
      "Mean absolute percentage error of the prediction is: 15.145751864607234\n"
     ]
    }
   ],
   "source": [
    "\n",
    "alphas = [np.power(10.0,p) for p in np.arange(-3,40,1)]\n",
    "EL_cv = ElasticNetCV(alphas=alphas, cv=10, max_iter=100000)\n",
    "\n",
    "EL_cv.fit(X_train, y_train)\n",
    "\n",
    "# We are making predictions here\n",
    "y_preds_train = EL_cv.predict(X_train)\n",
    "y_preds_test = EL_cv.predict(X_test)\n",
    "\n",
    "print(\"Best alpha value is: {}\".format(EL_cv.alpha_))\n",
    "print(\"R-squared of the Elastic model in training set is: {}\".format(EL_cv.score(X_train, y_train)))\n",
    "print(\"-----Test set statistics-----\")\n",
    "print(\"R-squared of the model in test set is: {}\".format(EL_cv.score(X_test, y_test)))\n",
    "print(\"Mean absolute error of the prediction is: {}\".format(mean_absolute_error(y_test, y_preds_test)))\n",
    "print(\"Mean squared error of the prediction is: {}\".format(mse(y_test, y_preds_test)))\n",
    "print(\"Root mean squared error of the prediction is: {}\".format(rmse(y_test, y_preds_test)))\n",
    "print(\"Mean absolute percentage error of the prediction is: {}\".format(np.mean(np.abs((y_test - y_preds_test) / y_test)) * 100))"
   ]
  },
  {
   "cell_type": "markdown",
   "metadata": {},
   "source": [
    "Evaluate your best model on the test set.\n"
   ]
  },
  {
   "cell_type": "markdown",
   "metadata": {},
   "source": [
    "The best model is Ridge regression with an lambda of 1. This produces the least % error between train and test set (15.2%) paired with similar closeness in r-squared values to the training set (~0.7 and ~0.74 respectively)."
   ]
  },
  {
   "cell_type": "markdown",
   "metadata": {},
   "source": [
    "So far, you have only used the features in the dataset. However, house prices can be affected by many factors like economic activity and the interest rates at the time they are sold. So, try to find some useful factors that are not included in the dataset. Integrate these factors into your model and assess the prediction performance of your model. Discuss the implications of adding these external variables into your model."
   ]
  },
  {
   "cell_type": "code",
   "execution_count": 142,
   "metadata": {},
   "outputs": [
    {
     "name": "stdout",
     "output_type": "stream",
     "text": [
      "<class 'pandas.core.frame.DataFrame'>\n",
      "RangeIndex: 1460 entries, 0 to 1459\n",
      "Data columns (total 81 columns):\n",
      " #   Column         Non-Null Count  Dtype  \n",
      "---  ------         --------------  -----  \n",
      " 0   id             1460 non-null   int64  \n",
      " 1   mssubclass     1460 non-null   int64  \n",
      " 2   mszoning       1460 non-null   object \n",
      " 3   lotfrontage    1201 non-null   float64\n",
      " 4   lotarea        1460 non-null   int64  \n",
      " 5   street         1460 non-null   object \n",
      " 6   alley          91 non-null     object \n",
      " 7   lotshape       1460 non-null   object \n",
      " 8   landcontour    1460 non-null   object \n",
      " 9   utilities      1460 non-null   object \n",
      " 10  lotconfig      1460 non-null   object \n",
      " 11  landslope      1460 non-null   object \n",
      " 12  neighborhood   1460 non-null   object \n",
      " 13  condition1     1460 non-null   object \n",
      " 14  condition2     1460 non-null   object \n",
      " 15  bldgtype       1460 non-null   object \n",
      " 16  housestyle     1460 non-null   object \n",
      " 17  overallqual    1460 non-null   int64  \n",
      " 18  overallcond    1460 non-null   int64  \n",
      " 19  yearbuilt      1460 non-null   int64  \n",
      " 20  yearremodadd   1460 non-null   int64  \n",
      " 21  roofstyle      1460 non-null   object \n",
      " 22  roofmatl       1460 non-null   object \n",
      " 23  exterior1st    1460 non-null   object \n",
      " 24  exterior2nd    1460 non-null   object \n",
      " 25  masvnrtype     1452 non-null   object \n",
      " 26  masvnrarea     1452 non-null   float64\n",
      " 27  exterqual      1460 non-null   object \n",
      " 28  extercond      1460 non-null   object \n",
      " 29  foundation     1460 non-null   object \n",
      " 30  bsmtqual       1423 non-null   object \n",
      " 31  bsmtcond       1423 non-null   object \n",
      " 32  bsmtexposure   1422 non-null   object \n",
      " 33  bsmtfintype1   1423 non-null   object \n",
      " 34  bsmtfinsf1     1460 non-null   int64  \n",
      " 35  bsmtfintype2   1422 non-null   object \n",
      " 36  bsmtfinsf2     1460 non-null   int64  \n",
      " 37  bsmtunfsf      1460 non-null   int64  \n",
      " 38  totalbsmtsf    1460 non-null   int64  \n",
      " 39  heating        1460 non-null   object \n",
      " 40  heatingqc      1460 non-null   object \n",
      " 41  centralair     1460 non-null   object \n",
      " 42  electrical     1459 non-null   object \n",
      " 43  firstflrsf     1460 non-null   int64  \n",
      " 44  secondflrsf    1460 non-null   int64  \n",
      " 45  lowqualfinsf   1460 non-null   int64  \n",
      " 46  grlivarea      1460 non-null   int64  \n",
      " 47  bsmtfullbath   1460 non-null   int64  \n",
      " 48  bsmthalfbath   1460 non-null   int64  \n",
      " 49  fullbath       1460 non-null   int64  \n",
      " 50  halfbath       1460 non-null   int64  \n",
      " 51  bedroomabvgr   1460 non-null   int64  \n",
      " 52  kitchenabvgr   1460 non-null   int64  \n",
      " 53  kitchenqual    1460 non-null   object \n",
      " 54  totrmsabvgrd   1460 non-null   int64  \n",
      " 55  functional     1460 non-null   object \n",
      " 56  fireplaces     1460 non-null   int64  \n",
      " 57  fireplacequ    770 non-null    object \n",
      " 58  garagetype     1379 non-null   object \n",
      " 59  garageyrblt    1379 non-null   float64\n",
      " 60  garagefinish   1379 non-null   object \n",
      " 61  garagecars     1460 non-null   int64  \n",
      " 62  garagearea     1460 non-null   int64  \n",
      " 63  garagequal     1379 non-null   object \n",
      " 64  garagecond     1379 non-null   object \n",
      " 65  paveddrive     1460 non-null   object \n",
      " 66  wooddecksf     1460 non-null   int64  \n",
      " 67  openporchsf    1460 non-null   int64  \n",
      " 68  enclosedporch  1460 non-null   int64  \n",
      " 69  threessnporch  1460 non-null   int64  \n",
      " 70  screenporch    1460 non-null   int64  \n",
      " 71  poolarea       1460 non-null   int64  \n",
      " 72  poolqc         7 non-null      object \n",
      " 73  fence          281 non-null    object \n",
      " 74  miscfeature    54 non-null     object \n",
      " 75  miscval        1460 non-null   int64  \n",
      " 76  mosold         1460 non-null   int64  \n",
      " 77  yrsold         1460 non-null   int64  \n",
      " 78  saletype       1460 non-null   object \n",
      " 79  salecondition  1460 non-null   object \n",
      " 80  saleprice      1460 non-null   int64  \n",
      "dtypes: float64(3), int64(35), object(43)\n",
      "memory usage: 924.0+ KB\n"
     ]
    }
   ],
   "source": [
    "df1.info()"
   ]
  },
  {
   "cell_type": "code",
   "execution_count": 143,
   "metadata": {},
   "outputs": [
    {
     "data": {
      "text/plain": [
       "2009    338\n",
       "2007    329\n",
       "2006    314\n",
       "2008    304\n",
       "2010    175\n",
       "Name: yrsold, dtype: int64"
      ]
     },
     "execution_count": 143,
     "metadata": {},
     "output_type": "execute_result"
    }
   ],
   "source": [
    "df1['yrsold'].value_counts()"
   ]
  },
  {
   "cell_type": "code",
   "execution_count": null,
   "metadata": {},
   "outputs": [],
   "source": []
  }
 ],
 "metadata": {
  "kernelspec": {
   "display_name": "Python 3",
   "language": "python",
   "name": "python3"
  },
  "language_info": {
   "codemirror_mode": {
    "name": "ipython",
    "version": 3
   },
   "file_extension": ".py",
   "mimetype": "text/x-python",
   "name": "python",
   "nbconvert_exporter": "python",
   "pygments_lexer": "ipython3",
   "version": "3.7.4"
  }
 },
 "nbformat": 4,
 "nbformat_minor": 4
}
