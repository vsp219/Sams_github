{
 "cells": [
  {
   "cell_type": "markdown",
   "metadata": {},
   "source": [
    "Challenge\n",
    "In this module, we learned how to approach and solve regression problems using linear regression models. Throughout the module, you worked on a house price dataset from Kaggle. In this challenge, you will keep working on this dataset.\n",
    "\n",
    "The scenario\n",
    "The housing market is one of the most crucial parts of the economy for every country. Purchasing a home is one of the primary ways to build wealth and savings for people. In this respect, predicting prices in the housing market is a very central topic in economic and financial circles.\n",
    "\n",
    "The house price dataset from Kaggle includes several features of the houses along with their sale prices at the time they are sold. So far, in this module, you built and implemented some models using this dataset.\n",
    "\n",
    "In this challenge, you are required to improve your model with respect to its prediction performance.\n",
    "\n",
    "To complete this challenge, submit a Jupyter notebook containing your solutions to the following tasks.\n",
    "\n",
    "Steps\n",
    "Load the houseprices data from Thinkful's database.\n"
   ]
  },
  {
   "cell_type": "code",
   "execution_count": 245,
   "metadata": {},
   "outputs": [],
   "source": [
    "%matplotlib inline\n",
    "\n",
    "import matplotlib.pyplot as plt\n",
    "import numpy as np\n",
    "import pandas as pd\n",
    "import statsmodels.api as sm\n",
    "import pylab\n",
    "from sklearn.preprocessing import PowerTransformer, QuantileTransformer\n",
    "from sqlalchemy import create_engine\n",
    "from sklearn.preprocessing import StandardScaler\n",
    "from statsmodels.stats.outliers_influence import variance_inflation_factor\n",
    "from statsmodels.tools.tools import add_constant\n",
    "from sklearn.linear_model import LinearRegression\n",
    "from sklearn.model_selection import train_test_split\n",
    "from sqlalchemy import create_engine\n",
    "import seaborn as sns"
   ]
  },
  {
   "cell_type": "code",
   "execution_count": 481,
   "metadata": {},
   "outputs": [
    {
     "name": "stdout",
     "output_type": "stream",
     "text": [
      "<class 'pandas.core.frame.DataFrame'>\n",
      "RangeIndex: 1460 entries, 0 to 1459\n",
      "Data columns (total 81 columns):\n",
      " #   Column         Non-Null Count  Dtype  \n",
      "---  ------         --------------  -----  \n",
      " 0   id             1460 non-null   int64  \n",
      " 1   mssubclass     1460 non-null   int64  \n",
      " 2   mszoning       1460 non-null   object \n",
      " 3   lotfrontage    1201 non-null   float64\n",
      " 4   lotarea        1460 non-null   int64  \n",
      " 5   street         1460 non-null   object \n",
      " 6   alley          91 non-null     object \n",
      " 7   lotshape       1460 non-null   object \n",
      " 8   landcontour    1460 non-null   object \n",
      " 9   utilities      1460 non-null   object \n",
      " 10  lotconfig      1460 non-null   object \n",
      " 11  landslope      1460 non-null   object \n",
      " 12  neighborhood   1460 non-null   object \n",
      " 13  condition1     1460 non-null   object \n",
      " 14  condition2     1460 non-null   object \n",
      " 15  bldgtype       1460 non-null   object \n",
      " 16  housestyle     1460 non-null   object \n",
      " 17  overallqual    1460 non-null   int64  \n",
      " 18  overallcond    1460 non-null   int64  \n",
      " 19  yearbuilt      1460 non-null   int64  \n",
      " 20  yearremodadd   1460 non-null   int64  \n",
      " 21  roofstyle      1460 non-null   object \n",
      " 22  roofmatl       1460 non-null   object \n",
      " 23  exterior1st    1460 non-null   object \n",
      " 24  exterior2nd    1460 non-null   object \n",
      " 25  masvnrtype     1452 non-null   object \n",
      " 26  masvnrarea     1452 non-null   float64\n",
      " 27  exterqual      1460 non-null   object \n",
      " 28  extercond      1460 non-null   object \n",
      " 29  foundation     1460 non-null   object \n",
      " 30  bsmtqual       1423 non-null   object \n",
      " 31  bsmtcond       1423 non-null   object \n",
      " 32  bsmtexposure   1422 non-null   object \n",
      " 33  bsmtfintype1   1423 non-null   object \n",
      " 34  bsmtfinsf1     1460 non-null   int64  \n",
      " 35  bsmtfintype2   1422 non-null   object \n",
      " 36  bsmtfinsf2     1460 non-null   int64  \n",
      " 37  bsmtunfsf      1460 non-null   int64  \n",
      " 38  totalbsmtsf    1460 non-null   int64  \n",
      " 39  heating        1460 non-null   object \n",
      " 40  heatingqc      1460 non-null   object \n",
      " 41  centralair     1460 non-null   object \n",
      " 42  electrical     1459 non-null   object \n",
      " 43  firstflrsf     1460 non-null   int64  \n",
      " 44  secondflrsf    1460 non-null   int64  \n",
      " 45  lowqualfinsf   1460 non-null   int64  \n",
      " 46  grlivarea      1460 non-null   int64  \n",
      " 47  bsmtfullbath   1460 non-null   int64  \n",
      " 48  bsmthalfbath   1460 non-null   int64  \n",
      " 49  fullbath       1460 non-null   int64  \n",
      " 50  halfbath       1460 non-null   int64  \n",
      " 51  bedroomabvgr   1460 non-null   int64  \n",
      " 52  kitchenabvgr   1460 non-null   int64  \n",
      " 53  kitchenqual    1460 non-null   object \n",
      " 54  totrmsabvgrd   1460 non-null   int64  \n",
      " 55  functional     1460 non-null   object \n",
      " 56  fireplaces     1460 non-null   int64  \n",
      " 57  fireplacequ    770 non-null    object \n",
      " 58  garagetype     1379 non-null   object \n",
      " 59  garageyrblt    1379 non-null   float64\n",
      " 60  garagefinish   1379 non-null   object \n",
      " 61  garagecars     1460 non-null   int64  \n",
      " 62  garagearea     1460 non-null   int64  \n",
      " 63  garagequal     1379 non-null   object \n",
      " 64  garagecond     1379 non-null   object \n",
      " 65  paveddrive     1460 non-null   object \n",
      " 66  wooddecksf     1460 non-null   int64  \n",
      " 67  openporchsf    1460 non-null   int64  \n",
      " 68  enclosedporch  1460 non-null   int64  \n",
      " 69  threessnporch  1460 non-null   int64  \n",
      " 70  screenporch    1460 non-null   int64  \n",
      " 71  poolarea       1460 non-null   int64  \n",
      " 72  poolqc         7 non-null      object \n",
      " 73  fence          281 non-null    object \n",
      " 74  miscfeature    54 non-null     object \n",
      " 75  miscval        1460 non-null   int64  \n",
      " 76  mosold         1460 non-null   int64  \n",
      " 77  yrsold         1460 non-null   int64  \n",
      " 78  saletype       1460 non-null   object \n",
      " 79  salecondition  1460 non-null   object \n",
      " 80  saleprice      1460 non-null   int64  \n",
      "dtypes: float64(3), int64(35), object(43)\n",
      "memory usage: 924.0+ KB\n"
     ]
    },
    {
     "data": {
      "text/plain": [
       "array([[<matplotlib.axes._subplots.AxesSubplot object at 0x7fe69cd00750>]],\n",
       "      dtype=object)"
      ]
     },
     "execution_count": 481,
     "metadata": {},
     "output_type": "execute_result"
    },
    {
     "data": {
      "image/png": "[encoded data removed]",
      "text/plain": [
       "<Figure size 432x288 with 1 Axes>"
      ]
     },
     "metadata": {
      "needs_background": "light"
     },
     "output_type": "display_data"
    }
   ],
   "source": [
    "postgres_user = 'dsbc_student'\n",
    "postgres_pw = '7*.8G9QH21'\n",
    "postgres_host = '142.93.121.174'\n",
    "postgres_port = '5432'\n",
    "postgres_db = 'houseprices'\n",
    "\n",
    "engine = create_engine('postgresql://{}:{}@{}:{}/{}'.format(\n",
    "    postgres_user, postgres_pw, postgres_host, postgres_port, postgres_db))\n",
    "\n",
    "df1 = pd.read_sql_query('select* from houseprices', con = engine)\n",
    "\n",
    "engine.dispose()\n",
    "df1.shape\n",
    "numerics = ['int16', 'int32', 'int64', 'float16', 'float32', 'float64']\n",
    "\n",
    "df1.info()\n",
    "df1.hist('saleprice')"
   ]
  },
  {
   "cell_type": "markdown",
   "metadata": {},
   "source": [
    "Do data cleaning, exploratory data analysis, and feature engineering. You can use your previous work in this module. But make sure that your work is satisfactory.\n"
   ]
  },
  {
   "cell_type": "code",
   "execution_count": 422,
   "metadata": {},
   "outputs": [
    {
     "name": "stdout",
     "output_type": "stream",
     "text": [
      "<class 'pandas.core.frame.DataFrame'>\n",
      "RangeIndex: 1460 entries, 0 to 1459\n",
      "Data columns (total 4 columns):\n",
      " #   Column       Non-Null Count  Dtype\n",
      "---  ------       --------------  -----\n",
      " 0   overallcond  1460 non-null   int64\n",
      " 1   grlivarea    1460 non-null   int64\n",
      " 2   fullbath     1460 non-null   int64\n",
      " 3   garagecars   1460 non-null   int64\n",
      "dtypes: int64(4)\n",
      "memory usage: 45.8 KB\n"
     ]
    }
   ],
   "source": [
    "X = pd.concat([df1[['overallcond','grlivarea','fullbath','garagecars']]], axis = 1)\n",
    "y = df1['saleprice']\n",
    "X.info()"
   ]
  },
  {
   "cell_type": "code",
   "execution_count": null,
   "metadata": {},
   "outputs": [],
   "source": []
  },
  {
   "cell_type": "markdown",
   "metadata": {},
   "source": [
    "Now, split your data into train and test sets where 20% of the data resides in the test set.\n"
   ]
  },
  {
   "cell_type": "code",
   "execution_count": 423,
   "metadata": {},
   "outputs": [
    {
     "name": "stdout",
     "output_type": "stream",
     "text": [
      "(1095, 4)\n",
      "(1095,)\n"
     ]
    }
   ],
   "source": [
    "X_train, X_test, y_train, y_test = train_test_split(X, y, random_state=40)\n",
    "print(X_train.shape)\n",
    "print(y_train.shape)\n"
   ]
  },
  {
   "cell_type": "code",
   "execution_count": 424,
   "metadata": {},
   "outputs": [
    {
     "name": "stdout",
     "output_type": "stream",
     "text": [
      "(1095, 5)\n",
      "(1095,)\n"
     ]
    },
    {
     "data": {
      "text/html": [
       "<table class=\"simpletable\">\n",
       "<caption>OLS Regression Results</caption>\n",
       "<tr>\n",
       "  <th>Dep. Variable:</th>        <td>saleprice</td>    <th>  R-squared:         </th> <td>   0.627</td> \n",
       "</tr>\n",
       "<tr>\n",
       "  <th>Model:</th>                   <td>OLS</td>       <th>  Adj. R-squared:    </th> <td>   0.626</td> \n",
       "</tr>\n",
       "<tr>\n",
       "  <th>Method:</th>             <td>Least Squares</td>  <th>  F-statistic:       </th> <td>   458.4</td> \n",
       "</tr>\n",
       "<tr>\n",
       "  <th>Date:</th>             <td>Thu, 28 May 2020</td> <th>  Prob (F-statistic):</th> <td>1.02e-231</td>\n",
       "</tr>\n",
       "<tr>\n",
       "  <th>Time:</th>                 <td>00:32:16</td>     <th>  Log-Likelihood:    </th> <td> -13394.</td> \n",
       "</tr>\n",
       "<tr>\n",
       "  <th>No. Observations:</th>      <td>  1095</td>      <th>  AIC:               </th> <td>2.680e+04</td>\n",
       "</tr>\n",
       "<tr>\n",
       "  <th>Df Residuals:</th>          <td>  1090</td>      <th>  BIC:               </th> <td>2.682e+04</td>\n",
       "</tr>\n",
       "<tr>\n",
       "  <th>Df Model:</th>              <td>     4</td>      <th>                     </th>     <td> </td>    \n",
       "</tr>\n",
       "<tr>\n",
       "  <th>Covariance Type:</th>      <td>nonrobust</td>    <th>                     </th>     <td> </td>    \n",
       "</tr>\n",
       "</table>\n",
       "<table class=\"simpletable\">\n",
       "<tr>\n",
       "       <td></td>          <th>coef</th>     <th>std err</th>      <th>t</th>      <th>P>|t|</th>  <th>[0.025</th>    <th>0.975]</th>  \n",
       "</tr>\n",
       "<tr>\n",
       "  <th>const</th>       <td>-4.784e+04</td> <td> 1.02e+04</td> <td>   -4.687</td> <td> 0.000</td> <td>-6.79e+04</td> <td>-2.78e+04</td>\n",
       "</tr>\n",
       "<tr>\n",
       "  <th>overallcond</th> <td> 4494.2364</td> <td> 1405.675</td> <td>    3.197</td> <td> 0.001</td> <td> 1736.101</td> <td> 7252.372</td>\n",
       "</tr>\n",
       "<tr>\n",
       "  <th>grlivarea</th>   <td>   73.5275</td> <td>    3.800</td> <td>   19.352</td> <td> 0.000</td> <td>   66.072</td> <td>   80.983</td>\n",
       "</tr>\n",
       "<tr>\n",
       "  <th>fullbath</th>    <td> 1.444e+04</td> <td> 3675.983</td> <td>    3.929</td> <td> 0.000</td> <td> 7229.801</td> <td> 2.17e+04</td>\n",
       "</tr>\n",
       "<tr>\n",
       "  <th>garagecars</th>  <td> 3.974e+04</td> <td> 2362.069</td> <td>   16.824</td> <td> 0.000</td> <td> 3.51e+04</td> <td> 4.44e+04</td>\n",
       "</tr>\n",
       "</table>\n",
       "<table class=\"simpletable\">\n",
       "<tr>\n",
       "  <th>Omnibus:</th>       <td>208.905</td> <th>  Durbin-Watson:     </th> <td>   1.896</td>\n",
       "</tr>\n",
       "<tr>\n",
       "  <th>Prob(Omnibus):</th> <td> 0.000</td>  <th>  Jarque-Bera (JB):  </th> <td>2553.070</td>\n",
       "</tr>\n",
       "<tr>\n",
       "  <th>Skew:</th>          <td> 0.489</td>  <th>  Prob(JB):          </th> <td>    0.00</td>\n",
       "</tr>\n",
       "<tr>\n",
       "  <th>Kurtosis:</th>      <td>10.416</td>  <th>  Cond. No.          </th> <td>1.10e+04</td>\n",
       "</tr>\n",
       "</table><br/><br/>Warnings:<br/>[1] Standard Errors assume that the covariance matrix of the errors is correctly specified.<br/>[2] The condition number is large, 1.1e+04. This might indicate that there are<br/>strong multicollinearity or other numerical problems."
      ],
      "text/plain": [
       "<class 'statsmodels.iolib.summary.Summary'>\n",
       "\"\"\"\n",
       "                            OLS Regression Results                            \n",
       "==============================================================================\n",
       "Dep. Variable:              saleprice   R-squared:                       0.627\n",
       "Model:                            OLS   Adj. R-squared:                  0.626\n",
       "Method:                 Least Squares   F-statistic:                     458.4\n",
       "Date:                Thu, 28 May 2020   Prob (F-statistic):          1.02e-231\n",
       "Time:                        00:32:16   Log-Likelihood:                -13394.\n",
       "No. Observations:                1095   AIC:                         2.680e+04\n",
       "Df Residuals:                    1090   BIC:                         2.682e+04\n",
       "Df Model:                           4                                         \n",
       "Covariance Type:            nonrobust                                         \n",
       "===============================================================================\n",
       "                  coef    std err          t      P>|t|      [0.025      0.975]\n",
       "-------------------------------------------------------------------------------\n",
       "const       -4.784e+04   1.02e+04     -4.687      0.000   -6.79e+04   -2.78e+04\n",
       "overallcond  4494.2364   1405.675      3.197      0.001    1736.101    7252.372\n",
       "grlivarea      73.5275      3.800     19.352      0.000      66.072      80.983\n",
       "fullbath     1.444e+04   3675.983      3.929      0.000    7229.801    2.17e+04\n",
       "garagecars   3.974e+04   2362.069     16.824      0.000    3.51e+04    4.44e+04\n",
       "==============================================================================\n",
       "Omnibus:                      208.905   Durbin-Watson:                   1.896\n",
       "Prob(Omnibus):                  0.000   Jarque-Bera (JB):             2553.070\n",
       "Skew:                           0.489   Prob(JB):                         0.00\n",
       "Kurtosis:                      10.416   Cond. No.                     1.10e+04\n",
       "==============================================================================\n",
       "\n",
       "Warnings:\n",
       "[1] Standard Errors assume that the covariance matrix of the errors is correctly specified.\n",
       "[2] The condition number is large, 1.1e+04. This might indicate that there are\n",
       "strong multicollinearity or other numerical problems.\n",
       "\"\"\""
      ]
     },
     "execution_count": 424,
     "metadata": {},
     "output_type": "execute_result"
    }
   ],
   "source": [
    "import statsmodels.api as sm\n",
    "X_train = sm.add_constant(X_train)\n",
    "X_test = sm.add_constant(X_test)\n",
    "print(X_train.shape)\n",
    "print(y_train.shape)\n",
    "results = sm.OLS(y_train, X_train).fit()\n",
    "results.summary()"
   ]
  },
  {
   "cell_type": "code",
   "execution_count": 425,
   "metadata": {},
   "outputs": [
    {
     "data": {
      "text/plain": [
       "const          46.029260\n",
       "overallcond     1.068257\n",
       "grlivarea       1.814034\n",
       "fullbath        1.839777\n",
       "garagecars      1.401560\n",
       "dtype: float64"
      ]
     },
     "execution_count": 425,
     "metadata": {},
     "output_type": "execute_result"
    }
   ],
   "source": [
    "from statsmodels.stats.outliers_influence import variance_inflation_factor\n",
    "pd.Series([variance_inflation_factor(X_train.values, i)\n",
    "   for i in range(X_train.shape[1])], index = X_train.columns)"
   ]
  },
  {
   "cell_type": "markdown",
   "metadata": {},
   "source": [
    "Build several linear regression models including Lasso, Ridge, or ElasticNet and train them in the training set. "
   ]
  },
  {
   "cell_type": "code",
   "execution_count": 426,
   "metadata": {},
   "outputs": [
    {
     "name": "stdout",
     "output_type": "stream",
     "text": [
      "R-squared of the model on the training set is: 0.6271706833654755\n",
      "-----Test set statistics-----\n",
      "R-squared of the model on the test set is: 0.6398552847776747\n",
      "Mean absolute error of the prediction is: 29981.144121433623\n",
      "Mean squared error of the prediction is: 1937784252.938219\n",
      "Root mean squared error of the prediction is: 44020.27093213102\n",
      "Mean absolute percentage error of the prediction is: 18.19697706404159\n"
     ]
    }
   ],
   "source": [
    "from sklearn.linear_model import LinearRegression\n",
    "lrm = LinearRegression()\n",
    "lrm.fit(X_train, y_train)\n",
    "y_lrmpredict = lrm.predict(X_test)\n",
    "\n",
    "\n",
    "print(\"R-squared of the model on the training set is: {}\".format(lrm.score(X_train, y_train)))\n",
    "print(\"-----Test set statistics-----\")\n",
    "print(\"R-squared of the model on the test set is: {}\".format(lrm.score(X_test, y_test)))\n",
    "print(\"Mean absolute error of the prediction is: {}\".format(mean_absolute_error(y_test, y_lrmpredict)))\n",
    "print(\"Mean squared error of the prediction is: {}\".format(mse(y_test, y_lrmpredict)))\n",
    "print(\"Root mean squared error of the prediction is: {}\".format(rmse(y_test, y_lrmpredict)))\n",
    "print(\"Mean absolute percentage error of the prediction is: {}\".format(np.mean(np.abs((y_test - y_lrmpredict) / y_test)) * 100))\n"
   ]
  },
  {
   "cell_type": "markdown",
   "metadata": {},
   "source": [
    "Use k-fold cross-validation to select the best hyperparameters if your models include one!\n"
   ]
  },
  {
   "cell_type": "code",
   "execution_count": 427,
   "metadata": {},
   "outputs": [
    {
     "name": "stdout",
     "output_type": "stream",
     "text": [
      "Best lambda = 1.0\n",
      "Best R-squared of the model for Ridge on the training set is: 0.6271701447633151\n",
      "-----Test set statistics-----\n",
      "R-squared of the Ridge model on the test set is: 0.6398299361146639\n",
      "Mean absolute error of the Ridge prediction is: 29975.193289471514\n",
      "Mean squared error of the Ridge prediction is: 1937920643.222289\n",
      "Root mean squared error of the Ridge prediction is: 44021.82008075415\n",
      "Mean absolute percentage error of the Ridge prediction is: 18.19032384380772\n"
     ]
    }
   ],
   "source": [
    "from sklearn.linear_model import Ridge\n",
    "RG = Ridge()\n",
    "pms = [{'alpha':[np.power(10.0,p) for p in np.arange(0,40,1)]}]\n",
    "\n",
    "from sklearn.model_selection import GridSearchCV\n",
    "RGcv = GridSearchCV(RG, param_grid=pms)\n",
    "\n",
    "RGcv.fit(X_train, y_train)\n",
    "\n",
    "print('Best lambda = ' + str(RGcv.best_estimator_.alpha))\n",
    "y_test_predRG = RGcv.predict(X_test)\n",
    "\n",
    "\n",
    "\n",
    "from sklearn.metrics import mean_absolute_error\n",
    "from statsmodels.tools.eval_measures import mse, rmse\n",
    "\n",
    "RGbest = Ridge(alpha =1)\n",
    "RGbest.fit(X_train, y_train)\n",
    "\n",
    "y_test_predRG = RGbest.predict(X_test)\n",
    "\n",
    "print(\"Best R-squared of the model for Ridge on the training set is: {}\".format(RGcv.score(X_train, y_train)))\n",
    "print(\"-----Test set statistics-----\")\n",
    "print(\"R-squared of the Ridge model on the test set is: {}\".format(RGcv.score(X_test, y_test)))\n",
    "print(\"Mean absolute error of the Ridge prediction is: {}\".format(mean_absolute_error(y_test, y_test_predRG)))\n",
    "print(\"Mean squared error of the Ridge prediction is: {}\".format(mse(y_test, y_test_predRG)))\n",
    "print(\"Root mean squared error of the Ridge prediction is: {}\".format(rmse(y_test, y_test_predRG)))\n",
    "print(\"Mean absolute percentage error of the Ridge prediction is: {}\".format(np.mean(np.abs((y_test - y_test_predRG) / y_test)) * 100))\n"
   ]
  },
  {
   "cell_type": "code",
   "execution_count": 428,
   "metadata": {},
   "outputs": [
    {
     "name": "stdout",
     "output_type": "stream",
     "text": [
      "Best alpha value is: 1.0\n",
      "R-squared of the Lasso model in training set is: 0.6271706820511271\n",
      "-----Test set statistics-----\n",
      "R-squared of the model in test set is: 0.6398574577058384\n",
      "Mean absolute error of the prediction is: 29980.874342549745\n",
      "Mean squared error of the prediction is: 1937772561.3437011\n",
      "Root mean squared error of the prediction is: 44020.13813408247\n",
      "Mean absolute percentage error of the prediction is: 18.19678369229411\n"
     ]
    }
   ],
   "source": [
    "from sklearn.linear_model import  LassoCV, RidgeCV, ElasticNetCV\n",
    "alphas = [np.power(10.0,p) for p in np.arange(0,40,1)]\n",
    "lasso_cv = LassoCV(alphas=alphas, cv=5)\n",
    "\n",
    "lasso_cv.fit(X_train, y_train)\n",
    "\n",
    "# We are making predictions here\n",
    "y_preds_train = lasso_cv.predict(X_train)\n",
    "y_preds_test = lasso_cv.predict(X_test)\n",
    "\n",
    "print(\"Best alpha value is: {}\".format(lasso_cv.alpha_))\n",
    "print(\"R-squared of the Lasso model in training set is: {}\".format(lasso_cv.score(X_train, y_train)))\n",
    "print(\"-----Test set statistics-----\")\n",
    "print(\"R-squared of the model in test set is: {}\".format(lasso_cv.score(X_test, y_test)))\n",
    "print(\"Mean absolute error of the prediction is: {}\".format(mean_absolute_error(y_test, y_preds_test)))\n",
    "print(\"Mean squared error of the prediction is: {}\".format(mse(y_test, y_preds_test)))\n",
    "print(\"Root mean squared error of the prediction is: {}\".format(rmse(y_test, y_preds_test)))\n",
    "print(\"Mean absolute percentage error of the prediction is: {}\".format(np.mean(np.abs((y_test - y_preds_test) / y_test)) * 100))"
   ]
  },
  {
   "cell_type": "code",
   "execution_count": 429,
   "metadata": {},
   "outputs": [
    {
     "name": "stdout",
     "output_type": "stream",
     "text": [
      "Best alpha value is: 0.001\n",
      "R-squared of the Elastic model in training set is: 0.6271705215730331\n",
      "-----Test set statistics-----\n",
      "R-squared of the model in test set is: 0.6398415728082749\n",
      "Mean absolute error of the prediction is: 29977.882775522594\n",
      "Mean squared error of the prediction is: 1937858031.1647394\n",
      "Root mean squared error of the prediction is: 44021.10892702204\n",
      "Mean absolute percentage error of the prediction is: 18.193331209500396\n"
     ]
    }
   ],
   "source": [
    "\n",
    "alphas = [np.power(10.0,p) for p in np.arange(-3,40,1)]\n",
    "EL_cv = ElasticNetCV(alphas=alphas, cv=10, max_iter=100000)\n",
    "\n",
    "EL_cv.fit(X_train, y_train)\n",
    "\n",
    "# We are making predictions here\n",
    "y_preds_train = EL_cv.predict(X_train)\n",
    "y_preds_test = EL_cv.predict(X_test)\n",
    "\n",
    "print(\"Best alpha value is: {}\".format(EL_cv.alpha_))\n",
    "print(\"R-squared of the Elastic model in training set is: {}\".format(EL_cv.score(X_train, y_train)))\n",
    "print(\"-----Test set statistics-----\")\n",
    "print(\"R-squared of the model in test set is: {}\".format(EL_cv.score(X_test, y_test)))\n",
    "print(\"Mean absolute error of the prediction is: {}\".format(mean_absolute_error(y_test, y_preds_test)))\n",
    "print(\"Mean squared error of the prediction is: {}\".format(mse(y_test, y_preds_test)))\n",
    "print(\"Root mean squared error of the prediction is: {}\".format(rmse(y_test, y_preds_test)))\n",
    "print(\"Mean absolute percentage error of the prediction is: {}\".format(np.mean(np.abs((y_test - y_preds_test) / y_test)) * 100))"
   ]
  },
  {
   "cell_type": "markdown",
   "metadata": {},
   "source": [
    "Evaluate your best model on the test set.\n"
   ]
  },
  {
   "cell_type": "markdown",
   "metadata": {},
   "source": [
    "The best model is linear regression with an lambda of 0.01. This produces the least % error between train and test set (18.19%) paired with similar closeness in r-squared values to the training set (~0.63 and ~0.64 respectively)."
   ]
  },
  {
   "cell_type": "markdown",
   "metadata": {},
   "source": [
    "So far, you have only used the features in the dataset. However, house prices can be affected by many factors like economic activity and the interest rates at the time they are sold. So, try to find some useful factors that are not included in the dataset. Integrate these factors into your model and assess the prediction performance of your model. Discuss the implications of adding these external variables into your model."
   ]
  },
  {
   "cell_type": "code",
   "execution_count": 455,
   "metadata": {},
   "outputs": [
    {
     "data": {
      "text/html": [
       "<div>\n",
       "<style scoped>\n",
       "    .dataframe tbody tr th:only-of-type {\n",
       "        vertical-align: middle;\n",
       "    }\n",
       "\n",
       "    .dataframe tbody tr th {\n",
       "        vertical-align: top;\n",
       "    }\n",
       "\n",
       "    .dataframe thead th {\n",
       "        text-align: right;\n",
       "    }\n",
       "</style>\n",
       "<table border=\"1\" class=\"dataframe\">\n",
       "  <thead>\n",
       "    <tr style=\"text-align: right;\">\n",
       "      <th></th>\n",
       "      <th>mosold</th>\n",
       "      <th>2006</th>\n",
       "      <th>2007</th>\n",
       "      <th>2008</th>\n",
       "      <th>2009</th>\n",
       "      <th>2010</th>\n",
       "      <th>2011</th>\n",
       "    </tr>\n",
       "  </thead>\n",
       "  <tbody>\n",
       "    <tr>\n",
       "      <th>0</th>\n",
       "      <td>January</td>\n",
       "      <td>5.71</td>\n",
       "      <td>5.97</td>\n",
       "      <td>5.29</td>\n",
       "      <td>4.72</td>\n",
       "      <td>4.44</td>\n",
       "      <td>4.1</td>\n",
       "    </tr>\n",
       "    <tr>\n",
       "      <th>1</th>\n",
       "      <td>February</td>\n",
       "      <td>5.86</td>\n",
       "      <td>6.02</td>\n",
       "      <td>5.44</td>\n",
       "      <td>4.77</td>\n",
       "      <td>4.37</td>\n",
       "      <td>4.2</td>\n",
       "    </tr>\n",
       "    <tr>\n",
       "      <th>2</th>\n",
       "      <td>March</td>\n",
       "      <td>5.97</td>\n",
       "      <td>5.88</td>\n",
       "      <td>5.42</td>\n",
       "      <td>4.64</td>\n",
       "      <td>4.33</td>\n",
       "      <td>4.1</td>\n",
       "    </tr>\n",
       "    <tr>\n",
       "      <th>3</th>\n",
       "      <td>April</td>\n",
       "      <td>6.16</td>\n",
       "      <td>5.88</td>\n",
       "      <td>5.47</td>\n",
       "      <td>4.50</td>\n",
       "      <td>4.42</td>\n",
       "      <td>4.1</td>\n",
       "    </tr>\n",
       "    <tr>\n",
       "      <th>4</th>\n",
       "      <td>May</td>\n",
       "      <td>6.21</td>\n",
       "      <td>5.97</td>\n",
       "      <td>5.60</td>\n",
       "      <td>4.52</td>\n",
       "      <td>4.28</td>\n",
       "      <td>3.8</td>\n",
       "    </tr>\n",
       "  </tbody>\n",
       "</table>\n",
       "</div>"
      ],
      "text/plain": [
       "     mosold  2006  2007  2008  2009  2010  2011\n",
       "0   January  5.71  5.97  5.29  4.72  4.44   4.1\n",
       "1  February  5.86  6.02  5.44  4.77  4.37   4.2\n",
       "2     March  5.97  5.88  5.42  4.64  4.33   4.1\n",
       "3     April  6.16  5.88  5.47  4.50  4.42   4.1\n",
       "4       May  6.21  5.97  5.60  4.52  4.28   3.8"
      ]
     },
     "execution_count": 455,
     "metadata": {},
     "output_type": "execute_result"
    }
   ],
   "source": [
    "#Importing a table with year and month 15yr mortage interest rate data to be matched with houseprice data\n",
    "intrates = pd.read_csv('https://raw.githubusercontent.com/robholmstrom/Sams_github/master/15yrmortrates.csv')\n",
    "intrates.rename(columns={\"Unnamed: 0\": 'mosold'},inplace=True)\n",
    "intrates.head() # Need to melt columns"
   ]
  },
  {
   "cell_type": "code",
   "execution_count": 431,
   "metadata": {},
   "outputs": [],
   "source": [
    "#Melted interest rate dataframe to incorporate month and year 15yr interest rates to match with salesprice of homes\n",
    "intratemelt = pd.melt(intrates, id_vars=['mosold'], value_vars=intrates.columns[1:].tolist(), var_name='yrsold', value_name='15yr_rate')\n",
    "#Changes month column in a interest rate dataframe to sync with df1 (month number in df1)\n",
    "d = {'January':1,\n",
    " 'February':2,\n",
    " 'March':3,\n",
    " 'April':4,\n",
    " 'May':5,\n",
    " 'June':6,\n",
    " 'July':7,\n",
    " 'August':8,\n",
    " 'September':9,\n",
    " 'October':10,\n",
    " 'November':11,\n",
    " 'December':12}\n",
    "\n",
    "intratemelt.mosold = intratemelt.mosold.replace(d)\n",
    "intratemelt.yrsold = pd.to_numeric(intratemelt.yrsold) # is integer in df1\n"
   ]
  },
  {
   "cell_type": "code",
   "execution_count": 432,
   "metadata": {},
   "outputs": [],
   "source": [
    "# merge interest rate (mo and yr) to houseprice data on month and year sold\n",
    "dfint = pd.merge(df1,intratemelt, on = ['yrsold', 'mosold'])\n",
    "dfint.sort_values('id',ascending=True, inplace= True)"
   ]
  },
  {
   "cell_type": "code",
   "execution_count": 447,
   "metadata": {},
   "outputs": [],
   "source": [
    "# Rebuild the feature and label data, but with 15 yr mortgage rates as feature\n",
    "X2 = pd.concat([dfint[['overallcond', 'grlivarea','fullbath','garagecars','15yr_rate']]], axis = 1)\n",
    "y2 = dfint['saleprice']\n"
   ]
  },
  {
   "cell_type": "code",
   "execution_count": 448,
   "metadata": {},
   "outputs": [],
   "source": [
    "#Repeat tasks as above for OLS to get a sense of F-score and p-values\n",
    "X2_train, X2_test, y2_train, y2_test = train_test_split(X2, y2, random_state=40)\n"
   ]
  },
  {
   "cell_type": "code",
   "execution_count": 449,
   "metadata": {},
   "outputs": [
    {
     "name": "stdout",
     "output_type": "stream",
     "text": [
      "(1095, 6)\n",
      "(1095,)\n"
     ]
    },
    {
     "data": {
      "text/html": [
       "<table class=\"simpletable\">\n",
       "<caption>OLS Regression Results</caption>\n",
       "<tr>\n",
       "  <th>Dep. Variable:</th>        <td>saleprice</td>    <th>  R-squared:         </th> <td>   0.628</td> \n",
       "</tr>\n",
       "<tr>\n",
       "  <th>Model:</th>                   <td>OLS</td>       <th>  Adj. R-squared:    </th> <td>   0.627</td> \n",
       "</tr>\n",
       "<tr>\n",
       "  <th>Method:</th>             <td>Least Squares</td>  <th>  F-statistic:       </th> <td>   368.0</td> \n",
       "</tr>\n",
       "<tr>\n",
       "  <th>Date:</th>             <td>Thu, 28 May 2020</td> <th>  Prob (F-statistic):</th> <td>5.02e-231</td>\n",
       "</tr>\n",
       "<tr>\n",
       "  <th>Time:</th>                 <td>00:34:53</td>     <th>  Log-Likelihood:    </th> <td> -13403.</td> \n",
       "</tr>\n",
       "<tr>\n",
       "  <th>No. Observations:</th>      <td>  1095</td>      <th>  AIC:               </th> <td>2.682e+04</td>\n",
       "</tr>\n",
       "<tr>\n",
       "  <th>Df Residuals:</th>          <td>  1089</td>      <th>  BIC:               </th> <td>2.685e+04</td>\n",
       "</tr>\n",
       "<tr>\n",
       "  <th>Df Model:</th>              <td>     5</td>      <th>                     </th>     <td> </td>    \n",
       "</tr>\n",
       "<tr>\n",
       "  <th>Covariance Type:</th>      <td>nonrobust</td>    <th>                     </th>     <td> </td>    \n",
       "</tr>\n",
       "</table>\n",
       "<table class=\"simpletable\">\n",
       "<tr>\n",
       "       <td></td>          <th>coef</th>     <th>std err</th>      <th>t</th>      <th>P>|t|</th>  <th>[0.025</th>    <th>0.975]</th>  \n",
       "</tr>\n",
       "<tr>\n",
       "  <th>const</th>       <td>-5.495e+04</td> <td> 1.46e+04</td> <td>   -3.755</td> <td> 0.000</td> <td>-8.37e+04</td> <td>-2.62e+04</td>\n",
       "</tr>\n",
       "<tr>\n",
       "  <th>overallcond</th> <td> 4853.1823</td> <td> 1420.746</td> <td>    3.416</td> <td> 0.001</td> <td> 2065.474</td> <td> 7640.891</td>\n",
       "</tr>\n",
       "<tr>\n",
       "  <th>grlivarea</th>   <td>   73.1259</td> <td>    3.813</td> <td>   19.180</td> <td> 0.000</td> <td>   65.645</td> <td>   80.607</td>\n",
       "</tr>\n",
       "<tr>\n",
       "  <th>fullbath</th>    <td> 1.461e+04</td> <td> 3724.334</td> <td>    3.923</td> <td> 0.000</td> <td> 7302.316</td> <td> 2.19e+04</td>\n",
       "</tr>\n",
       "<tr>\n",
       "  <th>garagecars</th>  <td>  4.13e+04</td> <td> 2396.826</td> <td>   17.232</td> <td> 0.000</td> <td> 3.66e+04</td> <td>  4.6e+04</td>\n",
       "</tr>\n",
       "<tr>\n",
       "  <th>15yr_rate</th>   <td>  676.1384</td> <td> 1985.144</td> <td>    0.341</td> <td> 0.733</td> <td>-3219.001</td> <td> 4571.278</td>\n",
       "</tr>\n",
       "</table>\n",
       "<table class=\"simpletable\">\n",
       "<tr>\n",
       "  <th>Omnibus:</th>       <td>203.018</td> <th>  Durbin-Watson:     </th> <td>   1.947</td>\n",
       "</tr>\n",
       "<tr>\n",
       "  <th>Prob(Omnibus):</th> <td> 0.000</td>  <th>  Jarque-Bera (JB):  </th> <td>2314.345</td>\n",
       "</tr>\n",
       "<tr>\n",
       "  <th>Skew:</th>          <td> 0.486</td>  <th>  Prob(JB):          </th> <td>    0.00</td>\n",
       "</tr>\n",
       "<tr>\n",
       "  <th>Kurtosis:</th>      <td>10.056</td>  <th>  Cond. No.          </th> <td>1.56e+04</td>\n",
       "</tr>\n",
       "</table><br/><br/>Warnings:<br/>[1] Standard Errors assume that the covariance matrix of the errors is correctly specified.<br/>[2] The condition number is large, 1.56e+04. This might indicate that there are<br/>strong multicollinearity or other numerical problems."
      ],
      "text/plain": [
       "<class 'statsmodels.iolib.summary.Summary'>\n",
       "\"\"\"\n",
       "                            OLS Regression Results                            \n",
       "==============================================================================\n",
       "Dep. Variable:              saleprice   R-squared:                       0.628\n",
       "Model:                            OLS   Adj. R-squared:                  0.627\n",
       "Method:                 Least Squares   F-statistic:                     368.0\n",
       "Date:                Thu, 28 May 2020   Prob (F-statistic):          5.02e-231\n",
       "Time:                        00:34:53   Log-Likelihood:                -13403.\n",
       "No. Observations:                1095   AIC:                         2.682e+04\n",
       "Df Residuals:                    1089   BIC:                         2.685e+04\n",
       "Df Model:                           5                                         \n",
       "Covariance Type:            nonrobust                                         \n",
       "===============================================================================\n",
       "                  coef    std err          t      P>|t|      [0.025      0.975]\n",
       "-------------------------------------------------------------------------------\n",
       "const       -5.495e+04   1.46e+04     -3.755      0.000   -8.37e+04   -2.62e+04\n",
       "overallcond  4853.1823   1420.746      3.416      0.001    2065.474    7640.891\n",
       "grlivarea      73.1259      3.813     19.180      0.000      65.645      80.607\n",
       "fullbath     1.461e+04   3724.334      3.923      0.000    7302.316    2.19e+04\n",
       "garagecars    4.13e+04   2396.826     17.232      0.000    3.66e+04     4.6e+04\n",
       "15yr_rate     676.1384   1985.144      0.341      0.733   -3219.001    4571.278\n",
       "==============================================================================\n",
       "Omnibus:                      203.018   Durbin-Watson:                   1.947\n",
       "Prob(Omnibus):                  0.000   Jarque-Bera (JB):             2314.345\n",
       "Skew:                           0.486   Prob(JB):                         0.00\n",
       "Kurtosis:                      10.056   Cond. No.                     1.56e+04\n",
       "==============================================================================\n",
       "\n",
       "Warnings:\n",
       "[1] Standard Errors assume that the covariance matrix of the errors is correctly specified.\n",
       "[2] The condition number is large, 1.56e+04. This might indicate that there are\n",
       "strong multicollinearity or other numerical problems.\n",
       "\"\"\""
      ]
     },
     "execution_count": 449,
     "metadata": {},
     "output_type": "execute_result"
    }
   ],
   "source": [
    "import statsmodels.api as sm\n",
    "X2_train = sm.add_constant(X2_train)\n",
    "X2_test = sm.add_constant(X2_test)\n",
    "print(X2_train.shape)\n",
    "print(y2_train.shape)\n",
    "results = sm.OLS(y2_train, X2_train).fit()\n",
    "results.summary()"
   ]
  },
  {
   "cell_type": "code",
   "execution_count": 450,
   "metadata": {},
   "outputs": [
    {
     "data": {
      "text/plain": [
       "const          92.913512\n",
       "overallcond     1.073863\n",
       "grlivarea       1.796610\n",
       "fullbath        1.824748\n",
       "garagecars      1.410146\n",
       "15yr_rate       1.004704\n",
       "dtype: float64"
      ]
     },
     "execution_count": 450,
     "metadata": {},
     "output_type": "execute_result"
    }
   ],
   "source": [
    "#Evaluate VIF for new feature\n",
    "from statsmodels.stats.outliers_influence import variance_inflation_factor\n",
    "pd.Series([variance_inflation_factor(X2_train.values, i)\n",
    "   for i in range(X2_train.shape[1])], index = X2_train.columns)"
   ]
  },
  {
   "cell_type": "code",
   "execution_count": 451,
   "metadata": {},
   "outputs": [
    {
     "data": {
      "text/plain": [
       "-6257.049245521439"
      ]
     },
     "execution_count": 451,
     "metadata": {},
     "output_type": "execute_result"
    },
    {
     "data": {
      "image/png": "[encoded data removed]",
      "text/plain": [
       "<Figure size 432x288 with 1 Axes>"
      ]
     },
     "metadata": {
      "needs_background": "light"
     },
     "output_type": "display_data"
    }
   ],
   "source": [
    "#Look at homoscedasicity\n",
    "predictions = results.predict(X2_test)\n",
    "\n",
    "residuals = y2_test-predictions\n",
    "\n",
    "import seaborn as sns\n",
    "sns.scatterplot(predictions,residuals)\n",
    "residuals.sum()\n",
    "residuals.mean()"
   ]
  },
  {
   "cell_type": "code",
   "execution_count": 454,
   "metadata": {},
   "outputs": [
    {
     "name": "stdout",
     "output_type": "stream",
     "text": [
      "R-squared of the model on the training set is: 0.6282197624998613\n",
      "-----Test set statistics-----\n",
      "R-squared of the model on the test set is: 0.6333142357506412\n",
      "Mean absolute error of the prediction is: 29158.33669410256\n",
      "Mean squared error of the prediction is: 1822300486.8325021\n",
      "Root mean squared error of the prediction is: 42688.411622271706\n",
      "Mean absolute percentage error of the prediction is: 18.038427410255746\n"
     ]
    }
   ],
   "source": [
    "# Retest the best performing linear model with the new 15 yr mortgage rates\n",
    "lrm2 = LinearRegression()\n",
    "lrm2.fit(X2_train, y2_train)\n",
    "y2_lrmpredict = lrm2.predict(X2_test)\n",
    "\n",
    "\n",
    "print(\"R-squared of the model on the training set is: {}\".format(lrm2.score(X2_train, y2_train)))\n",
    "print(\"-----Test set statistics-----\")\n",
    "print(\"R-squared of the model on the test set is: {}\".format(lrm2.score(X2_test, y2_test)))\n",
    "print(\"Mean absolute error of the prediction is: {}\".format(mean_absolute_error(y2_test, y2_lrmpredict)))\n",
    "print(\"Mean squared error of the prediction is: {}\".format(mse(y2_test, y2_lrmpredict)))\n",
    "print(\"Root mean squared error of the prediction is: {}\".format(rmse(y2_test, y2_lrmpredict)))\n",
    "print(\"Mean absolute percentage error of the prediction is: {}\".format(np.mean(np.abs((y2_test - y2_lrmpredict) / y2_test)) * 100))\n"
   ]
  },
  {
   "cell_type": "markdown",
   "metadata": {},
   "source": [
    "Here, I added the 15 yr mortgage rate that was available for buyers at the time the homes were sold. My idea was that better interest rates would create more demand for homes purchase and raise the price of homes. Although the linear regression with the 15yr rates feature mildly reduced percent error (18 vs 18.19), the r-squared value was decreased from 0.64 to 0.633. This is not surprising since the high p-value for mortgage rates suggests this feature is not playing a role in the predicting price with the other features in place. Mortgage rates might not provide solid predictive power as the rates were in flux and the economy was still recovering from the housing crisis between the years 2008-2011. Overall, the mortgage rate did not provide additional predictive power, at least with the feature combinations I was using. "
   ]
  },
  {
   "cell_type": "code",
   "execution_count": null,
   "metadata": {},
   "outputs": [],
   "source": []
  },
  {
   "cell_type": "code",
   "execution_count": null,
   "metadata": {},
   "outputs": [],
   "source": []
  }
 ],
 "metadata": {
  "kernelspec": {
   "display_name": "Python 3",
   "language": "python",
   "name": "python3"
  },
  "language_info": {
   "codemirror_mode": {
    "name": "ipython",
    "version": 3
   },
   "file_extension": ".py",
   "mimetype": "text/x-python",
   "name": "python",
   "nbconvert_exporter": "python",
   "pygments_lexer": "ipython3",
   "version": "3.7.4"
  }
 },
 "nbformat": 4,
 "nbformat_minor": 4
}
