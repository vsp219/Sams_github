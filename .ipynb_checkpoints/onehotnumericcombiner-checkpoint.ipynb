{
 "cells": [
  {
   "cell_type": "code",
   "execution_count": null,
   "metadata": {},
   "outputs": [],
   "source": [
    "import pandas as pd\n",
    "\n",
    "def onehot_numeric_combiner(df, target):\n",
    "  numeric = []\n",
    "  dummies = []\n",
    "  \n",
    "  \n",
    "  dfdummies = pd.DataFrame()\n",
    "  dfnumeric = pd.DataFrame()\n",
    "  dftarget = df[target]\n",
    "  \n",
    "  dummies = [df.columns[i] for i in range(df.shape[1]) if df[df.columns[i]].dtype == 'O']\n",
    "  numeric = [df.columns[i] for i in range(df.shape[1]) if df[df.columns[i]].dtype == 'int' or df[df.columns[i]].dtype == 'float']\n",
    "  \n",
    "  if target in dummies :\n",
    "    dummies.remove(target)\n",
    "  else:\n",
    "    numeric.remove(target)\n",
    " \n",
    "  \n",
    "  for x in numeric:\n",
    "    dfnumeric = pd.concat([dfnumeric, df[x]], axis = 1)\n",
    "  \n",
    "  for x in dummies:\n",
    "    dfdummies = pd.concat([dfdummies, pd.get_dummies(df[x], drop_first = True)], axis = 1)\n",
    "  \n",
    "  return pd.concat([dfdummies,dfnumeric,df[target]], axis = 1)\n"
   ]
  }
 ],
 "metadata": {
  "kernelspec": {
   "display_name": "Python 3",
   "language": "python",
   "name": "python3"
  },
  "language_info": {
   "codemirror_mode": {
    "name": "ipython",
    "version": 3
   },
   "file_extension": ".py",
   "mimetype": "text/x-python",
   "name": "python",
   "nbconvert_exporter": "python",
   "pygments_lexer": "ipython3",
   "version": "3.7.4"
  }
 },
 "nbformat": 4,
 "nbformat_minor": 4
}
