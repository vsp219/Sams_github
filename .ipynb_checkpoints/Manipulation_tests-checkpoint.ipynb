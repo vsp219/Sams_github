{
 "cells": [
  {
   "cell_type": "code",
   "execution_count": 1,
   "metadata": {},
   "outputs": [],
   "source": [
    "import pandas as pd\n",
    "import numpy as np\n",
    "from scipy import stats\n",
    "from scipy import mean\n",
    "import matplotlib.pyplot as plt\n",
    "import seaborn as sns\n",
    "import math\n",
    "from statsmodels.stats.multicomp import pairwise_tukeyhsd"
   ]
  },
  {
   "cell_type": "code",
   "execution_count": 99,
   "metadata": {},
   "outputs": [
    {
     "data": {
      "image/png": "[encoded data removed]",
      "text/plain": [
       "<Figure size 432x288 with 1 Axes>"
      ]
     },
     "metadata": {
      "needs_background": "light"
     },
     "output_type": "display_data"
    },
    {
     "data": {
      "text/plain": [
       "Ttest_indResult(statistic=-1.7959378246913422, pvalue=0.08930992383756715)"
      ]
     },
     "execution_count": 99,
     "metadata": {},
     "output_type": "execute_result"
    }
   ],
   "source": [
    "df = pd.DataFrame(data = { 'Group 1':[3,4,2,6,4,5,6,7,2,3,4,3,3,3,6,4,5,2,4,5,], \n",
    "                          'Group 2':[18,23,32,62,35,45,75,34,34,18,29,17,18,15,46,36,47,35,24,14]})\n",
    "\n",
    "\n",
    "\n",
    "\n",
    "Gender = []\n",
    "for i in range(len(df)):\n",
    "    x = np.random.randint(1,3)\n",
    "    if x == 1:\n",
    "        Gender.append('F')\n",
    "    else:\n",
    "        Gender.append('M')\n",
    "    \n",
    "Gender\n",
    "\n",
    "df['Gender'] = Gender\n",
    "plt.hist(df[(df.Gender=='M')]['Group 1'])\n",
    "plt.hist(df[(df.Gender=='F')]['Group 1'])\n",
    "\n",
    "plt.show()\n",
    "\n",
    "stats.ttest_ind(df[(df.Gender=='M')]['Group 1'], df[(df.Gender=='F')]['Group 1'])"
   ]
  },
  {
   "cell_type": "code",
   "execution_count": null,
   "metadata": {},
   "outputs": [],
   "source": []
  },
  {
   "cell_type": "code",
   "execution_count": null,
   "metadata": {},
   "outputs": [],
   "source": []
  },
  {
   "cell_type": "code",
   "execution_count": null,
   "metadata": {},
   "outputs": [],
   "source": []
  },
  {
   "cell_type": "code",
   "execution_count": null,
   "metadata": {},
   "outputs": [],
   "source": []
  }
 ],
 "metadata": {
  "kernelspec": {
   "display_name": "Python 3",
   "language": "python",
   "name": "python3"
  },
  "language_info": {
   "codemirror_mode": {
    "name": "ipython",
    "version": 3
   },
   "file_extension": ".py",
   "mimetype": "text/x-python",
   "name": "python",
   "nbconvert_exporter": "python",
   "pygments_lexer": "ipython3",
   "version": "3.7.4"
  }
 },
 "nbformat": 4,
 "nbformat_minor": 4
}
