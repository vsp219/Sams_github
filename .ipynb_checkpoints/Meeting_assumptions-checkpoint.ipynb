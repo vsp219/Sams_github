{
 "cells": [
  {
   "cell_type": "code",
   "execution_count": 63,
   "metadata": {},
   "outputs": [],
   "source": [
    "%matplotlib inline\n",
    "\n",
    "import matplotlib.pyplot as plt\n",
    "import numpy as np\n",
    "import pandas as pd\n",
    "import statsmodels.api as sm\n",
    "import pylab\n",
    "from sklearn.preprocessing import PowerTransformer, QuantileTransformer\n",
    "from sqlalchemy import create_engine\n",
    "from sklearn.preprocessing import StandardScaler\n",
    "from statsmodels.stats.outliers_influence import variance_inflation_factor\n",
    "from statsmodels.tools.tools import add_constant\n",
    "from sklearn.linear_model import LinearRegression\n",
    "from sklearn.model_selection import train_test_split"
   ]
  },
  {
   "cell_type": "markdown",
   "metadata": {},
   "source": [
    "1. Predicting temperature\n",
    "In this exercise, you'll work with historical temperature data from the Szeged, Hungary area. The dataset you'll use is a Postgres database version of this dataset from Kaggle. To complete this assignment, submit a Jupyter notebook containing your solutions to the following tasks:\n",
    "\n",
    "First, load the dataset from the weatherinszeged table from Thinkful's database."
   ]
  },
  {
   "cell_type": "code",
   "execution_count": 64,
   "metadata": {},
   "outputs": [],
   "source": [
    "postgres_user = 'dsbc_student'\n",
    "postgres_pw = '7*.8G9QH21'\n",
    "postgres_host = '142.93.121.174'\n",
    "postgres_port = '5432'\n",
    "postgres_db = 'weatherinszeged'\n",
    "\n",
    "engine = create_engine('postgresql://{}:{}@{}:{}/{}'.format(\n",
    "    postgres_user, postgres_pw, postgres_host, postgres_port, postgres_db))\n",
    "\n",
    "df = pd.read_sql_query('select* from weatherinszeged', con = engine)\n",
    "\n",
    "\n",
    "engine.dispose()"
   ]
  },
  {
   "cell_type": "code",
   "execution_count": 65,
   "metadata": {},
   "outputs": [
    {
     "data": {
      "text/html": [
       "<div>\n",
       "<style scoped>\n",
       "    .dataframe tbody tr th:only-of-type {\n",
       "        vertical-align: middle;\n",
       "    }\n",
       "\n",
       "    .dataframe tbody tr th {\n",
       "        vertical-align: top;\n",
       "    }\n",
       "\n",
       "    .dataframe thead th {\n",
       "        text-align: right;\n",
       "    }\n",
       "</style>\n",
       "<table border=\"1\" class=\"dataframe\">\n",
       "  <thead>\n",
       "    <tr style=\"text-align: right;\">\n",
       "      <th></th>\n",
       "      <th>date</th>\n",
       "      <th>summary</th>\n",
       "      <th>preciptype</th>\n",
       "      <th>temperature</th>\n",
       "      <th>apparenttemperature</th>\n",
       "      <th>humidity</th>\n",
       "      <th>windspeed</th>\n",
       "      <th>windbearing</th>\n",
       "      <th>visibility</th>\n",
       "      <th>loudcover</th>\n",
       "      <th>pressure</th>\n",
       "      <th>dailysummary</th>\n",
       "    </tr>\n",
       "  </thead>\n",
       "  <tbody>\n",
       "    <tr>\n",
       "      <th>0</th>\n",
       "      <td>2006-03-31 22:00:00+00:00</td>\n",
       "      <td>Partly Cloudy</td>\n",
       "      <td>rain</td>\n",
       "      <td>9.472222</td>\n",
       "      <td>7.388889</td>\n",
       "      <td>0.89</td>\n",
       "      <td>14.1197</td>\n",
       "      <td>251.0</td>\n",
       "      <td>15.8263</td>\n",
       "      <td>0.0</td>\n",
       "      <td>1015.13</td>\n",
       "      <td>Partly cloudy throughout the day.</td>\n",
       "    </tr>\n",
       "    <tr>\n",
       "      <th>1</th>\n",
       "      <td>2006-03-31 23:00:00+00:00</td>\n",
       "      <td>Partly Cloudy</td>\n",
       "      <td>rain</td>\n",
       "      <td>9.355556</td>\n",
       "      <td>7.227778</td>\n",
       "      <td>0.86</td>\n",
       "      <td>14.2646</td>\n",
       "      <td>259.0</td>\n",
       "      <td>15.8263</td>\n",
       "      <td>0.0</td>\n",
       "      <td>1015.63</td>\n",
       "      <td>Partly cloudy throughout the day.</td>\n",
       "    </tr>\n",
       "    <tr>\n",
       "      <th>2</th>\n",
       "      <td>2006-04-01 00:00:00+00:00</td>\n",
       "      <td>Mostly Cloudy</td>\n",
       "      <td>rain</td>\n",
       "      <td>9.377778</td>\n",
       "      <td>9.377778</td>\n",
       "      <td>0.89</td>\n",
       "      <td>3.9284</td>\n",
       "      <td>204.0</td>\n",
       "      <td>14.9569</td>\n",
       "      <td>0.0</td>\n",
       "      <td>1015.94</td>\n",
       "      <td>Partly cloudy throughout the day.</td>\n",
       "    </tr>\n",
       "    <tr>\n",
       "      <th>3</th>\n",
       "      <td>2006-04-01 01:00:00+00:00</td>\n",
       "      <td>Partly Cloudy</td>\n",
       "      <td>rain</td>\n",
       "      <td>8.288889</td>\n",
       "      <td>5.944444</td>\n",
       "      <td>0.83</td>\n",
       "      <td>14.1036</td>\n",
       "      <td>269.0</td>\n",
       "      <td>15.8263</td>\n",
       "      <td>0.0</td>\n",
       "      <td>1016.41</td>\n",
       "      <td>Partly cloudy throughout the day.</td>\n",
       "    </tr>\n",
       "    <tr>\n",
       "      <th>4</th>\n",
       "      <td>2006-04-01 02:00:00+00:00</td>\n",
       "      <td>Mostly Cloudy</td>\n",
       "      <td>rain</td>\n",
       "      <td>8.755556</td>\n",
       "      <td>6.977778</td>\n",
       "      <td>0.83</td>\n",
       "      <td>11.0446</td>\n",
       "      <td>259.0</td>\n",
       "      <td>15.8263</td>\n",
       "      <td>0.0</td>\n",
       "      <td>1016.51</td>\n",
       "      <td>Partly cloudy throughout the day.</td>\n",
       "    </tr>\n",
       "  </tbody>\n",
       "</table>\n",
       "</div>"
      ],
      "text/plain": [
       "                       date        summary preciptype  temperature  \\\n",
       "0 2006-03-31 22:00:00+00:00  Partly Cloudy       rain     9.472222   \n",
       "1 2006-03-31 23:00:00+00:00  Partly Cloudy       rain     9.355556   \n",
       "2 2006-04-01 00:00:00+00:00  Mostly Cloudy       rain     9.377778   \n",
       "3 2006-04-01 01:00:00+00:00  Partly Cloudy       rain     8.288889   \n",
       "4 2006-04-01 02:00:00+00:00  Mostly Cloudy       rain     8.755556   \n",
       "\n",
       "   apparenttemperature  humidity  windspeed  windbearing  visibility  \\\n",
       "0             7.388889      0.89    14.1197        251.0     15.8263   \n",
       "1             7.227778      0.86    14.2646        259.0     15.8263   \n",
       "2             9.377778      0.89     3.9284        204.0     14.9569   \n",
       "3             5.944444      0.83    14.1036        269.0     15.8263   \n",
       "4             6.977778      0.83    11.0446        259.0     15.8263   \n",
       "\n",
       "   loudcover  pressure                       dailysummary  \n",
       "0        0.0   1015.13  Partly cloudy throughout the day.  \n",
       "1        0.0   1015.63  Partly cloudy throughout the day.  \n",
       "2        0.0   1015.94  Partly cloudy throughout the day.  \n",
       "3        0.0   1016.41  Partly cloudy throughout the day.  \n",
       "4        0.0   1016.51  Partly cloudy throughout the day.  "
      ]
     },
     "execution_count": 65,
     "metadata": {},
     "output_type": "execute_result"
    }
   ],
   "source": [
    "df.head()"
   ]
  },
  {
   "cell_type": "code",
   "execution_count": 66,
   "metadata": {},
   "outputs": [
    {
     "name": "stdout",
     "output_type": "stream",
     "text": [
      "<class 'pandas.core.frame.DataFrame'>\n",
      "RangeIndex: 96453 entries, 0 to 96452\n",
      "Data columns (total 12 columns):\n",
      " #   Column               Non-Null Count  Dtype              \n",
      "---  ------               --------------  -----              \n",
      " 0   date                 96453 non-null  datetime64[ns, UTC]\n",
      " 1   summary              96453 non-null  object             \n",
      " 2   preciptype           96453 non-null  object             \n",
      " 3   temperature          96453 non-null  float64            \n",
      " 4   apparenttemperature  96453 non-null  float64            \n",
      " 5   humidity             96453 non-null  float64            \n",
      " 6   windspeed            96453 non-null  float64            \n",
      " 7   windbearing          96453 non-null  float64            \n",
      " 8   visibility           96453 non-null  float64            \n",
      " 9   loudcover            96453 non-null  float64            \n",
      " 10  pressure             96453 non-null  float64            \n",
      " 11  dailysummary         96453 non-null  object             \n",
      "dtypes: datetime64[ns, UTC](1), float64(8), object(3)\n",
      "memory usage: 8.8+ MB\n"
     ]
    }
   ],
   "source": [
    "df.info()"
   ]
  },
  {
   "cell_type": "markdown",
   "metadata": {},
   "source": [
    "Build a regression model where the target variable is temperature. As explanatory variables, use humidity, windspeed, windbearing, and pressure. Estimate the model using OLS."
   ]
  },
  {
   "cell_type": "code",
   "execution_count": 89,
   "metadata": {},
   "outputs": [
    {
     "name": "stdout",
     "output_type": "stream",
     "text": [
      "                            OLS Regression Results                            \n",
      "==============================================================================\n",
      "Dep. Variable:            temperature   R-squared:                       0.421\n",
      "Model:                            OLS   Adj. R-squared:                  0.421\n",
      "Method:                 Least Squares   F-statistic:                 1.750e+04\n",
      "Date:                Tue, 26 May 2020   Prob (F-statistic):               0.00\n",
      "Time:                        16:04:53   Log-Likelihood:            -3.2821e+05\n",
      "No. Observations:               96453   AIC:                         6.564e+05\n",
      "Df Residuals:                   96448   BIC:                         6.565e+05\n",
      "Df Model:                           4                                         \n",
      "Covariance Type:            nonrobust                                         \n",
      "===============================================================================\n",
      "                  coef    std err          t      P>|t|      [0.025      0.975]\n",
      "-------------------------------------------------------------------------------\n",
      "const          37.9264      0.233    162.709      0.000      37.470      38.383\n",
      "windspeed      -0.2014      0.003    -57.557      0.000      -0.208      -0.195\n",
      "windbearing     0.0040      0.000     18.463      0.000       0.004       0.004\n",
      "humidity      -32.4962      0.123   -264.288      0.000     -32.737     -32.255\n",
      "pressure       -0.0007      0.000     -3.452      0.001      -0.001      -0.000\n",
      "==============================================================================\n",
      "Omnibus:                     3375.432   Durbin-Watson:                   0.059\n",
      "Prob(Omnibus):                  0.000   Jarque-Bera (JB):             3793.297\n",
      "Skew:                          -0.455   Prob(JB):                         0.00\n",
      "Kurtosis:                       3.339   Cond. No.                     1.06e+04\n",
      "==============================================================================\n",
      "\n",
      "Warnings:\n",
      "[1] Standard Errors assume that the covariance matrix of the errors is correctly specified.\n",
      "[2] The condition number is large, 1.06e+04. This might indicate that there are\n",
      "strong multicollinearity or other numerical problems.\n"
     ]
    }
   ],
   "source": [
    "X = df[['windspeed', 'windbearing', 'humidity', 'pressure']]\n",
    "y = df['temperature']\n",
    "import statsmodels.api as sm\n",
    "\n",
    "from statsmodels.tools.tools import add_constant\n",
    "X = sm.add_constant(X)\n",
    "results = sm.OLS(y, X).fit()\n",
    "print(results.summary())"
   ]
  },
  {
   "cell_type": "markdown",
   "metadata": {},
   "source": [
    "Now, check if your model meets the Gauss-Markov Conditions above. If some of the assumptions are not met, discuss the implications of the violations for the correctness of your model."
   ]
  },
  {
   "cell_type": "code",
   "execution_count": 95,
   "metadata": {},
   "outputs": [
    {
     "data": {
      "text/plain": [
       "<matplotlib.axes._subplots.AxesSubplot at 0x7fed3991cad0>"
      ]
     },
     "execution_count": 95,
     "metadata": {},
     "output_type": "execute_result"
    },
    {
     "data": {
      "image/png": "[encoded data removed]",
      "text/plain": [
       "<Figure size 432x288 with 1 Axes>"
      ]
     },
     "metadata": {
      "needs_background": "light"
     },
     "output_type": "display_data"
    }
   ],
   "source": [
    "from statsmodels.stats.outliers_influence import variance_inflation_factor\n",
    "from sklearn.linear_model import LinearRegression\n",
    "\n",
    "# lrm = LinearRegression()\n",
    "# fits = lrm.fit(X,y)\n",
    "predictions = results.predict(X)\n",
    "\n",
    "residuals = y-predictions\n",
    "# plt.plot(residuals)\n",
    "# plt.plot(predictions)\n",
    "import seaborn as sns\n",
    "sns.scatterplot(predictions,residuals)\n"
   ]
  },
  {
   "cell_type": "code",
   "execution_count": 91,
   "metadata": {},
   "outputs": [
    {
     "data": {
      "text/plain": [
       "const          99.132308\n",
       "windspeed       1.067930\n",
       "windbearing     1.011563\n",
       "humidity        1.053985\n",
       "pressure        1.002508\n",
       "dtype: float64"
      ]
     },
     "execution_count": 91,
     "metadata": {},
     "output_type": "execute_result"
    }
   ],
   "source": [
    "\n",
    "pd.Series([variance_inflation_factor(X.values, i)\n",
    "   for i in range(X.shape[1])], index = X.columns)\n",
    "\n"
   ]
  },
  {
   "cell_type": "code",
   "execution_count": 92,
   "metadata": {},
   "outputs": [],
   "source": [
    "from sklearn.preprocessing import StandardScaler\n",
    "\n",
    "residualscaled = StandardScaler().fit_transform(residuals.values.reshape(-1,1))"
   ]
  },
  {
   "cell_type": "code",
   "execution_count": 93,
   "metadata": {},
   "outputs": [
    {
     "data": {
      "text/plain": [
       "<function matplotlib.pyplot.show(*args, **kw)>"
      ]
     },
     "execution_count": 93,
     "metadata": {},
     "output_type": "execute_result"
    },
    {
     "data": {
      "image/png": "[encoded data removed]",
      "text/plain": [
       "<Figure size 432x288 with 1 Axes>"
      ]
     },
     "metadata": {
      "needs_background": "light"
     },
     "output_type": "display_data"
    }
   ],
   "source": [
    "import statsmodels.api as sm\n",
    "import pylab\n",
    "sm.qqplot(residualscaled, line= '45')\n",
    "pylab.show\n"
   ]
  },
  {
   "cell_type": "markdown",
   "metadata": {},
   "source": [
    "2. House prices\n",
    "\n",
    "Load the houseprices data from Thinkful's database."
   ]
  },
  {
   "cell_type": "markdown",
   "metadata": {},
   "source": [
    "\n",
    "\n"
   ]
  },
  {
   "cell_type": "code",
   "execution_count": 72,
   "metadata": {},
   "outputs": [],
   "source": [
    "postgres_user = 'dsbc_student'\n",
    "postgres_pw = '7*.8G9QH21'\n",
    "postgres_host = '142.93.121.174'\n",
    "postgres_port = '5432'\n",
    "postgres_db = 'houseprices'\n",
    "\n",
    "engine = create_engine('postgresql://{}:{}@{}:{}/{}'.format(\n",
    "    postgres_user, postgres_pw, postgres_host, postgres_port, postgres_db))\n",
    "\n",
    "df1 = pd.read_sql_query('select* from houseprices', con = engine)\n",
    "\n",
    "engine.dispose()"
   ]
  },
  {
   "cell_type": "markdown",
   "metadata": {},
   "source": [
    "Now, it's your turn to design your first regression model. In this module, you'll be using a version of the \"House Prices\" dataset from Kaggle that we've ported to a Postgres database. This dataset consists of 79 variables describing many aspects of residential homes in Ames, Iowa. Using this data, your task will be to predict the prices of the houses. You can find the descriptions of the variables here: House Prices\n",
    "\n",
    "To complete this assignment, create a Jupyter notebook containing your solutions to the following tasks:\n",
    "\n",
    "Load the dataset from the Thinkful PostgreSQL database. You can look at the example above for inspiration on how to generate the database engine URL. You'll need the following values:"
   ]
  },
  {
   "cell_type": "code",
   "execution_count": 73,
   "metadata": {},
   "outputs": [],
   "source": [
    "import numpy as np\n",
    "import pandas as pd\n",
    "from sklearn import linear_model\n",
    "import matplotlib.pyplot as plt\n",
    "from sqlalchemy import create_engine\n",
    "import seaborn as sns\n",
    "import warnings\n",
    "warnings.filterwarnings('ignore')"
   ]
  },
  {
   "cell_type": "markdown",
   "metadata": {},
   "source": [
    "Please follow the example above and call engine.dispose() when you no longer need to make db queries. You need to be in the habit of responsibly managing database connections, and the database only supports a limited number of connections.\n",
    "Investigate the data, and do any necessary data cleaning.\n",
    "Explore the data and find some variables that you think would be useful in predicting house prices.\n",
    "Build your initial model using these features and estimate the parameters using OLS.\n",
    "Spend up to 4 hours on this assignment. You will submit the notebook after the assessment questions."
   ]
  },
  {
   "cell_type": "code",
   "execution_count": 74,
   "metadata": {},
   "outputs": [
    {
     "data": {
      "text/plain": [
       "5    821\n",
       "6    252\n",
       "7    205\n",
       "8     72\n",
       "4     57\n",
       "3     25\n",
       "9     22\n",
       "2      5\n",
       "1      1\n",
       "Name: overallcond, dtype: int64"
      ]
     },
     "execution_count": 74,
     "metadata": {},
     "output_type": "execute_result"
    }
   ],
   "source": [
    "df1.overallcond.value_counts()"
   ]
  },
  {
   "cell_type": "code",
   "execution_count": 75,
   "metadata": {},
   "outputs": [
    {
     "data": {
      "text/plain": [
       "(array([445., 726., 154.,   0.,  14.,  37.,   0.,  65.,  11.,   8.]),\n",
       " array([0. , 0.7, 1.4, 2.1, 2.8, 3.5, 4.2, 4.9, 5.6, 6.3, 7. ]),\n",
       " <a list of 10 Patch objects>)"
      ]
     },
     "execution_count": 75,
     "metadata": {},
     "output_type": "execute_result"
    },
    {
     "data": {
      "image/png": "[encoded data removed]",
      "text/plain": [
       "<Figure size 432x288 with 1 Axes>"
      ]
     },
     "metadata": {
      "needs_background": "light"
     },
     "output_type": "display_data"
    }
   ],
   "source": [
    "plt.hist(df1.housestyle)"
   ]
  },
  {
   "cell_type": "code",
   "execution_count": 76,
   "metadata": {},
   "outputs": [
    {
     "data": {
      "text/plain": [
       "saleprice        1.000000\n",
       "overallqual      0.790982\n",
       "grlivarea        0.708624\n",
       "garagecars       0.640409\n",
       "garagearea       0.623431\n",
       "totalbsmtsf      0.613581\n",
       "firstflrsf       0.605852\n",
       "fullbath         0.560664\n",
       "totrmsabvgrd     0.533723\n",
       "yearbuilt        0.522897\n",
       "yearremodadd     0.507101\n",
       "garageyrblt      0.486362\n",
       "masvnrarea       0.477493\n",
       "fireplaces       0.466929\n",
       "bsmtfinsf1       0.386420\n",
       "lotfrontage      0.351799\n",
       "wooddecksf       0.324413\n",
       "secondflrsf      0.319334\n",
       "openporchsf      0.315856\n",
       "halfbath         0.284108\n",
       "lotarea          0.263843\n",
       "bsmtfullbath     0.227122\n",
       "bsmtunfsf        0.214479\n",
       "bedroomabvgr     0.168213\n",
       "kitchenabvgr     0.135907\n",
       "enclosedporch    0.128578\n",
       "screenporch      0.111447\n",
       "poolarea         0.092404\n",
       "mssubclass       0.084284\n",
       "overallcond      0.077856\n",
       "mosold           0.046432\n",
       "threessnporch    0.044584\n",
       "yrsold           0.028923\n",
       "lowqualfinsf     0.025606\n",
       "id               0.021917\n",
       "miscval          0.021190\n",
       "bsmthalfbath     0.016844\n",
       "bsmtfinsf2       0.011378\n",
       "Name: saleprice, dtype: float64"
      ]
     },
     "execution_count": 76,
     "metadata": {},
     "output_type": "execute_result"
    }
   ],
   "source": [
    "\n",
    "np.abs(df1.corr().loc[:,\"saleprice\"]).sort_values(ascending=False)"
   ]
  },
  {
   "cell_type": "code",
   "execution_count": 87,
   "metadata": {},
   "outputs": [],
   "source": [
    "# Set features and variables\n",
    "X1 = pd.concat([df1[['overallcond', 'grlivarea', 'garagecars']], pd.get_dummies(df1['roofmatl'], prefix = 'roofmatl', drop_first = True)], axis = 1)\n",
    "y1 = df1['saleprice']\n"
   ]
  },
  {
   "cell_type": "code",
   "execution_count": 88,
   "metadata": {},
   "outputs": [
    {
     "data": {
      "text/html": [
       "<table class=\"simpletable\">\n",
       "<caption>OLS Regression Results</caption>\n",
       "<tr>\n",
       "  <th>Dep. Variable:</th>        <td>saleprice</td>    <th>  R-squared:         </th> <td>   0.648</td> \n",
       "</tr>\n",
       "<tr>\n",
       "  <th>Model:</th>                   <td>OLS</td>       <th>  Adj. R-squared:    </th> <td>   0.645</td> \n",
       "</tr>\n",
       "<tr>\n",
       "  <th>Method:</th>             <td>Least Squares</td>  <th>  F-statistic:       </th> <td>   266.4</td> \n",
       "</tr>\n",
       "<tr>\n",
       "  <th>Date:</th>             <td>Tue, 26 May 2020</td> <th>  Prob (F-statistic):</th> <td>1.22e-319</td>\n",
       "</tr>\n",
       "<tr>\n",
       "  <th>Time:</th>                 <td>16:04:26</td>     <th>  Log-Likelihood:    </th> <td> -17783.</td> \n",
       "</tr>\n",
       "<tr>\n",
       "  <th>No. Observations:</th>      <td>  1460</td>      <th>  AIC:               </th> <td>3.559e+04</td>\n",
       "</tr>\n",
       "<tr>\n",
       "  <th>Df Residuals:</th>          <td>  1449</td>      <th>  BIC:               </th> <td>3.565e+04</td>\n",
       "</tr>\n",
       "<tr>\n",
       "  <th>Df Model:</th>              <td>    10</td>      <th>                     </th>     <td> </td>    \n",
       "</tr>\n",
       "<tr>\n",
       "  <th>Covariance Type:</th>      <td>nonrobust</td>    <th>                     </th>     <td> </td>    \n",
       "</tr>\n",
       "</table>\n",
       "<table class=\"simpletable\">\n",
       "<tr>\n",
       "          <td></td>            <th>coef</th>     <th>std err</th>      <th>t</th>      <th>P>|t|</th>  <th>[0.025</th>    <th>0.975]</th>  \n",
       "</tr>\n",
       "<tr>\n",
       "  <th>const</th>            <td>-4.019e+05</td> <td> 4.98e+04</td> <td>   -8.069</td> <td> 0.000</td> <td>   -5e+05</td> <td>-3.04e+05</td>\n",
       "</tr>\n",
       "<tr>\n",
       "  <th>overallcond</th>      <td> 2444.1382</td> <td> 1135.139</td> <td>    2.153</td> <td> 0.031</td> <td>  217.447</td> <td> 4670.829</td>\n",
       "</tr>\n",
       "<tr>\n",
       "  <th>grlivarea</th>        <td>   82.8402</td> <td>    2.771</td> <td>   29.901</td> <td> 0.000</td> <td>   77.406</td> <td>   88.275</td>\n",
       "</tr>\n",
       "<tr>\n",
       "  <th>garagecars</th>       <td> 4.113e+04</td> <td> 1914.445</td> <td>   21.485</td> <td> 0.000</td> <td> 3.74e+04</td> <td> 4.49e+04</td>\n",
       "</tr>\n",
       "<tr>\n",
       "  <th>roofmatl_CompShg</th> <td> 3.709e+05</td> <td> 4.87e+04</td> <td>    7.622</td> <td> 0.000</td> <td> 2.75e+05</td> <td> 4.66e+05</td>\n",
       "</tr>\n",
       "<tr>\n",
       "  <th>roofmatl_Membran</th> <td> 4.311e+05</td> <td>  6.8e+04</td> <td>    6.339</td> <td> 0.000</td> <td> 2.98e+05</td> <td> 5.64e+05</td>\n",
       "</tr>\n",
       "<tr>\n",
       "  <th>roofmatl_Metal</th>   <td> 4.055e+05</td> <td> 6.81e+04</td> <td>    5.951</td> <td> 0.000</td> <td> 2.72e+05</td> <td> 5.39e+05</td>\n",
       "</tr>\n",
       "<tr>\n",
       "  <th>roofmatl_Roll</th>    <td> 2.853e+05</td> <td> 6.77e+04</td> <td>    4.214</td> <td> 0.000</td> <td> 1.53e+05</td> <td> 4.18e+05</td>\n",
       "</tr>\n",
       "<tr>\n",
       "  <th>roofmatl_Tar&Grv</th> <td> 3.649e+05</td> <td> 5.05e+04</td> <td>    7.219</td> <td> 0.000</td> <td> 2.66e+05</td> <td> 4.64e+05</td>\n",
       "</tr>\n",
       "<tr>\n",
       "  <th>roofmatl_WdShake</th> <td> 3.623e+05</td> <td> 5.27e+04</td> <td>    6.874</td> <td> 0.000</td> <td> 2.59e+05</td> <td> 4.66e+05</td>\n",
       "</tr>\n",
       "<tr>\n",
       "  <th>roofmatl_WdShngl</th> <td> 4.655e+05</td> <td> 5.19e+04</td> <td>    8.965</td> <td> 0.000</td> <td> 3.64e+05</td> <td> 5.67e+05</td>\n",
       "</tr>\n",
       "</table>\n",
       "<table class=\"simpletable\">\n",
       "<tr>\n",
       "  <th>Omnibus:</th>       <td>307.148</td> <th>  Durbin-Watson:     </th> <td>   2.027</td>\n",
       "</tr>\n",
       "<tr>\n",
       "  <th>Prob(Omnibus):</th> <td> 0.000</td>  <th>  Jarque-Bera (JB):  </th> <td>2410.658</td>\n",
       "</tr>\n",
       "<tr>\n",
       "  <th>Skew:</th>          <td> 0.755</td>  <th>  Prob(JB):          </th> <td>    0.00</td>\n",
       "</tr>\n",
       "<tr>\n",
       "  <th>Kurtosis:</th>      <td> 9.111</td>  <th>  Cond. No.          </th> <td>1.83e+05</td>\n",
       "</tr>\n",
       "</table><br/><br/>Warnings:<br/>[1] Standard Errors assume that the covariance matrix of the errors is correctly specified.<br/>[2] The condition number is large, 1.83e+05. This might indicate that there are<br/>strong multicollinearity or other numerical problems."
      ],
      "text/plain": [
       "<class 'statsmodels.iolib.summary.Summary'>\n",
       "\"\"\"\n",
       "                            OLS Regression Results                            \n",
       "==============================================================================\n",
       "Dep. Variable:              saleprice   R-squared:                       0.648\n",
       "Model:                            OLS   Adj. R-squared:                  0.645\n",
       "Method:                 Least Squares   F-statistic:                     266.4\n",
       "Date:                Tue, 26 May 2020   Prob (F-statistic):          1.22e-319\n",
       "Time:                        16:04:26   Log-Likelihood:                -17783.\n",
       "No. Observations:                1460   AIC:                         3.559e+04\n",
       "Df Residuals:                    1449   BIC:                         3.565e+04\n",
       "Df Model:                          10                                         \n",
       "Covariance Type:            nonrobust                                         \n",
       "====================================================================================\n",
       "                       coef    std err          t      P>|t|      [0.025      0.975]\n",
       "------------------------------------------------------------------------------------\n",
       "const            -4.019e+05   4.98e+04     -8.069      0.000      -5e+05   -3.04e+05\n",
       "overallcond       2444.1382   1135.139      2.153      0.031     217.447    4670.829\n",
       "grlivarea           82.8402      2.771     29.901      0.000      77.406      88.275\n",
       "garagecars        4.113e+04   1914.445     21.485      0.000    3.74e+04    4.49e+04\n",
       "roofmatl_CompShg  3.709e+05   4.87e+04      7.622      0.000    2.75e+05    4.66e+05\n",
       "roofmatl_Membran  4.311e+05    6.8e+04      6.339      0.000    2.98e+05    5.64e+05\n",
       "roofmatl_Metal    4.055e+05   6.81e+04      5.951      0.000    2.72e+05    5.39e+05\n",
       "roofmatl_Roll     2.853e+05   6.77e+04      4.214      0.000    1.53e+05    4.18e+05\n",
       "roofmatl_Tar&Grv  3.649e+05   5.05e+04      7.219      0.000    2.66e+05    4.64e+05\n",
       "roofmatl_WdShake  3.623e+05   5.27e+04      6.874      0.000    2.59e+05    4.66e+05\n",
       "roofmatl_WdShngl  4.655e+05   5.19e+04      8.965      0.000    3.64e+05    5.67e+05\n",
       "==============================================================================\n",
       "Omnibus:                      307.148   Durbin-Watson:                   2.027\n",
       "Prob(Omnibus):                  0.000   Jarque-Bera (JB):             2410.658\n",
       "Skew:                           0.755   Prob(JB):                         0.00\n",
       "Kurtosis:                       9.111   Cond. No.                     1.83e+05\n",
       "==============================================================================\n",
       "\n",
       "Warnings:\n",
       "[1] Standard Errors assume that the covariance matrix of the errors is correctly specified.\n",
       "[2] The condition number is large, 1.83e+05. This might indicate that there are\n",
       "strong multicollinearity or other numerical problems.\n",
       "\"\"\""
      ]
     },
     "execution_count": 88,
     "metadata": {},
     "output_type": "execute_result"
    }
   ],
   "source": [
    "# Find the OLS\n",
    "import statsmodels.api as sm\n",
    "X1 = sm.add_constant(X1)\n",
    "\n",
    "results = sm.OLS(y1, X1).fit()\n",
    "\n",
    "results.summary()"
   ]
  },
  {
   "cell_type": "markdown",
   "metadata": {},
   "source": [
    "Reimplement the model you built in the previous checkpoint.\n",
    "Check for all of the assumptions above and discuss the implications if some of the assumptions are not met.\n",
    "be sure to close the database connection after initially pulling in your data.\n"
   ]
  },
  {
   "cell_type": "code",
   "execution_count": null,
   "metadata": {},
   "outputs": [],
   "source": []
  }
 ],
 "metadata": {
  "kernelspec": {
   "display_name": "Python 3",
   "language": "python",
   "name": "python3"
  },
  "language_info": {
   "codemirror_mode": {
    "name": "ipython",
    "version": 3
   },
   "file_extension": ".py",
   "mimetype": "text/x-python",
   "name": "python",
   "nbconvert_exporter": "python",
   "pygments_lexer": "ipython3",
   "version": "3.7.4"
  }
 },
 "nbformat": 4,
 "nbformat_minor": 4
}
