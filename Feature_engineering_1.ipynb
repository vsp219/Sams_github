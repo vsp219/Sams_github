{
 "cells": [
  {
   "cell_type": "code",
   "execution_count": 48,
   "metadata": {
    "tags": [
     "Imports"
    ]
   },
   "outputs": [],
   "source": [
    "import matplotlib.pyplot as plt\n",
    "import seaborn as sns\n",
    "import numpy as np\n",
    "import pandas as pd\n",
    "import seaborn as sns\n",
    "import scipy.stats as stats\n",
    "from scipy.stats.mstats import winsorize\n",
    "from sqlalchemy import create_engine\n",
    "import warnings\n",
    "warnings.filterwarnings('ignore')\n",
    "sns.set(style=\"whitegrid\")"
   ]
  },
  {
   "cell_type": "code",
   "execution_count": 49,
   "metadata": {},
   "outputs": [],
   "source": [
    "postgres_user = 'dsbc_student'\n",
    "postgres_pw = '7*.8G9QH21'\n",
    "postgres_host = '142.93.121.174'\n",
    "postgres_port = '5432'\n",
    "postgres_db = 'studentsperformance'"
   ]
  },
  {
   "cell_type": "code",
   "execution_count": 50,
   "metadata": {},
   "outputs": [],
   "source": [
    "engine = create_engine('postgresql://{}:{}@{}:{}/{}'.format(postgres_user,\n",
    "        postgres_pw, postgres_host, postgres_port, postgres_db))"
   ]
  },
  {
   "cell_type": "code",
   "execution_count": 51,
   "metadata": {},
   "outputs": [
    {
     "name": "stdout",
     "output_type": "stream",
     "text": [
      "<class 'pandas.core.frame.DataFrame'>\n",
      "RangeIndex: 1000 entries, 0 to 999\n",
      "Data columns (total 8 columns):\n",
      " #   Column                       Non-Null Count  Dtype \n",
      "---  ------                       --------------  ----- \n",
      " 0   gender                       1000 non-null   object\n",
      " 1   race/ethnicity               1000 non-null   object\n",
      " 2   parental level of education  1000 non-null   object\n",
      " 3   lunch                        1000 non-null   object\n",
      " 4   test preparation course      1000 non-null   object\n",
      " 5   math score                   1000 non-null   int64 \n",
      " 6   reading score                1000 non-null   int64 \n",
      " 7   writing score                1000 non-null   int64 \n",
      "dtypes: int64(3), object(5)\n",
      "memory usage: 62.6+ KB\n"
     ]
    }
   ],
   "source": [
    "dfraw = pd.read_sql_query('select * from studentsperformance',con=engine)\n",
    "engine.dispose()\n",
    "dfraw.info()\n"
   ]
  },
  {
   "cell_type": "code",
   "execution_count": 52,
   "metadata": {},
   "outputs": [
    {
     "data": {
      "text/html": [
       "<div>\n",
       "<style scoped>\n",
       "    .dataframe tbody tr th:only-of-type {\n",
       "        vertical-align: middle;\n",
       "    }\n",
       "\n",
       "    .dataframe tbody tr th {\n",
       "        vertical-align: top;\n",
       "    }\n",
       "\n",
       "    .dataframe thead th {\n",
       "        text-align: right;\n",
       "    }\n",
       "</style>\n",
       "<table border=\"1\" class=\"dataframe\">\n",
       "  <thead>\n",
       "    <tr style=\"text-align: right;\">\n",
       "      <th></th>\n",
       "      <th>gender</th>\n",
       "      <th>race/ethnicity</th>\n",
       "      <th>parental level of education</th>\n",
       "      <th>lunch</th>\n",
       "      <th>test preparation course</th>\n",
       "      <th>math score</th>\n",
       "      <th>reading score</th>\n",
       "      <th>writing score</th>\n",
       "    </tr>\n",
       "  </thead>\n",
       "  <tbody>\n",
       "    <tr>\n",
       "      <th>0</th>\n",
       "      <td>female</td>\n",
       "      <td>group B</td>\n",
       "      <td>bachelor's degree</td>\n",
       "      <td>standard</td>\n",
       "      <td>none</td>\n",
       "      <td>72</td>\n",
       "      <td>72</td>\n",
       "      <td>74</td>\n",
       "    </tr>\n",
       "    <tr>\n",
       "      <th>1</th>\n",
       "      <td>female</td>\n",
       "      <td>group C</td>\n",
       "      <td>some college</td>\n",
       "      <td>standard</td>\n",
       "      <td>completed</td>\n",
       "      <td>69</td>\n",
       "      <td>90</td>\n",
       "      <td>88</td>\n",
       "    </tr>\n",
       "    <tr>\n",
       "      <th>2</th>\n",
       "      <td>female</td>\n",
       "      <td>group B</td>\n",
       "      <td>master's degree</td>\n",
       "      <td>standard</td>\n",
       "      <td>none</td>\n",
       "      <td>90</td>\n",
       "      <td>95</td>\n",
       "      <td>93</td>\n",
       "    </tr>\n",
       "    <tr>\n",
       "      <th>3</th>\n",
       "      <td>male</td>\n",
       "      <td>group A</td>\n",
       "      <td>associate's degree</td>\n",
       "      <td>free/reduced</td>\n",
       "      <td>none</td>\n",
       "      <td>47</td>\n",
       "      <td>57</td>\n",
       "      <td>44</td>\n",
       "    </tr>\n",
       "    <tr>\n",
       "      <th>4</th>\n",
       "      <td>male</td>\n",
       "      <td>group C</td>\n",
       "      <td>some college</td>\n",
       "      <td>standard</td>\n",
       "      <td>none</td>\n",
       "      <td>76</td>\n",
       "      <td>78</td>\n",
       "      <td>75</td>\n",
       "    </tr>\n",
       "  </tbody>\n",
       "</table>\n",
       "</div>"
      ],
      "text/plain": [
       "   gender race/ethnicity parental level of education         lunch  \\\n",
       "0  female        group B           bachelor's degree      standard   \n",
       "1  female        group C                some college      standard   \n",
       "2  female        group B             master's degree      standard   \n",
       "3    male        group A          associate's degree  free/reduced   \n",
       "4    male        group C                some college      standard   \n",
       "\n",
       "  test preparation course  math score  reading score  writing score  \n",
       "0                    none          72             72             74  \n",
       "1               completed          69             90             88  \n",
       "2                    none          90             95             93  \n",
       "3                    none          47             57             44  \n",
       "4                    none          76             78             75  "
      ]
     },
     "execution_count": 52,
     "metadata": {},
     "output_type": "execute_result"
    }
   ],
   "source": [
    "dfraw.head()"
   ]
  },
  {
   "cell_type": "code",
   "execution_count": 53,
   "metadata": {},
   "outputs": [
    {
     "data": {
      "text/html": [
       "<div>\n",
       "<style scoped>\n",
       "    .dataframe tbody tr th:only-of-type {\n",
       "        vertical-align: middle;\n",
       "    }\n",
       "\n",
       "    .dataframe tbody tr th {\n",
       "        vertical-align: top;\n",
       "    }\n",
       "\n",
       "    .dataframe thead th {\n",
       "        text-align: right;\n",
       "    }\n",
       "</style>\n",
       "<table border=\"1\" class=\"dataframe\">\n",
       "  <thead>\n",
       "    <tr style=\"text-align: right;\">\n",
       "      <th></th>\n",
       "      <th>gender</th>\n",
       "      <th>race/ethnicity</th>\n",
       "      <th>parental level of education</th>\n",
       "      <th>lunch</th>\n",
       "      <th>test preparation course</th>\n",
       "      <th>math score</th>\n",
       "      <th>reading score</th>\n",
       "      <th>writing score</th>\n",
       "    </tr>\n",
       "  </thead>\n",
       "  <tbody>\n",
       "    <tr>\n",
       "      <th>0</th>\n",
       "      <td>female</td>\n",
       "      <td>group B</td>\n",
       "      <td>bachelor's degree</td>\n",
       "      <td>standard</td>\n",
       "      <td>none</td>\n",
       "      <td>72</td>\n",
       "      <td>72</td>\n",
       "      <td>74</td>\n",
       "    </tr>\n",
       "    <tr>\n",
       "      <th>1</th>\n",
       "      <td>female</td>\n",
       "      <td>group C</td>\n",
       "      <td>some college</td>\n",
       "      <td>standard</td>\n",
       "      <td>completed</td>\n",
       "      <td>69</td>\n",
       "      <td>90</td>\n",
       "      <td>88</td>\n",
       "    </tr>\n",
       "    <tr>\n",
       "      <th>2</th>\n",
       "      <td>female</td>\n",
       "      <td>group B</td>\n",
       "      <td>master's degree</td>\n",
       "      <td>standard</td>\n",
       "      <td>none</td>\n",
       "      <td>90</td>\n",
       "      <td>95</td>\n",
       "      <td>93</td>\n",
       "    </tr>\n",
       "    <tr>\n",
       "      <th>3</th>\n",
       "      <td>male</td>\n",
       "      <td>group A</td>\n",
       "      <td>associate's degree</td>\n",
       "      <td>free/reduced</td>\n",
       "      <td>none</td>\n",
       "      <td>47</td>\n",
       "      <td>57</td>\n",
       "      <td>44</td>\n",
       "    </tr>\n",
       "    <tr>\n",
       "      <th>4</th>\n",
       "      <td>male</td>\n",
       "      <td>group C</td>\n",
       "      <td>some college</td>\n",
       "      <td>standard</td>\n",
       "      <td>none</td>\n",
       "      <td>76</td>\n",
       "      <td>78</td>\n",
       "      <td>75</td>\n",
       "    </tr>\n",
       "    <tr>\n",
       "      <th>...</th>\n",
       "      <td>...</td>\n",
       "      <td>...</td>\n",
       "      <td>...</td>\n",
       "      <td>...</td>\n",
       "      <td>...</td>\n",
       "      <td>...</td>\n",
       "      <td>...</td>\n",
       "      <td>...</td>\n",
       "    </tr>\n",
       "    <tr>\n",
       "      <th>995</th>\n",
       "      <td>female</td>\n",
       "      <td>group E</td>\n",
       "      <td>master's degree</td>\n",
       "      <td>standard</td>\n",
       "      <td>completed</td>\n",
       "      <td>88</td>\n",
       "      <td>99</td>\n",
       "      <td>95</td>\n",
       "    </tr>\n",
       "    <tr>\n",
       "      <th>996</th>\n",
       "      <td>male</td>\n",
       "      <td>group C</td>\n",
       "      <td>high school</td>\n",
       "      <td>free/reduced</td>\n",
       "      <td>none</td>\n",
       "      <td>62</td>\n",
       "      <td>55</td>\n",
       "      <td>55</td>\n",
       "    </tr>\n",
       "    <tr>\n",
       "      <th>997</th>\n",
       "      <td>female</td>\n",
       "      <td>group C</td>\n",
       "      <td>high school</td>\n",
       "      <td>free/reduced</td>\n",
       "      <td>completed</td>\n",
       "      <td>59</td>\n",
       "      <td>71</td>\n",
       "      <td>65</td>\n",
       "    </tr>\n",
       "    <tr>\n",
       "      <th>998</th>\n",
       "      <td>female</td>\n",
       "      <td>group D</td>\n",
       "      <td>some college</td>\n",
       "      <td>standard</td>\n",
       "      <td>completed</td>\n",
       "      <td>68</td>\n",
       "      <td>78</td>\n",
       "      <td>77</td>\n",
       "    </tr>\n",
       "    <tr>\n",
       "      <th>999</th>\n",
       "      <td>female</td>\n",
       "      <td>group D</td>\n",
       "      <td>some college</td>\n",
       "      <td>free/reduced</td>\n",
       "      <td>none</td>\n",
       "      <td>77</td>\n",
       "      <td>86</td>\n",
       "      <td>86</td>\n",
       "    </tr>\n",
       "  </tbody>\n",
       "</table>\n",
       "<p>1000 rows × 8 columns</p>\n",
       "</div>"
      ],
      "text/plain": [
       "     gender race/ethnicity parental level of education         lunch  \\\n",
       "0    female        group B           bachelor's degree      standard   \n",
       "1    female        group C                some college      standard   \n",
       "2    female        group B             master's degree      standard   \n",
       "3      male        group A          associate's degree  free/reduced   \n",
       "4      male        group C                some college      standard   \n",
       "..      ...            ...                         ...           ...   \n",
       "995  female        group E             master's degree      standard   \n",
       "996    male        group C                 high school  free/reduced   \n",
       "997  female        group C                 high school  free/reduced   \n",
       "998  female        group D                some college      standard   \n",
       "999  female        group D                some college  free/reduced   \n",
       "\n",
       "    test preparation course  math score  reading score  writing score  \n",
       "0                      none          72             72             74  \n",
       "1                 completed          69             90             88  \n",
       "2                      none          90             95             93  \n",
       "3                      none          47             57             44  \n",
       "4                      none          76             78             75  \n",
       "..                      ...         ...            ...            ...  \n",
       "995               completed          88             99             95  \n",
       "996                    none          62             55             55  \n",
       "997               completed          59             71             65  \n",
       "998               completed          68             78             77  \n",
       "999                    none          77             86             86  \n",
       "\n",
       "[1000 rows x 8 columns]"
      ]
     },
     "execution_count": 53,
     "metadata": {},
     "output_type": "execute_result"
    }
   ],
   "source": [
    "df = dfraw.copy()\n",
    "df.dropna()"
   ]
  },
  {
   "cell_type": "markdown",
   "metadata": {
    "tags": [
     "Q1"
    ]
   },
   "source": [
    "# Are the exam score variables normally distributed? If not, apply a Box-Cox transformation. Does anything change?\n",
    "\n"
   ]
  },
  {
   "cell_type": "code",
   "execution_count": 54,
   "metadata": {},
   "outputs": [
    {
     "name": "stdout",
     "output_type": "stream",
     "text": [
      "NormaltestResult(statistic=15.408960513931822, pvalue=0.00045080293869937836)\n",
      "NormaltestResult(statistic=11.11741279628622, pvalue=0.003853758403576582)\n",
      "NormaltestResult(statistic=13.606450837263859, pvalue=0.0011101885439899974)\n"
     ]
    },
    {
     "data": {
      "image/png": "[encoded data removed]",
      "text/plain": [
       "<Figure size 432x288 with 3 Axes>"
      ]
     },
     "metadata": {},
     "output_type": "display_data"
    }
   ],
   "source": [
    "\n",
    "from scipy.stats import normaltest\n",
    "plt.subplot(1,3,1)\n",
    "plt.hist(df.loc[df['math score']>0, 'math score'])\n",
    "plt.title('math score')\n",
    "print(normaltest(df['math score']))         \n",
    "\n",
    "plt.subplot(1,3,2)\n",
    "plt.hist(df.loc[df['reading score']>0, 'reading score'])\n",
    "plt.title('reading score')         \n",
    "print(normaltest(df['reading score']))         \n",
    "\n",
    "plt.subplot(1,3,3)\n",
    "plt.hist(df.loc[df['writing score']>0, 'writing score'])\n",
    "plt.title('writing score')          \n",
    "print(normaltest(df['writing score']))         \n",
    "          \n",
    "    #boxcox(df)"
   ]
  },
  {
   "cell_type": "code",
   "execution_count": 60,
   "metadata": {},
   "outputs": [
    {
     "data": {
      "text/plain": [
       "pandas.core.series.Series"
      ]
     },
     "execution_count": 60,
     "metadata": {},
     "output_type": "execute_result"
    }
   ],
   "source": [
    "type(df.loc[df['writing score']>0, 'writing score'])"
   ]
  },
  {
   "cell_type": "markdown",
   "metadata": {},
   "source": [
    "None of the test score results are quite normal"
   ]
  },
  {
   "cell_type": "code",
   "execution_count": 65,
   "metadata": {},
   "outputs": [
    {
     "name": "stdout",
     "output_type": "stream",
     "text": [
      "NormaltestResult(statistic=1.8323075851586939, pvalue=0.4000547794685686)\n",
      "NormaltestResult(statistic=5.282274606965809, pvalue=0.07128015626992971)\n",
      "NormaltestResult(statistic=6.267311355052559, pvalue=0.04355827085003712)\n"
     ]
    },
    {
     "data": {
      "image/png": "[encoded data removed]",
      "text/plain": [
       "<Figure size 432x288 with 3 Axes>"
      ]
     },
     "metadata": {},
     "output_type": "display_data"
    }
   ],
   "source": [
    "from scipy.stats import boxcox\n",
    "x = boxcox(df.loc[df['math score']>0, 'math score'])\n",
    "\n",
    "plt.subplot(1,3,1)\n",
    "plt.hist(x)\n",
    "plt.title('math score')\n",
    "print(normaltest(x[0]))         \n",
    "\n",
    "plt.subplot(1,3,2)\n",
    "plt.hist(boxcox(df.loc[df['reading score']>0, 'reading score']))\n",
    "plt.title('reading score')         \n",
    "print(normaltest(boxcox(df.loc[df['reading score']>0, 'reading score'])[0]))        \n",
    "\n",
    "plt.subplot(1,3,3)\n",
    "plt.hist(boxcox(df.loc[df['writing score']>0, 'writing score']))\n",
    "plt.title('writing score')          \n",
    "print(normaltest(boxcox(df.loc[df['writing score']>0, 'writing score'])[0]))       \n",
    "          "
   ]
  },
  {
   "cell_type": "code",
   "execution_count": 61,
   "metadata": {},
   "outputs": [
    {
     "data": {
      "text/plain": [
       "array([252.60869771, 342.99374201, 369.36730195, 183.3366856 ,\n",
       "       281.90948736, 306.97048398, 369.36730195, 124.47004362,\n",
       "       214.92476383, 196.70968886, 170.21983306, 161.62194252,\n",
       "       296.87755428, 252.60869771, 165.9059899 , 267.1514422 ,\n",
       "       337.78238393,  82.85901473, 120.50594909, 187.76631053,\n",
       "       238.28688951, 267.1514422 , 170.21983306, 257.43201679,\n",
       "       247.80992385, 262.27966781, 170.21983306, 238.28688951,\n",
       "       243.03591336, 243.03591336, 262.27966781, 219.54531408,\n",
       "       252.60869771, 120.50594909, 327.42421544, 296.87755428,\n",
       "       296.87755428, 214.92476383, 342.99374201, 178.93551582,\n",
       "       201.22284498, 257.43201679, 187.76631053, 219.54531408,\n",
       "       178.93551582, 170.21983306, 219.54531408, 247.80992385,\n",
       "       262.27966781, 312.05068567, 174.56312166, 238.28688951,\n",
       "       128.46814867, 281.90948736, 312.05068567, 116.57637525,\n",
       "       317.15315167, 174.56312166, 192.22407921,  34.46931217,\n",
       "       262.27966781, 108.82293293, 201.22284498, 291.86517516,\n",
       "       187.76631053, 214.92476383, 101.21422751, 252.60869771,\n",
       "       187.76631053, 214.92476383, 210.33065787, 174.56312166,\n",
       "       157.36805219, 183.3366856 , 148.95224611, 116.57637525,\n",
       "        62.19833242, 281.90948736, 262.27966781, 233.5630808 ,\n",
       "       148.95224611, 132.49977307, 140.66170369, 214.92476383,\n",
       "       108.82293293, 291.86517516, 306.97048398, 247.80992385,\n",
       "       243.03591336, 322.2777159 , 252.60869771,  90.08340429,\n",
       "       286.87575836, 132.49977307, 322.2777159 , 296.87755428,\n",
       "       224.19205045, 252.60869771, 228.86472122, 228.86472122,\n",
       "       228.86472122, 262.27966781, 348.22641342, 128.46814867,\n",
       "       322.2777159 , 228.86472122, 396.25589446, 210.33065787,\n",
       "       272.04713596, 214.92476383, 337.78238393, 174.56312166,\n",
       "       165.9059899 , 187.76631053, 396.25589446, 276.96654947,\n",
       "       317.15315167, 301.91271594, 210.33065787, 238.28688951,\n",
       "       353.48024969, 337.78238393, 358.75510498, 183.3366856 ,\n",
       "       291.86517516, 369.36730195, 233.5630808 , 276.96654947,\n",
       "       301.91271594, 148.95224611, 312.05068567, 101.21422751,\n",
       "       262.27966781, 296.87755428, 286.87575836, 174.56312166,\n",
       "       170.21983306, 174.56312166, 224.19205045, 201.22284498,\n",
       "       252.60869771, 205.76326099, 174.56312166, 124.47004362,\n",
       "       257.43201679, 108.82293293, 312.05068567, 233.5630808 ,\n",
       "       267.1514422 , 396.25589446, 228.86472122, 228.86472122,\n",
       "       243.03591336, 148.95224611, 228.86472122, 337.78238393,\n",
       "       262.27966781, 196.70968886, 322.2777159 , 205.76326099,\n",
       "       281.90948736, 332.59249041, 165.9059899 , 165.9059899 ,\n",
       "       353.48024969, 396.25589446, 157.36805219, 272.04713596,\n",
       "       306.97048398, 267.1514422 , 257.43201679, 332.59249041,\n",
       "       322.2777159 , 228.86472122, 157.36805219, 348.22641342,\n",
       "       170.21983306, 276.96654947, 243.03591336, 396.25589446,\n",
       "       233.5630808 , 214.92476383, 153.14469174, 238.28688951,\n",
       "       161.62194252, 228.86472122, 272.04713596, 224.19205045,\n",
       "       161.62194252, 332.59249041, 219.54531408, 306.97048398,\n",
       "       214.92476383, 205.76326099, 312.05068567, 174.56312166,\n",
       "       238.28688951, 178.93551582, 165.9059899 , 286.87575836,\n",
       "       312.05068567, 296.87755428, 276.96654947, 238.28688951,\n",
       "       116.57637525, 247.80992385, 205.76326099, 291.86517516,\n",
       "       296.87755428, 201.22284498, 286.87575836,  68.90923869,\n",
       "       205.76326099, 157.36805219, 348.22641342, 306.97048398,\n",
       "       322.2777159 , 120.50594909, 276.96654947, 178.93551582,\n",
       "       233.5630808 , 317.15315167, 219.54531408, 291.86517516,\n",
       "       224.19205045, 178.93551582, 252.60869771, 153.14469174,\n",
       "       252.60869771, 369.36730195, 214.92476383, 124.47004362,\n",
       "       322.2777159 , 327.42421544, 301.91271594, 267.1514422 ,\n",
       "       224.19205045, 196.70968886, 161.62194252, 291.86517516,\n",
       "       233.5630808 , 306.97048398, 161.62194252, 157.36805219,\n",
       "       262.27966781, 272.04713596, 272.04713596, 243.03591336,\n",
       "       214.92476383, 196.70968886, 148.95224611, 306.97048398,\n",
       "       243.03591336, 291.86517516, 161.62194252, 257.43201679,\n",
       "       257.43201679, 276.96654947, 267.1514422 , 296.87755428,\n",
       "       286.87575836, 286.87575836, 153.14469174, 358.75510498,\n",
       "       257.43201679, 120.50594909, 267.1514422 , 252.60869771,\n",
       "       353.48024969, 272.04713596, 210.33065787, 148.95224611,\n",
       "       165.9059899 , 243.03591336, 317.15315167, 281.90948736,\n",
       "       353.48024969, 210.33065787, 322.2777159 , 178.93551582,\n",
       "       161.62194252, 144.79111302, 286.87575836, 281.90948736,\n",
       "       136.56444354, 301.91271594, 301.91271594, 337.78238393,\n",
       "       267.1514422 , 272.04713596, 243.03591336, 257.43201679,\n",
       "       196.70968886, 257.43201679, 276.96654947, 205.76326099,\n",
       "       116.57637525, 262.27966781, 136.56444354, 327.42421544,\n",
       "       281.90948736, 170.21983306, 312.05068567, 272.04713596,\n",
       "       267.1514422 , 228.86472122, 327.42421544, 161.62194252,\n",
       "       247.80992385, 183.3366856 , 272.04713596, 196.70968886,\n",
       "       201.22284498, 228.86472122, 214.92476383, 224.19205045,\n",
       "       301.91271594, 252.60869771, 247.80992385, 219.54531408,\n",
       "       286.87575836, 322.2777159 , 296.87755428, 165.9059899 ,\n",
       "       136.56444354, 342.99374201, 201.22284498,  52.48580664,\n",
       "       267.1514422 , 174.56312166, 196.70968886, 101.21422751,\n",
       "       178.93551582, 281.90948736, 358.75510498, 233.5630808 ,\n",
       "       243.03591336, 157.36805219, 105.00019139, 174.56312166,\n",
       "       201.22284498, 257.43201679, 272.04713596, 252.60869771,\n",
       "       257.43201679, 291.86517516, 201.22284498, 364.05083599,\n",
       "       262.27966781, 262.27966781, 219.54531408, 183.3366856 ,\n",
       "       281.90948736, 187.76631053, 247.80992385, 252.60869771,\n",
       "       201.22284498, 224.19205045, 205.76326099, 342.99374201,\n",
       "       205.76326099, 312.05068567, 187.76631053,  90.08340429,\n",
       "       196.70968886, 187.76631053, 187.76631053, 224.19205045,\n",
       "       214.92476383, 312.05068567, 276.96654947, 257.43201679,\n",
       "       262.27966781, 380.06188762, 243.03591336, 124.47004362,\n",
       "       342.99374201, 369.36730195, 306.97048398, 214.92476383,\n",
       "       322.2777159 , 396.25589446, 296.87755428, 148.95224611,\n",
       "       124.47004362, 272.04713596, 257.43201679, 281.90948736,\n",
       "       214.92476383, 243.03591336, 228.86472122, 233.5630808 ,\n",
       "       228.86472122, 170.21983306, 262.27966781, 132.49977307,\n",
       "       228.86472122, 337.78238393, 210.33065787, 192.22407921,\n",
       "       170.21983306, 124.47004362, 219.54531408, 390.83778299,\n",
       "       192.22407921, 257.43201679, 219.54531408, 291.86517516,\n",
       "       183.3366856 , 312.05068567, 247.80992385, 306.97048398,\n",
       "       224.19205045, 228.86472122, 252.60869771, 257.43201679,\n",
       "       262.27966781, 257.43201679, 192.22407921, 178.93551582,\n",
       "       358.75510498, 187.76631053, 187.76631053, 317.15315167,\n",
       "       108.82293293, 228.86472122, 306.97048398, 247.80992385,\n",
       "       192.22407921, 210.33065787, 224.19205045, 252.60869771,\n",
       "       178.93551582, 192.22407921, 224.19205045, 144.79111302,\n",
       "       233.5630808 , 224.19205045, 178.93551582, 332.59249041,\n",
       "       296.87755428, 296.87755428, 257.43201679, 306.97048398,\n",
       "       301.91271594, 262.27966781, 224.19205045, 296.87755428,\n",
       "       136.56444354, 257.43201679, 317.15315167, 353.48024969,\n",
       "       276.96654947, 187.76631053, 201.22284498, 178.93551582,\n",
       "       337.78238393, 170.21983306, 396.25589446, 219.54531408,\n",
       "       187.76631053, 170.21983306, 243.03591336, 342.99374201,\n",
       "       187.76631053, 327.42421544,  79.30792878, 228.86472122,\n",
       "       332.59249041, 262.27966781, 317.15315167, 238.28688951,\n",
       "       322.2777159 , 228.86472122, 342.99374201, 272.04713596,\n",
       "       205.76326099, 233.5630808 , 214.92476383, 247.80992385,\n",
       "       247.80992385, 192.22407921, 233.5630808 , 161.62194252,\n",
       "       161.62194252, 262.27966781, 140.66170369, 267.1514422 ,\n",
       "       165.9059899 , 301.91271594, 317.15315167, 214.92476383,\n",
       "       306.97048398, 332.59249041, 214.92476383, 214.92476383,\n",
       "       144.79111302, 281.90948736, 238.28688951, 247.80992385,\n",
       "       286.87575836, 327.42421544, 201.22284498, 337.78238393,\n",
       "       192.22407921, 301.91271594, 243.03591336, 192.22407921,\n",
       "       281.90948736, 353.48024969, 247.80992385, 153.14469174,\n",
       "       148.95224611, 201.22284498, 380.06188762, 327.42421544,\n",
       "       337.78238393, 262.27966781, 281.90948736, 281.90948736,\n",
       "       148.95224611, 322.2777159 , 187.76631053, 192.22407921,\n",
       "       161.62194252, 196.70968886, 201.22284498, 165.9059899 ,\n",
       "       116.57637525, 262.27966781, 228.86472122, 170.21983306,\n",
       "       201.22284498, 332.59249041, 238.28688951, 306.97048398,\n",
       "       196.70968886, 224.19205045, 224.19205045, 353.48024969,\n",
       "       238.28688951, 301.91271594, 276.96654947, 369.36730195,\n",
       "       210.33065787, 306.97048398, 396.25589446, 228.86472122,\n",
       "       228.86472122, 252.60869771, 272.04713596, 342.99374201,\n",
       "       144.79111302, 205.76326099, 132.49977307, 108.82293293,\n",
       "       262.27966781, 252.60869771, 228.86472122, 243.03591336,\n",
       "       224.19205045, 267.1514422 , 262.27966781, 342.99374201,\n",
       "       291.86517516, 157.36805219, 124.47004362, 396.25589446,\n",
       "       247.80992385, 144.79111302, 233.5630808 , 267.1514422 ,\n",
       "       374.7043645 , 205.76326099, 224.19205045, 296.87755428,\n",
       "       174.56312166, 157.36805219, 348.22641342, 178.93551582,\n",
       "       201.22284498, 380.06188762, 286.87575836, 257.43201679,\n",
       "       267.1514422 , 276.96654947, 272.04713596, 257.43201679,\n",
       "       210.33065787, 214.92476383, 224.19205045, 183.3366856 ,\n",
       "       205.76326099, 233.5630808 , 272.04713596, 396.25589446,\n",
       "       286.87575836,  55.67454226, 170.21983306, 276.96654947,\n",
       "       301.91271594, 196.70968886,  72.33213901, 281.90948736,\n",
       "       183.3366856 , 337.78238393, 252.60869771, 312.05068567,\n",
       "       187.76631053, 214.92476383, 210.33065787, 196.70968886,\n",
       "       192.22407921, 342.99374201, 276.96654947, 358.75510498,\n",
       "       233.5630808 , 132.49977307, 281.90948736, 296.87755428,\n",
       "       257.43201679, 201.22284498, 210.33065787, 157.36805219,\n",
       "       374.7043645 , 187.76631053, 380.06188762, 243.03591336,\n",
       "       144.79111302, 183.3366856 , 157.36805219, 214.92476383,\n",
       "       196.70968886, 262.27966781, 332.59249041, 312.05068567,\n",
       "       291.86517516, 353.48024969, 272.04713596, 262.27966781,\n",
       "       161.62194252, 332.59249041, 296.87755428, 286.87575836,\n",
       "       219.54531408, 296.87755428, 243.03591336, 205.76326099,\n",
       "       165.9059899 , 286.87575836, 178.93551582, 291.86517516,\n",
       "       322.2777159 , 243.03591336, 286.87575836, 228.86472122,\n",
       "       228.86472122, 224.19205045, 196.70968886, 327.42421544,\n",
       "       276.96654947, 224.19205045, 247.80992385, 238.28688951,\n",
       "       210.33065787, 196.70968886, 257.43201679, 317.15315167,\n",
       "       262.27966781, 252.60869771, 272.04713596, 183.3366856 ,\n",
       "       281.90948736, 312.05068567, 276.96654947, 214.92476383,\n",
       "       281.90948736, 301.91271594, 267.1514422 , 201.22284498,\n",
       "       252.60869771, 233.5630808 , 174.56312166, 112.68185254,\n",
       "       224.19205045, 390.83778299, 267.1514422 , 281.90948736,\n",
       "       187.76631053, 342.99374201, 165.9059899 , 272.04713596,\n",
       "       262.27966781, 276.96654947, 210.33065787, 337.78238393,\n",
       "       301.91271594, 252.60869771, 281.90948736, 224.19205045,\n",
       "       296.87755428, 228.86472122, 312.05068567, 214.92476383,\n",
       "       210.33065787, 252.60869771,  90.08340429, 192.22407921,\n",
       "       327.42421544, 201.22284498, 312.05068567, 317.15315167,\n",
       "       396.25589446, 296.87755428, 243.03591336, 364.05083599,\n",
       "       281.90948736, 374.7043645 , 272.04713596, 257.43201679,\n",
       "       252.60869771, 192.22407921, 342.99374201, 144.79111302,\n",
       "       124.47004362, 262.27966781, 267.1514422 , 157.36805219,\n",
       "       353.48024969, 108.82293293, 276.96654947, 136.56444354,\n",
       "       337.78238393, 140.66170369, 187.76631053, 183.3366856 ,\n",
       "       286.87575836, 224.19205045, 247.80992385, 196.70968886,\n",
       "       257.43201679, 183.3366856 , 312.05068567, 257.43201679,\n",
       "       174.56312166, 286.87575836, 267.1514422 , 214.92476383,\n",
       "       196.70968886, 312.05068567, 238.28688951, 252.60869771,\n",
       "       276.96654947, 342.99374201, 174.56312166, 369.36730195,\n",
       "       187.76631053, 233.5630808 , 192.22407921, 276.96654947,\n",
       "       252.60869771, 187.76631053, 296.87755428, 205.76326099,\n",
       "       210.33065787, 252.60869771, 267.1514422 , 205.76326099,\n",
       "       247.80992385, 196.70968886, 144.79111302, 257.43201679,\n",
       "       228.86472122, 281.90948736, 219.54531408, 187.76631053,\n",
       "       252.60869771, 128.46814867, 286.87575836, 317.15315167,\n",
       "       178.93551582, 342.99374201, 317.15315167, 192.22407921,\n",
       "       296.87755428, 157.36805219, 286.87575836, 105.00019139,\n",
       "       219.54531408, 219.54531408, 205.76326099, 224.19205045,\n",
       "       262.27966781, 312.05068567, 161.62194252, 233.5630808 ,\n",
       "       243.03591336, 312.05068567, 196.70968886, 174.56312166,\n",
       "       257.43201679, 291.86517516, 364.05083599, 317.15315167,\n",
       "       272.04713596, 296.87755428, 262.27966781, 132.49977307,\n",
       "       267.1514422 , 170.21983306,  79.30792878, 140.66170369,\n",
       "       214.92476383, 312.05068567, 291.86517516, 322.2777159 ,\n",
       "       192.22407921, 243.03591336, 252.60869771, 348.22641342,\n",
       "       342.99374201, 342.99374201, 161.62194252, 327.42421544,\n",
       "       187.76631053, 228.86472122, 233.5630808 , 238.28688951,\n",
       "       322.2777159 , 170.21983306, 196.70968886, 322.2777159 ,\n",
       "       196.70968886, 301.91271594, 153.14469174, 214.92476383,\n",
       "       214.92476383, 301.91271594, 183.3366856 , 276.96654947,\n",
       "       161.62194252, 187.76631053, 128.46814867, 276.96654947,\n",
       "       219.54531408, 317.15315167, 317.15315167, 170.21983306,\n",
       "       252.60869771, 267.1514422 , 228.86472122, 233.5630808 ,\n",
       "       317.15315167, 228.86472122, 214.92476383, 380.06188762,\n",
       "       233.5630808 , 286.87575836, 148.95224611, 257.43201679,\n",
       "       205.76326099, 322.2777159 , 120.50594909, 247.80992385,\n",
       "       358.75510498, 301.91271594, 165.9059899 , 120.50594909,\n",
       "       262.27966781, 157.36805219, 187.76631053, 252.60869771,\n",
       "       312.05068567, 342.99374201, 205.76326099, 214.92476383,\n",
       "       301.91271594, 201.22284498, 252.60869771, 272.04713596,\n",
       "       214.92476383, 243.03591336, 257.43201679, 136.56444354,\n",
       "       157.36805219, 272.04713596, 396.25589446, 252.60869771,\n",
       "       219.54531408, 157.36805219, 317.15315167, 353.48024969,\n",
       "       228.86472122, 262.27966781, 205.76326099,  90.08340429,\n",
       "        72.33213901, 281.90948736, 170.21983306, 281.90948736,\n",
       "       312.05068567, 281.90948736, 144.79111302, 396.25589446,\n",
       "       312.05068567, 276.96654947, 144.79111302, 312.05068567,\n",
       "       267.1514422 , 214.92476383, 120.50594909, 312.05068567,\n",
       "       201.22284498, 205.76326099, 201.22284498, 243.03591336,\n",
       "       396.25589446, 201.22284498, 276.96654947, 374.7043645 ,\n",
       "       243.03591336, 165.9059899 , 224.19205045, 219.54531408,\n",
       "       243.03591336, 214.92476383, 178.93551582, 201.22284498,\n",
       "       124.47004362, 178.93551582, 262.27966781, 183.3366856 ,\n",
       "       247.80992385, 267.1514422 , 327.42421544, 210.33065787,\n",
       "       183.3366856 , 187.76631053, 296.87755428, 233.5630808 ,\n",
       "       224.19205045, 348.22641342, 224.19205045, 205.76326099,\n",
       "       233.5630808 , 201.22284498, 301.91271594, 187.76631053,\n",
       "       153.14469174, 267.1514422 , 257.43201679, 276.96654947,\n",
       "       262.27966781, 161.62194252, 238.28688951, 183.3366856 ,\n",
       "       327.42421544, 396.25589446, 210.33065787, 296.87755428,\n",
       "       187.76631053, 170.21983306, 396.25589446, 272.04713596,\n",
       "       183.3366856 , 243.03591336, 233.5630808 , 210.33065787,\n",
       "       272.04713596, 312.05068567, 396.25589446, 252.60869771,\n",
       "       153.14469174, 219.54531408, 210.33065787, 301.91271594,\n",
       "       205.76326099, 219.54531408, 116.57637525, 369.36730195,\n",
       "        55.67454226, 281.90948736, 317.15315167, 327.42421544,\n",
       "       267.1514422 , 157.36805219, 192.22407921, 267.1514422 ,\n",
       "       132.49977307, 322.2777159 , 296.87755428, 301.91271594,\n",
       "       272.04713596, 252.60869771, 210.33065787, 390.83778299,\n",
       "       174.56312166, 247.80992385, 281.90948736, 322.2777159 ])"
      ]
     },
     "execution_count": 61,
     "metadata": {},
     "output_type": "execute_result"
    }
   ],
   "source": [
    "boxcox(df.loc[df['reading score']>0, 'reading score'])[0]\n",
    "#For some reason, the boxcox array generated a second element after the \n",
    "#transformed value list. Therefore, need to only return the first element of the \n",
    "#array when testing for normality. Good to know."
   ]
  },
  {
   "cell_type": "markdown",
   "metadata": {},
   "source": [
    "The boxcox sufficiently normalized math and reading scores, but not writing score distribution."
   ]
  },
  {
   "cell_type": "code",
   "execution_count": null,
   "metadata": {},
   "outputs": [],
   "source": []
  },
  {
   "cell_type": "markdown",
   "metadata": {},
   "source": [
    "# Say we want to use a single variable for the exam scores as our target. For this purpose, create a new variable by taking a weighted average of the exam scores. Check whether this new variable is normally distributed. If it's not normally distributed, apply a Box-Cox transformation and check whether or not the transformed variable is normally distributed."
   ]
  },
  {
   "cell_type": "code",
   "execution_count": 67,
   "metadata": {},
   "outputs": [
    {
     "data": {
      "text/html": [
       "<div>\n",
       "<style scoped>\n",
       "    .dataframe tbody tr th:only-of-type {\n",
       "        vertical-align: middle;\n",
       "    }\n",
       "\n",
       "    .dataframe tbody tr th {\n",
       "        vertical-align: top;\n",
       "    }\n",
       "\n",
       "    .dataframe thead th {\n",
       "        text-align: right;\n",
       "    }\n",
       "</style>\n",
       "<table border=\"1\" class=\"dataframe\">\n",
       "  <thead>\n",
       "    <tr style=\"text-align: right;\">\n",
       "      <th></th>\n",
       "      <th>gender</th>\n",
       "      <th>race/ethnicity</th>\n",
       "      <th>parental level of education</th>\n",
       "      <th>lunch</th>\n",
       "      <th>test preparation course</th>\n",
       "      <th>math score</th>\n",
       "      <th>reading score</th>\n",
       "      <th>writing score</th>\n",
       "      <th>mean score</th>\n",
       "    </tr>\n",
       "  </thead>\n",
       "  <tbody>\n",
       "    <tr>\n",
       "      <th>0</th>\n",
       "      <td>female</td>\n",
       "      <td>group B</td>\n",
       "      <td>bachelor's degree</td>\n",
       "      <td>standard</td>\n",
       "      <td>none</td>\n",
       "      <td>72</td>\n",
       "      <td>72</td>\n",
       "      <td>74</td>\n",
       "      <td>72.666667</td>\n",
       "    </tr>\n",
       "    <tr>\n",
       "      <th>1</th>\n",
       "      <td>female</td>\n",
       "      <td>group C</td>\n",
       "      <td>some college</td>\n",
       "      <td>standard</td>\n",
       "      <td>completed</td>\n",
       "      <td>69</td>\n",
       "      <td>90</td>\n",
       "      <td>88</td>\n",
       "      <td>82.333333</td>\n",
       "    </tr>\n",
       "    <tr>\n",
       "      <th>2</th>\n",
       "      <td>female</td>\n",
       "      <td>group B</td>\n",
       "      <td>master's degree</td>\n",
       "      <td>standard</td>\n",
       "      <td>none</td>\n",
       "      <td>90</td>\n",
       "      <td>95</td>\n",
       "      <td>93</td>\n",
       "      <td>92.666667</td>\n",
       "    </tr>\n",
       "    <tr>\n",
       "      <th>3</th>\n",
       "      <td>male</td>\n",
       "      <td>group A</td>\n",
       "      <td>associate's degree</td>\n",
       "      <td>free/reduced</td>\n",
       "      <td>none</td>\n",
       "      <td>47</td>\n",
       "      <td>57</td>\n",
       "      <td>44</td>\n",
       "      <td>49.333333</td>\n",
       "    </tr>\n",
       "    <tr>\n",
       "      <th>4</th>\n",
       "      <td>male</td>\n",
       "      <td>group C</td>\n",
       "      <td>some college</td>\n",
       "      <td>standard</td>\n",
       "      <td>none</td>\n",
       "      <td>76</td>\n",
       "      <td>78</td>\n",
       "      <td>75</td>\n",
       "      <td>76.333333</td>\n",
       "    </tr>\n",
       "  </tbody>\n",
       "</table>\n",
       "</div>"
      ],
      "text/plain": [
       "   gender race/ethnicity parental level of education         lunch  \\\n",
       "0  female        group B           bachelor's degree      standard   \n",
       "1  female        group C                some college      standard   \n",
       "2  female        group B             master's degree      standard   \n",
       "3    male        group A          associate's degree  free/reduced   \n",
       "4    male        group C                some college      standard   \n",
       "\n",
       "  test preparation course  math score  reading score  writing score  \\\n",
       "0                    none          72             72             74   \n",
       "1               completed          69             90             88   \n",
       "2                    none          90             95             93   \n",
       "3                    none          47             57             44   \n",
       "4                    none          76             78             75   \n",
       "\n",
       "   mean score  \n",
       "0   72.666667  \n",
       "1   82.333333  \n",
       "2   92.666667  \n",
       "3   49.333333  \n",
       "4   76.333333  "
      ]
     },
     "execution_count": 67,
     "metadata": {},
     "output_type": "execute_result"
    }
   ],
   "source": [
    "df['mean score'] = (df['math score']+ df['reading score']+ df['writing score'])/3\n",
    "df.head()"
   ]
  },
  {
   "cell_type": "code",
   "execution_count": 74,
   "metadata": {},
   "outputs": [
    {
     "name": "stdout",
     "output_type": "stream",
     "text": [
      "NormaltestResult(statistic=15.186721327231322, pvalue=0.0005037851534494478)\n",
      "NormaltestResult(statistic=2.779857602227616, pvalue=0.24909303914726724)\n"
     ]
    },
    {
     "data": {
      "image/png": "[encoded data removed]",
      "text/plain": [
       "<Figure size 432x288 with 1 Axes>"
      ]
     },
     "metadata": {},
     "output_type": "display_data"
    }
   ],
   "source": [
    "plt.hist(df['mean score'])\n",
    "print(normaltest(df['mean score']))\n",
    "plt.hist(boxcox(df['mean score']))\n",
    "print(normaltest(boxcox(df['mean score'])[0]))"
   ]
  },
  {
   "cell_type": "markdown",
   "metadata": {},
   "source": [
    "# Which variables seem related to the target variable (the newly created variable in the previous question)? If our goal is to explain the determinants of success in exams, which variables in our dataset might be useful?"
   ]
  },
  {
   "cell_type": "code",
   "execution_count": 79,
   "metadata": {},
   "outputs": [
    {
     "data": {
      "text/plain": [
       "<matplotlib.axes._subplots.AxesSubplot at 0x7f9a28a83550>"
      ]
     },
     "execution_count": 79,
     "metadata": {},
     "output_type": "execute_result"
    },
    {
     "data": {
      "image/png": "[encoded data removed]",
      "text/plain": [
       "<Figure size 432x288 with 1 Axes>"
      ]
     },
     "metadata": {},
     "output_type": "display_data"
    }
   ],
   "source": [
    "sns.boxplot(x= 'race/ethnicity', y= boxcox(df['mean score'])[0], data=df)"
   ]
  },
  {
   "cell_type": "code",
   "execution_count": 80,
   "metadata": {},
   "outputs": [
    {
     "data": {
      "text/plain": [
       "<matplotlib.axes._subplots.AxesSubplot at 0x7f9a48c1ac10>"
      ]
     },
     "execution_count": 80,
     "metadata": {},
     "output_type": "execute_result"
    },
    {
     "data": {
      "image/png": "[encoded data removed]",
      "text/plain": [
       "<Figure size 432x288 with 1 Axes>"
      ]
     },
     "metadata": {},
     "output_type": "display_data"
    }
   ],
   "source": [
    "sns.boxplot(x= 'parental level of education', y= boxcox(df['mean score'])[0], data=df)"
   ]
  },
  {
   "cell_type": "code",
   "execution_count": 81,
   "metadata": {},
   "outputs": [
    {
     "data": {
      "text/plain": [
       "<matplotlib.axes._subplots.AxesSubplot at 0x7f9a28afdb90>"
      ]
     },
     "execution_count": 81,
     "metadata": {},
     "output_type": "execute_result"
    },
    {
     "data": {
      "image/png": "[encoded data removed]",
      "text/plain": [
       "<Figure size 432x288 with 1 Axes>"
      ]
     },
     "metadata": {},
     "output_type": "display_data"
    }
   ],
   "source": [
    "sns.boxplot(x= 'lunch', y= boxcox(df['mean score'])[0], data=df)"
   ]
  },
  {
   "cell_type": "code",
   "execution_count": 82,
   "metadata": {},
   "outputs": [
    {
     "data": {
      "text/plain": [
       "<matplotlib.axes._subplots.AxesSubplot at 0x7f9a48c5f9d0>"
      ]
     },
     "execution_count": 82,
     "metadata": {},
     "output_type": "execute_result"
    },
    {
     "data": {
      "image/png": "[encoded data removed]",
      "text/plain": [
       "<Figure size 432x288 with 1 Axes>"
      ]
     },
     "metadata": {},
     "output_type": "display_data"
    }
   ],
   "source": [
    "sns.boxplot(x= 'test preparation course', y= boxcox(df['mean score'])[0], data=df)"
   ]
  },
  {
   "cell_type": "markdown",
   "metadata": {},
   "source": [
    "All variables have some kind of relationship"
   ]
  }
 ],
 "metadata": {
  "kernelspec": {
   "display_name": "Python 3",
   "language": "python",
   "name": "python3"
  },
  "language_info": {
   "codemirror_mode": {
    "name": "ipython",
    "version": 3
   },
   "file_extension": ".py",
   "mimetype": "text/x-python",
   "name": "python",
   "nbconvert_exporter": "python",
   "pygments_lexer": "ipython3",
   "version": "3.7.4"
  }
 },
 "nbformat": 4,
 "nbformat_minor": 4
}
