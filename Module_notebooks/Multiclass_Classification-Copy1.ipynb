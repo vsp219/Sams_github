{
 "cells": [
  {
   "cell_type": "code",
   "execution_count": 1,
   "metadata": {
    "colab": {},
    "colab_type": "code",
    "id": "1X8uH9FQn7ZV"
   },
   "outputs": [],
   "source": [
    "from sklearn.linear_model import LogisticRegression\n",
    "from sklearn.ensemble import RandomForestClassifier\n",
    "from sklearn.datasets import fetch_20newsgroups_vectorized\n",
    "from sklearn.model_selection import train_test_split\n",
    "from sklearn.datasets import load_breast_cancer\n",
    "from sklearn.metrics import  classification_report, confusion_matrix\n",
    "\n",
    "import matplotlib.pyplot as plt\n",
    "import pandas as pd\n",
    "import numpy as np\n",
    "import seaborn as sns\n"
   ]
  },
  {
   "cell_type": "code",
   "execution_count": 2,
   "metadata": {
    "colab": {
     "base_uri": "https://localhost:8080/",
     "height": 51
    },
    "colab_type": "code",
    "id": "HfInD40bJbpC",
    "outputId": "77c4d333-9c77-4013-89ce-e7fca9a97c1c"
   },
   "outputs": [],
   "source": [
    "# Load both datasets\n",
    "newsgroup_X, newsgroup_y = fetch_20newsgroups_vectorized(return_X_y=True)\n",
    "breast_cancer_X, breast_cancer_y = load_breast_cancer(return_X_y=True)"
   ]
  },
  {
   "cell_type": "code",
   "execution_count": 3,
   "metadata": {
    "colab": {},
    "colab_type": "code",
    "id": "51JqRqv2JnOY"
   },
   "outputs": [],
   "source": [
    "# split the datasets into training and test data\n",
    "newsgroup_X_train, newsgroup_X_test, newsgroup_y_train, newsgroup_y_test = train_test_split(newsgroup_X, newsgroup_y, random_state=42)\n",
    "breast_cancer_X_train, breast_cancer_X_test, breast_cancer_y_train, breast_cancer_y_test = train_test_split(breast_cancer_X, breast_cancer_y, random_state=42)"
   ]
  },
  {
   "cell_type": "markdown",
   "metadata": {
    "colab_type": "text",
    "id": "oD3zVNeNQ1OE"
   },
   "source": [
    "Now to train a RandomForest model on the breast cancer data. This is the binary classification problem."
   ]
  },
  {
   "cell_type": "code",
   "execution_count": 4,
   "metadata": {
    "colab": {
     "base_uri": "https://localhost:8080/",
     "height": 136
    },
    "colab_type": "code",
    "id": "sbffdzjBQ_py",
    "outputId": "e300d5a6-276c-4596-cff4-6c287e40f4fb"
   },
   "outputs": [
    {
     "data": {
      "text/plain": [
       "RandomForestClassifier(n_estimators=24, random_state=64)"
      ]
     },
     "execution_count": 4,
     "metadata": {},
     "output_type": "execute_result"
    }
   ],
   "source": [
    "bc_rf_clf = RandomForestClassifier(n_estimators=24, random_state=64)\n",
    "bc_rf_clf.fit(breast_cancer_X_train, breast_cancer_y_train)"
   ]
  },
  {
   "cell_type": "markdown",
   "metadata": {
    "colab_type": "text",
    "id": "tZF2spBCRSul"
   },
   "source": [
    "And we can look at a few of the metrics we saw previously. For simplicity we will just use the classification report."
   ]
  },
  {
   "cell_type": "code",
   "execution_count": 5,
   "metadata": {
    "colab": {
     "base_uri": "https://localhost:8080/",
     "height": 170
    },
    "colab_type": "code",
    "id": "8-pI5sFzRaoS",
    "outputId": "d3a8ebe6-ff47-4677-f262-c817d53f08a7"
   },
   "outputs": [
    {
     "name": "stdout",
     "output_type": "stream",
     "text": [
      "              precision    recall  f1-score   support\n",
      "\n",
      "           0       0.98      0.94      0.96        54\n",
      "           1       0.97      0.99      0.98        89\n",
      "\n",
      "    accuracy                           0.97       143\n",
      "   macro avg       0.97      0.97      0.97       143\n",
      "weighted avg       0.97      0.97      0.97       143\n",
      "\n"
     ]
    }
   ],
   "source": [
    "# first generate predictions on the test data\n",
    "bc_predictions = bc_rf_clf.predict(breast_cancer_X_test)\n",
    "bc_report = classification_report(breast_cancer_y_test, bc_predictions)\n",
    "print(bc_report)"
   ]
  },
  {
   "cell_type": "markdown",
   "metadata": {
    "colab_type": "text",
    "id": "suLDpPWXSqIx"
   },
   "source": [
    "From this report, we see that there are two classes represented by 0 and 1 and their respective scores. Now let's look at the multiclass problem with the 20 newsgroups dataset."
   ]
  },
  {
   "cell_type": "code",
   "execution_count": 6,
   "metadata": {
    "colab": {
     "base_uri": "https://localhost:8080/",
     "height": 136
    },
    "colab_type": "code",
    "id": "6Id-LE0vOqrL",
    "outputId": "88423fca-f0be-43f6-e60c-fcd8b5c46a34"
   },
   "outputs": [
    {
     "data": {
      "text/plain": [
       "RandomForestClassifier(n_estimators=24, random_state=64)"
      ]
     },
     "execution_count": 6,
     "metadata": {},
     "output_type": "execute_result"
    }
   ],
   "source": [
    "ng_rf_clf = RandomForestClassifier(n_estimators = 24, random_state=64)\n",
    "ng_rf_clf.fit(newsgroup_X_train, newsgroup_y_train)"
   ]
  },
  {
   "cell_type": "code",
   "execution_count": 7,
   "metadata": {
    "colab": {
     "base_uri": "https://localhost:8080/",
     "height": 476
    },
    "colab_type": "code",
    "id": "1yahselWTFTI",
    "outputId": "dae4c421-aae8-41b9-f717-131dce832c8f"
   },
   "outputs": [
    {
     "name": "stdout",
     "output_type": "stream",
     "text": [
      "              precision    recall  f1-score   support\n",
      "\n",
      "           0       0.80      0.76      0.78       114\n",
      "           1       0.59      0.60      0.59       146\n",
      "           2       0.59      0.78      0.67       148\n",
      "           3       0.54      0.64      0.59       143\n",
      "           4       0.64      0.68      0.66       134\n",
      "           5       0.73      0.81      0.76       151\n",
      "           6       0.69      0.77      0.73       148\n",
      "           7       0.79      0.81      0.80       145\n",
      "           8       0.91      0.87      0.89       156\n",
      "           9       0.85      0.84      0.85       154\n",
      "          10       0.86      0.94      0.90       139\n",
      "          11       0.91      0.92      0.91       157\n",
      "          12       0.72      0.43      0.54       172\n",
      "          13       0.90      0.76      0.82       152\n",
      "          14       0.85      0.86      0.85       152\n",
      "          15       0.73      0.90      0.81       155\n",
      "          16       0.84      0.86      0.85       138\n",
      "          17       0.90      0.90      0.90       134\n",
      "          18       0.81      0.62      0.71       112\n",
      "          19       0.80      0.35      0.49        79\n",
      "\n",
      "    accuracy                           0.76      2829\n",
      "   macro avg       0.77      0.76      0.76      2829\n",
      "weighted avg       0.77      0.76      0.76      2829\n",
      "\n"
     ]
    }
   ],
   "source": [
    "# first generate predictions on the test data\n",
    "ng_predictions = ng_rf_clf.predict(newsgroup_X_test)\n",
    "ng_report = classification_report(newsgroup_y_test, ng_predictions)\n",
    "print(ng_report)"
   ]
  },
  {
   "cell_type": "markdown",
   "metadata": {
    "colab_type": "text",
    "id": "YBUkOL8-TSDK"
   },
   "source": [
    "And here we see that 20 classes are represented with their respective scores.\n",
    "\n",
    "When a prediction is made for a data instance a probability is calculated depicting the likelihood of that instance belonging to one class or another. For instance, if we were to look at the probabilities generated in the breast cancer model with the *predict_proba* function we will see that for each data instance the probability of that instance belonging to one class or the other is generated."
   ]
  },
  {
   "cell_type": "code",
   "execution_count": 8,
   "metadata": {
    "colab": {
     "base_uri": "https://localhost:8080/",
     "height": 51
    },
    "colab_type": "code",
    "id": "N9orl2aVTzPa",
    "outputId": "c8411686-140c-46e2-bdad-1b294b0d983c"
   },
   "outputs": [
    {
     "data": {
      "text/plain": [
       "array([[0.08333333, 0.91666667],\n",
       "       [1.        , 0.        ]])"
      ]
     },
     "execution_count": 8,
     "metadata": {},
     "output_type": "execute_result"
    }
   ],
   "source": [
    "bc_predict_proba = bc_rf_clf.predict_proba(breast_cancer_X_test)\n",
    "\n",
    "# lets just print 2 examples\n",
    "bc_predict_proba[0:2]"
   ]
  },
  {
   "cell_type": "markdown",
   "metadata": {
    "colab_type": "text",
    "id": "dKHKPeIGUsjd"
   },
   "source": [
    "The model is quite confident about the second data sample. It is 100% sure that it is a 0. The second data sample however, it is 92% sure that it is a 1, and 8% sure that it is a 0. \n",
    "\n",
    "Let us now look at the probabilities generated for the multiclass problem."
   ]
  },
  {
   "cell_type": "code",
   "execution_count": 9,
   "metadata": {
    "colab": {
     "base_uri": "https://localhost:8080/",
     "height": 153
    },
    "colab_type": "code",
    "id": "rXVF4x0BVUOd",
    "outputId": "cbf86e55-dcce-40c9-bcd9-b99a24a23dc4"
   },
   "outputs": [
    {
     "data": {
      "text/plain": [
       "array([[0.        , 0.        , 0.        , 0.04166667, 0.        ,\n",
       "        0.        , 0.        , 0.08333333, 0.29166667, 0.125     ,\n",
       "        0.04166667, 0.        , 0.04166667, 0.08333333, 0.        ,\n",
       "        0.04166667, 0.04166667, 0.04166667, 0.16666667, 0.        ],\n",
       "       [0.04166667, 0.04166667, 0.20833333, 0.16666667, 0.        ,\n",
       "        0.08333333, 0.        , 0.        , 0.        , 0.08333333,\n",
       "        0.        , 0.08333333, 0.        , 0.        , 0.16666667,\n",
       "        0.08333333, 0.        , 0.        , 0.04166667, 0.        ]])"
      ]
     },
     "execution_count": 9,
     "metadata": {},
     "output_type": "execute_result"
    }
   ],
   "source": [
    "ng_predict_proba = ng_rf_clf.predict_proba(newsgroup_X_test)\n",
    "\n",
    "# Just print the first 2\n",
    "ng_predict_proba[0:2]"
   ]
  },
  {
   "cell_type": "markdown",
   "metadata": {
    "colab_type": "text",
    "id": "MexdT3AWVnvX"
   },
   "source": [
    "This time, for each data instance 20 probabilities are generated. The first instance there is a 29.2% chance that it belongs to the 9th class and various smaller chances for the other classes. In the second instance, there is a 20.8% chance that it belongs to the 3rd class.\n",
    "\n",
    "So, as mentioned above, Random Forest works exactly the same regardless of the number of classes being predicted. \n",
    "\n",
    "### Logistic Regression\n",
    "Logistic Regression, on the other hand, requires some special attention. Let's see what happens when we try a multiclass problem.\n"
   ]
  },
  {
   "cell_type": "code",
   "execution_count": 10,
   "metadata": {
    "colab": {
     "base_uri": "https://localhost:8080/",
     "height": 156
    },
    "colab_type": "code",
    "id": "-wGxnDVTPUAk",
    "outputId": "4488ab08-f1b6-433f-e5e3-97a63bf9db69",
    "scrolled": true
   },
   "outputs": [
    {
     "name": "stderr",
     "output_type": "stream",
     "text": [
      "/Users/robholmstrom/miniconda3/lib/python3.7/site-packages/sklearn/linear_model/_logistic.py:764: ConvergenceWarning: lbfgs failed to converge (status=1):\n",
      "STOP: TOTAL NO. of ITERATIONS REACHED LIMIT.\n",
      "\n",
      "Increase the number of iterations (max_iter) or scale the data as shown in:\n",
      "    https://scikit-learn.org/stable/modules/preprocessing.html\n",
      "Please also refer to the documentation for alternative solver options:\n",
      "    https://scikit-learn.org/stable/modules/linear_model.html#logistic-regression\n",
      "  extra_warning_msg=_LOGISTIC_SOLVER_CONVERGENCE_MSG)\n"
     ]
    },
    {
     "data": {
      "text/plain": [
       "LogisticRegression(random_state=642)"
      ]
     },
     "execution_count": 10,
     "metadata": {},
     "output_type": "execute_result"
    }
   ],
   "source": [
    "ng_lr_clf = LogisticRegression(solver='lbfgs', random_state=642)\n",
    "ng_lr_clf.fit(newsgroup_X_train, newsgroup_y_train)"
   ]
  },
  {
   "cell_type": "markdown",
   "metadata": {
    "colab_type": "text",
    "id": "-jYg9lByb9_v"
   },
   "source": [
    "The *multi_class* parameter is set to **ovr** by default meaning **one-vs-rest**. Possible options are:\n",
    "\n",
    " - ovr\n",
    " - multinomial\n",
    " - auto\n",
    " \n",
    " 'auto' will select 'ovr' when the data is binary or if the solver is 'liblinear' and otherwise select 'multinomial'. \n",
    " \n",
    "### One-vs-Rest\n",
    "OvR simply breaks the problem down into a series of binary problem. For instance, in the 20 newsgroups dataset, the algorithm would take the first category and train a model to predict just that single category. We can imagine that this creates a line that separates that category from all other categories. Then it does the same thing for each of the other categories. Given an unseen data sample, it must then check it against each of these models to determine the correct category.\n",
    " \n",
    "### Multinomial\n",
    "Multinomial classification calculates a logit score (a number) for each class resulting in a vector of numbers. These numbers are the raw prediction values generated by the algorithm. They are then turned into probabilities using the [**Softmax**](https://en.wikipedia.org/wiki/Softmax_function) function. Softmax is simply a function that takes the vector of numbers and turns them into probabilities that sum to 1. Naturally larger numbers result in higher probabilities.\n",
    "\n",
    "Whether you choose multinomial or ovr the result should be the same. Let us try with an example and look at the probabilities generated by each.\n",
    " "
   ]
  },
  {
   "cell_type": "code",
   "execution_count": 11,
   "metadata": {
    "colab": {
     "base_uri": "https://localhost:8080/",
     "height": 85
    },
    "colab_type": "code",
    "id": "rr5XVca1dxGo",
    "outputId": "b76e1411-0d02-4ce6-ac1f-b9013ada926d"
   },
   "outputs": [
    {
     "data": {
      "text/plain": [
       "array([[0.01957205, 0.02471823, 0.03057054, 0.04273101, 0.03904383,\n",
       "        0.01534491, 0.01787584, 0.11388177, 0.33645879, 0.09071004,\n",
       "        0.05532123, 0.01663047, 0.05376954, 0.00975767, 0.01965703,\n",
       "        0.00587312, 0.04700331, 0.01956385, 0.02523147, 0.01628529]])"
      ]
     },
     "execution_count": 11,
     "metadata": {},
     "output_type": "execute_result"
    }
   ],
   "source": [
    "# Using ovr\n",
    "ng_ovr_lr_clf = LogisticRegression(solver='lbfgs', multi_class='ovr', random_state=53)\n",
    "ng_ovr_lr_clf.fit(newsgroup_X_train, newsgroup_y_train)\n",
    "ng_ovr_proba = ng_ovr_lr_clf.predict_proba(newsgroup_X_test)\n",
    "\n",
    "# Just look at the first instance\n",
    "ng_ovr_proba[0:1]"
   ]
  },
  {
   "cell_type": "code",
   "execution_count": 12,
   "metadata": {
    "colab": {
     "base_uri": "https://localhost:8080/",
     "height": 139
    },
    "colab_type": "code",
    "id": "1pF8vbDMaKVp",
    "outputId": "1ec45df3-c8c4-4747-aa12-40f3f389097a"
   },
   "outputs": [
    {
     "name": "stderr",
     "output_type": "stream",
     "text": [
      "/Users/robholmstrom/miniconda3/lib/python3.7/site-packages/sklearn/linear_model/_logistic.py:764: ConvergenceWarning: lbfgs failed to converge (status=1):\n",
      "STOP: TOTAL NO. of ITERATIONS REACHED LIMIT.\n",
      "\n",
      "Increase the number of iterations (max_iter) or scale the data as shown in:\n",
      "    https://scikit-learn.org/stable/modules/preprocessing.html\n",
      "Please also refer to the documentation for alternative solver options:\n",
      "    https://scikit-learn.org/stable/modules/linear_model.html#logistic-regression\n",
      "  extra_warning_msg=_LOGISTIC_SOLVER_CONVERGENCE_MSG)\n"
     ]
    },
    {
     "data": {
      "text/plain": [
       "array([[0.01599067, 0.02338211, 0.02784742, 0.03902909, 0.03645401,\n",
       "        0.01472163, 0.01738782, 0.11047482, 0.38456001, 0.08426305,\n",
       "        0.05355296, 0.01535498, 0.05071302, 0.00924774, 0.01849417,\n",
       "        0.00536679, 0.04009727, 0.0170955 , 0.02246127, 0.01350566]])"
      ]
     },
     "execution_count": 12,
     "metadata": {},
     "output_type": "execute_result"
    }
   ],
   "source": [
    "# using multinomial\n",
    "ng_multinomial_lr_clf = LogisticRegression(solver='lbfgs', multi_class='multinomial', random_state=53)\n",
    "ng_multinomial_lr_clf.fit(newsgroup_X_train, newsgroup_y_train)\n",
    "ng_multinomial_proba = ng_multinomial_lr_clf.predict_proba(newsgroup_X_test)\n",
    "\n",
    "# Just look at the first instance\n",
    "ng_multinomial_proba[0:1]"
   ]
  },
  {
   "cell_type": "markdown",
   "metadata": {
    "colab_type": "text",
    "id": "ON27nLFuiEHV"
   },
   "source": [
    "Notice that in both cases the 9th category has the highest probability. Even though the actual numbers are slightly different, the result remains the same.\n",
    "\n",
    "\n",
    "Multinomial model is used when the dependent variable is nominal, that is, the categories are not ordered in some meaningful way. It is also good for cases where the data belongs to one class exclusively. For example, predicting which digit is represented in a hand-written sample. In this case, the digit must be one of 0 to 9, it cannot be partly a 2 and partly a 7.\n",
    "\n",
    "If the data potentially can belong to more than one class then one-vs-rest may be a better choice. In the 20 newsgroups dataset each post has been assigned a single category. However, a post may be about both politics and religion at the same time. \n",
    "\n",
    "### Confusion Matrix\n",
    "The confusion matrix for a multiclass problem is essentially the same as before except instead of a 2x2 matrix we have an NxN matrix where N is the number of categories. We can use the same function that we used previously to visualize the confusion matrix."
   ]
  },
  {
   "cell_type": "code",
   "execution_count": 13,
   "metadata": {
    "colab": {},
    "colab_type": "code",
    "id": "L_FghI7J-x35"
   },
   "outputs": [],
   "source": [
    "def plot_confusion_matrix(cm,\n",
    "                          target_names,\n",
    "                          title='Confusion matrix',\n",
    "                          cmap=None,\n",
    "                          normalize=True):\n",
    "    \"\"\"\n",
    "    given a sklearn confusion matrix (cm), make a nice plot\n",
    "\n",
    "    Arguments\n",
    "    ---------\n",
    "    cm:           confusion matrix from sklearn.metrics.confusion_matrix\n",
    "\n",
    "    target_names: given classification classes such as [0, 1, 2]\n",
    "                  the class names, for example: ['high', 'medium', 'low']\n",
    "\n",
    "    title:        the text to display at the top of the matrix\n",
    "\n",
    "    cmap:         the gradient of the values displayed from matplotlib.pyplot.cm\n",
    "                  see http://matplotlib.org/examples/color/colormaps_reference.html\n",
    "                  plt.get_cmap('jet') or plt.cm.Blues\n",
    "\n",
    "    normalize:    If False, plot the raw numbers\n",
    "                  If True, plot the proportions\n",
    "\n",
    "    Usage\n",
    "    -----\n",
    "    plot_confusion_matrix(cm           = cm,                  # confusion matrix created by\n",
    "                                                              # sklearn.metrics.confusion_matrix\n",
    "                          normalize    = True,                # show proportions\n",
    "                          target_names = y_labels_vals,       # list of names of the classes\n",
    "                          title        = best_estimator_name) # title of graph\n",
    "\n",
    "    Citiation\n",
    "    ---------\n",
    "    http://scikit-learn.org/stable/auto_examples/model_selection/plot_confusion_matrix.html\n",
    "\n",
    "    \"\"\"\n",
    "    import matplotlib.pyplot as plt\n",
    "    import numpy as np\n",
    "    import itertools\n",
    "\n",
    "    accuracy = np.trace(cm) / float(np.sum(cm))\n",
    "    misclass = 1 - accuracy\n",
    "\n",
    "    if cmap is None:\n",
    "        cmap = plt.get_cmap('Blues')\n",
    "\n",
    "    plt.figure(figsize=(8, 6))\n",
    "    plt.imshow(cm, interpolation='nearest', cmap=cmap)\n",
    "    plt.title(title)\n",
    "    plt.colorbar()\n",
    "\n",
    "    if target_names is not None:\n",
    "        tick_marks = np.arange(len(target_names))\n",
    "        plt.xticks(tick_marks, target_names, rotation=45)\n",
    "        plt.yticks(tick_marks, target_names)\n",
    "\n",
    "    if normalize:\n",
    "        cm = cm.astype('float') / cm.sum(axis=1)[:, np.newaxis]\n",
    "\n",
    "\n",
    "    thresh = cm.max() / 1.5 if normalize else cm.max() / 2\n",
    "    for i, j in itertools.product(range(cm.shape[0]), range(cm.shape[1])):\n",
    "        if normalize:\n",
    "            plt.text(j, i, \"{:0.4f}\".format(cm[i, j]),\n",
    "                     horizontalalignment=\"center\",\n",
    "                     color=\"white\" if cm[i, j] > thresh else \"black\")\n",
    "        else:\n",
    "            plt.text(j, i, \"{:,}\".format(cm[i, j]),\n",
    "                     horizontalalignment=\"center\",\n",
    "                     color=\"white\" if cm[i, j] > thresh else \"black\")\n",
    "\n",
    "\n",
    "    plt.tight_layout()\n",
    "    plt.ylabel('Predicted label')\n",
    "    plt.xlabel('True label\\naccuracy={:0.4f}; misclass={:0.4f}'.format(accuracy, misclass))\n",
    "    plt.show()"
   ]
  },
  {
   "cell_type": "code",
   "execution_count": 14,
   "metadata": {
    "colab": {
     "base_uri": "https://localhost:8080/",
     "height": 467
    },
    "colab_type": "code",
    "id": "VcKfBgz4-3KY",
    "outputId": "3d652674-d87d-499c-b0a7-47106b66bb76"
   },
   "outputs": [
    {
     "data": {
      "image/png": "[encoded data removed]",
      "text/plain": [
       "<Figure size 576x432 with 2 Axes>"
      ]
     },
     "metadata": {
      "needs_background": "light"
     },
     "output_type": "display_data"
    }
   ],
   "source": [
    "confusion = confusion_matrix(newsgroup_y_test, ng_ovr_lr_clf.predict(newsgroup_X_test))\n",
    "plot_confusion_matrix(cm=confusion, target_names=[i for i in range(20)], title = 'Confusion Matrix',normalize=False)\n"
   ]
  },
  {
   "cell_type": "markdown",
   "metadata": {
    "colab_type": "text",
    "id": "d8hhZ_V3B1Uj"
   },
   "source": [
    "Once again the leading diagonal represents the true positives, the instances that were correctly classified. The rest of the matrix represents the number of instances that were incorrectly classified."
   ]
  },
  {
   "cell_type": "markdown",
   "metadata": {
    "colab_type": "text",
    "id": "hJ48OQI7DCy4"
   },
   "source": [
    "## Visualizing the Decision Boundaries\n",
    "To solidify the concept let us visualize the decision boundaries in a multiclass problem. For this exercise, we will create a fictitious dataset of paw print features. In our fictitious dataset there are three categories of creatures large, medium and small. There are two features per sample: the circumference of the paw print and the length of the stride."
   ]
  },
  {
   "cell_type": "code",
   "execution_count": 15,
   "metadata": {
    "colab": {
     "base_uri": "https://localhost:8080/",
     "height": 204
    },
    "colab_type": "code",
    "id": "0okYSJ9QGIqs",
    "outputId": "2fefb6f7-932a-49c1-d899-fdb9ab9f22f2"
   },
   "outputs": [
    {
     "data": {
      "text/html": [
       "<div>\n",
       "<style scoped>\n",
       "    .dataframe tbody tr th:only-of-type {\n",
       "        vertical-align: middle;\n",
       "    }\n",
       "\n",
       "    .dataframe tbody tr th {\n",
       "        vertical-align: top;\n",
       "    }\n",
       "\n",
       "    .dataframe thead th {\n",
       "        text-align: right;\n",
       "    }\n",
       "</style>\n",
       "<table border=\"1\" class=\"dataframe\">\n",
       "  <thead>\n",
       "    <tr style=\"text-align: right;\">\n",
       "      <th></th>\n",
       "      <th>circumference</th>\n",
       "      <th>stride</th>\n",
       "      <th>target</th>\n",
       "    </tr>\n",
       "  </thead>\n",
       "  <tbody>\n",
       "    <tr>\n",
       "      <th>0</th>\n",
       "      <td>6.831612</td>\n",
       "      <td>23.731532</td>\n",
       "      <td>1</td>\n",
       "    </tr>\n",
       "    <tr>\n",
       "      <th>1</th>\n",
       "      <td>6.482407</td>\n",
       "      <td>19.866921</td>\n",
       "      <td>1</td>\n",
       "    </tr>\n",
       "    <tr>\n",
       "      <th>2</th>\n",
       "      <td>6.194825</td>\n",
       "      <td>18.063955</td>\n",
       "      <td>2</td>\n",
       "    </tr>\n",
       "    <tr>\n",
       "      <th>3</th>\n",
       "      <td>7.971300</td>\n",
       "      <td>19.259511</td>\n",
       "      <td>1</td>\n",
       "    </tr>\n",
       "    <tr>\n",
       "      <th>4</th>\n",
       "      <td>8.225081</td>\n",
       "      <td>26.608548</td>\n",
       "      <td>1</td>\n",
       "    </tr>\n",
       "  </tbody>\n",
       "</table>\n",
       "</div>"
      ],
      "text/plain": [
       "   circumference     stride  target\n",
       "0       6.831612  23.731532       1\n",
       "1       6.482407  19.866921       1\n",
       "2       6.194825  18.063955       2\n",
       "3       7.971300  19.259511       1\n",
       "4       8.225081  26.608548       1"
      ]
     },
     "execution_count": 15,
     "metadata": {},
     "output_type": "execute_result"
    }
   ],
   "source": [
    "# use numpy to geenerate random data\n",
    "circ_large = np.random.uniform(5.6, 9.3, 50)\n",
    "stride_large = np.random.uniform(18.5, 29.8, 50)\n",
    "labels_large = np.ones(50, dtype=np.int8)\n",
    "\n",
    "circ_med = np.random.uniform(4.7, 6.4, 50)\n",
    "stride_med = np.random.uniform(13.2, 19.8, 50)\n",
    "labels_med = np.full(50, 2, dtype=np.int8)\n",
    "\n",
    "circ_small = np.random.uniform(2.3, 5.1, 50)\n",
    "stride_small = np.random.uniform(8.7, 14.3, 50)\n",
    "labels_small = np.zeros(50, dtype=np.int8)\n",
    "\n",
    "# construct a dataframe\n",
    "df = pd.DataFrame({'circumference': np.concatenate((circ_large, circ_med, circ_small)),\n",
    "                   'stride': np.concatenate((stride_large, stride_med, stride_small)),\n",
    "                   'target': np.concatenate((labels_large, labels_med, labels_small))})\n",
    "\n",
    "# shuffle the data\n",
    "df = df.sample(frac=1).reset_index(drop=True)\n",
    "df.head()"
   ]
  },
  {
   "cell_type": "markdown",
   "metadata": {
    "colab_type": "text",
    "id": "rsCM3XgdEJOc"
   },
   "source": [
    "Next we train a classifier using the one-vs-rest strategy."
   ]
  },
  {
   "cell_type": "code",
   "execution_count": 16,
   "metadata": {
    "colab": {
     "base_uri": "https://localhost:8080/",
     "height": 34
    },
    "colab_type": "code",
    "id": "5xmrSagpN3SD",
    "outputId": "27211ff6-891b-4c2b-d6f6-657791a8a9ac"
   },
   "outputs": [
    {
     "data": {
      "text/plain": [
       "0.9736842105263158"
      ]
     },
     "execution_count": 16,
     "metadata": {},
     "output_type": "execute_result"
    }
   ],
   "source": [
    "X = df.drop('target', axis=1)\n",
    "y = df['target']\n",
    "X_train, X_test, y_train, y_test = train_test_split(X, y)\n",
    "lr = LogisticRegression(solver='lbfgs', multi_class='ovr', max_iter=1000)\n",
    "lr.fit(X_train, y_train)\n",
    "\n",
    "lr.score(X_test, y_test)"
   ]
  },
  {
   "cell_type": "markdown",
   "metadata": {
    "colab_type": "text",
    "id": "JKgsaHQsESCJ"
   },
   "source": [
    "When we fit a classifier with data there are two properties that we can access. The coefficients of the model are stored in *coef_* and the intercepts (biases) are stored in *intercept_*. "
   ]
  },
  {
   "cell_type": "code",
   "execution_count": 17,
   "metadata": {
    "colab": {
     "base_uri": "https://localhost:8080/",
     "height": 85
    },
    "colab_type": "code",
    "id": "Qgm5RcVoQsEl",
    "outputId": "eddf09af-945d-4a15-cbab-6d663efd1f15"
   },
   "outputs": [
    {
     "name": "stdout",
     "output_type": "stream",
     "text": [
      "[[-1.5384895  -1.74034395]\n",
      " [ 1.63517064  0.98109688]\n",
      " [ 0.24073285 -0.13329797]]\n",
      "[ 31.86217646 -29.55295954   0.38281286]\n"
     ]
    }
   ],
   "source": [
    "print(lr.coef_)\n",
    "print(lr.intercept_)\n"
   ]
  },
  {
   "cell_type": "markdown",
   "metadata": {
    "colab_type": "text",
    "id": "h_OSbOhXE5RO"
   },
   "source": [
    "We can use these values to draw the decision boundaries on a plot."
   ]
  },
  {
   "cell_type": "code",
   "execution_count": 18,
   "metadata": {
    "colab": {
     "base_uri": "https://localhost:8080/",
     "height": 283
    },
    "colab_type": "code",
    "id": "upmNYcs9ORmJ",
    "outputId": "3c95d89e-1e49-4d88-b3ba-17de9d500cd2"
   },
   "outputs": [
    {
     "data": {
      "image/png": "[encoded data removed]",
      "text/plain": [
       "<Figure size 576x288 with 1 Axes>"
      ]
     },
     "metadata": {
      "needs_background": "light"
     },
     "output_type": "display_data"
    }
   ],
   "source": [
    "fig = plt.figure(figsize=(8,4))\n",
    "ax = fig.subplots(1,1)\n",
    "sns.scatterplot(x = 'circumference', y='stride', data=X_test,  hue=y_test)\n",
    "colour = ['g-', 'b-']\n",
    "for coef, c, col in zip(lr.coef_, lr.intercept_, colour):\n",
    "  x = np.linspace(2, 10) \n",
    "  y = (coef[0] * x + c) / -coef[1]\n",
    "  ax.plot(x, y, col)\n",
    "ax.set_ylim(0, 30)\n",
    "plt.show()"
   ]
  },
  {
   "cell_type": "markdown",
   "metadata": {
    "colab_type": "text",
    "id": "I2ufMo9fFHZo"
   },
   "source": [
    "In this plot, we can see the decision boundaries clearly demarking the classes. Given a data sample with circumference = 5 and stride = 10 we can plot that point on the graph and compare its position to the position of the lines. Since that point lies below the green line it is clearly in category 0. The point with circumference = 8 and stride = 12, on the other hand, is above the green line. This means it is not in category 0. To distinguish between categories 1 and 2 we now look at the blue line. Since the point is below the blue line it is in category 2."
   ]
  }
 ],
 "metadata": {
  "colab": {
   "collapsed_sections": [],
   "name": "Copy of Multiclass Classification.ipynb",
   "provenance": [],
   "version": "0.3.2"
  },
  "kernelspec": {
   "display_name": "Python 3",
   "language": "python",
   "name": "python3"
  },
  "language_info": {
   "codemirror_mode": {
    "name": "ipython",
    "version": 3
   },
   "file_extension": ".py",
   "mimetype": "text/x-python",
   "name": "python",
   "nbconvert_exporter": "python",
   "pygments_lexer": "ipython3",
   "version": "3.7.4"
  }
 },
 "nbformat": 4,
 "nbformat_minor": 1
}
