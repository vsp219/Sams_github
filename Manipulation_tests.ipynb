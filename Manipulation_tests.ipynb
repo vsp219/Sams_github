{
 "cells": [
  {
   "cell_type": "code",
   "execution_count": 130,
   "metadata": {},
   "outputs": [],
   "source": [
    "import pandas as pd\n",
    "import numpy as np\n",
    "from scipy import stats\n",
    "from scipy import mean\n",
    "import matplotlib.pyplot as plt\n",
    "import seaborn as sns\n",
    "import math\n",
    "from statsmodels.stats.multicomp import pairwise_tukeyhsd"
   ]
  },
  {
   "cell_type": "code",
   "execution_count": 131,
   "metadata": {},
   "outputs": [
    {
     "data": {
      "image/png": "[encoded data removed]",
      "text/plain": [
       "<Figure size 432x288 with 1 Axes>"
      ]
     },
     "metadata": {
      "needs_background": "light"
     },
     "output_type": "display_data"
    },
    {
     "data": {
      "text/plain": [
       "Ttest_indResult(statistic=0.7723727293396122, pvalue=0.4499168261189712)"
      ]
     },
     "execution_count": 131,
     "metadata": {},
     "output_type": "execute_result"
    }
   ],
   "source": [
    "df = pd.DataFrame(data = { 'Group 1':[3,4,2,6,4,5,6,7,2,3,4,3,3,3,6,4,5,2,4,5,], \n",
    "                          'Group 2':[18,23,32,62,35,45,75,34,34,18,29,17,18,15,46,36,47,35,24,14]})\n",
    "\n",
    "\n",
    "\n",
    "\n",
    "Gender = []\n",
    "for i in range(len(df)):\n",
    "    x = np.random.randint(1,3)\n",
    "    if x == 1:\n",
    "        Gender.append('F')\n",
    "    else:\n",
    "        Gender.append('M')\n",
    "    \n",
    "Gender\n",
    "\n",
    "df['Gender'] = Gender\n",
    "plt.hist(df[(df.Gender=='M')]['Group 1'])\n",
    "plt.hist(df[(df.Gender=='F')]['Group 1'])\n",
    "\n",
    "plt.show()\n",
    "\n",
    "stats.ttest_ind(df[(df.Gender=='M')]['Group 1'], df[(df.Gender=='F')]['Group 1'])"
   ]
  },
  {
   "cell_type": "code",
   "execution_count": 132,
   "metadata": {},
   "outputs": [
    {
     "ename": "AttributeError",
     "evalue": "module 'numpy' has no attribute 'randn_skew'",
     "output_type": "error",
     "traceback": [
      "\u001b[0;31m---------------------------------------------------------------------------\u001b[0m",
      "\u001b[0;31mAttributeError\u001b[0m                            Traceback (most recent call last)",
      "\u001b[0;32m<ipython-input-132-ae905556cc5b>\u001b[0m in \u001b[0;36m<module>\u001b[0;34m\u001b[0m\n\u001b[1;32m      2\u001b[0m \u001b[0mnorm\u001b[0m\u001b[0;34m=\u001b[0m\u001b[0;34m[\u001b[0m\u001b[0;34m]\u001b[0m\u001b[0;34m\u001b[0m\u001b[0;34m\u001b[0m\u001b[0m\n\u001b[1;32m      3\u001b[0m \u001b[0;32mfor\u001b[0m \u001b[0mi\u001b[0m \u001b[0;32min\u001b[0m \u001b[0mrange\u001b[0m\u001b[0;34m(\u001b[0m\u001b[0;36m1000\u001b[0m\u001b[0;34m)\u001b[0m\u001b[0;34m:\u001b[0m\u001b[0;34m\u001b[0m\u001b[0;34m\u001b[0m\u001b[0m\n\u001b[0;32m----> 4\u001b[0;31m     \u001b[0mx\u001b[0m\u001b[0;34m=\u001b[0m\u001b[0mnp\u001b[0m\u001b[0;34m.\u001b[0m\u001b[0mrandn_skew\u001b[0m\u001b[0;34m(\u001b[0m\u001b[0;36m100\u001b[0m\u001b[0;34m,\u001b[0m \u001b[0mskew\u001b[0m\u001b[0;34m=\u001b[0m\u001b[0;36m0.2\u001b[0m\u001b[0;34m)\u001b[0m\u001b[0;34m\u001b[0m\u001b[0;34m\u001b[0m\u001b[0m\n\u001b[0m\u001b[1;32m      5\u001b[0m     \u001b[0mskew\u001b[0m\u001b[0;34m.\u001b[0m\u001b[0mappend\u001b[0m\u001b[0;34m(\u001b[0m\u001b[0mx\u001b[0m\u001b[0;34m)\u001b[0m\u001b[0;34m\u001b[0m\u001b[0;34m\u001b[0m\u001b[0m\n\u001b[1;32m      6\u001b[0m     \u001b[0my\u001b[0m\u001b[0;34m=\u001b[0m\u001b[0mnp\u001b[0m\u001b[0;34m.\u001b[0m\u001b[0mrandom\u001b[0m\u001b[0;34m.\u001b[0m\u001b[0mrandint\u001b[0m\u001b[0;34m(\u001b[0m\u001b[0;36m30\u001b[0m\u001b[0;34m,\u001b[0m \u001b[0;36m50\u001b[0m\u001b[0;34m)\u001b[0m\u001b[0;34m\u001b[0m\u001b[0;34m\u001b[0m\u001b[0m\n",
      "\u001b[0;32m~/miniconda3/lib/python3.7/site-packages/numpy/__init__.py\u001b[0m in \u001b[0;36m__getattr__\u001b[0;34m(attr)\u001b[0m\n\u001b[1;32m    218\u001b[0m             \u001b[0;32melse\u001b[0m\u001b[0;34m:\u001b[0m\u001b[0;34m\u001b[0m\u001b[0;34m\u001b[0m\u001b[0m\n\u001b[1;32m    219\u001b[0m                 raise AttributeError(\"module {!r} has no attribute \"\n\u001b[0;32m--> 220\u001b[0;31m                                      \"{!r}\".format(__name__, attr))\n\u001b[0m\u001b[1;32m    221\u001b[0m \u001b[0;34m\u001b[0m\u001b[0m\n\u001b[1;32m    222\u001b[0m         \u001b[0;32mdef\u001b[0m \u001b[0m__dir__\u001b[0m\u001b[0;34m(\u001b[0m\u001b[0;34m)\u001b[0m\u001b[0;34m:\u001b[0m\u001b[0;34m\u001b[0m\u001b[0;34m\u001b[0m\u001b[0m\n",
      "\u001b[0;31mAttributeError\u001b[0m: module 'numpy' has no attribute 'randn_skew'"
     ]
    }
   ],
   "source": [
    "skew=[]\n",
    "norm=[]\n",
    "for i in range(1000): \n",
    "    x=np.randn_skew(100, skew=0.2)\n",
    "    skew.append(x)\n",
    "    y=np.random.randint(30, 50)\n",
    "    norm.append(y)\n",
    "df2 = pd.DataFrame({'skewed':skew, 'normal':norm})\n",
    "\n",
    "s = 0.3\n",
    "Gender =  []\n",
    "for i in range(s*len(df2)):\n",
    "    m = [s*len(df2)]*'M'\n",
    "    Gender.append(m)\n",
    "for i in range((1-s)*len(df2)):\n",
    "    f = [(1-s)*len(df2)*'F']\n",
    "    Gender.append(f)\n",
    "    \n",
    "    \n",
    "shuffle(Gender)\n",
    "Gender\n",
    "\n",
    "df2['Gender'] = Gender\n",
    "plt.hist(df2[(df2.Gender=='M')]['Group 1'])\n",
    "plt.hist(df[(df2.Gender=='F')]['Group 1'])\n"
   ]
  },
  {
   "cell_type": "code",
   "execution_count": 133,
   "metadata": {},
   "outputs": [
    {
     "ename": "NameError",
     "evalue": "name 'randn_skew' is not defined",
     "output_type": "error",
     "traceback": [
      "\u001b[0;31m---------------------------------------------------------------------------\u001b[0m",
      "\u001b[0;31mNameError\u001b[0m                                 Traceback (most recent call last)",
      "\u001b[0;32m<ipython-input-133-362560e2e544>\u001b[0m in \u001b[0;36m<module>\u001b[0;34m\u001b[0m\n\u001b[0;32m----> 1\u001b[0;31m \u001b[0mx\u001b[0m \u001b[0;34m=\u001b[0m \u001b[0mrandn_skew\u001b[0m\u001b[0;34m(\u001b[0m\u001b[0;36m1000\u001b[0m\u001b[0;34m,\u001b[0m \u001b[0mskew\u001b[0m\u001b[0;34m=\u001b[0m\u001b[0;36m0.7\u001b[0m\u001b[0;34m)\u001b[0m\u001b[0;34m\u001b[0m\u001b[0;34m\u001b[0m\u001b[0m\n\u001b[0m",
      "\u001b[0;31mNameError\u001b[0m: name 'randn_skew' is not defined"
     ]
    }
   ],
   "source": [
    "x = randn_skew(1000, skew=0.7)"
   ]
  },
  {
   "cell_type": "code",
   "execution_count": 134,
   "metadata": {},
   "outputs": [
    {
     "name": "stdout",
     "output_type": "stream",
     "text": [
      "[1.0, 1.0, 1.0, 1.0, 1.0, 1.0, 1.0, 1.0, 1.0, 1.0, 1.0, 1.0, 1.0, 1.0, 1.0, 1.0, 1.0, 1.0, 1.0, 1.0, 1.0, 1.0, 1.0, 1.0, 1.0, 1.0, 1.0, 1.0, 1.0, 1.0, 1.0, 1.0, 1.0, 1.0, 1.0, 1.0, 1.0, 1.0, 1.0, 1.0, 1.0, 1.0, 1.0, 1.0, 1.0, 1.0, 1.0, 1.0, 1.0, 1.0, 1.0, 1.0, 1.0, 1.0, 1.0, 1.0, 1.0, 1.0, 1.0, 5.0, 5.0, 5.0, 5.0, 5.0, 5.0, 5.0, 5.0, 5.0, 5.0, 5.0, 5.0, 5.0, 5.0, 5.0, 5.0, 5.0, 5.0, 5.0, 5.0, 5.0, 5.0, 5.0, 5.0, 5.0, 5.0, 5.0, 5.0, 5.0, 5.0, 5.0, 5.0, 5.0, 5.0, 5.0, 5.0, 5.0, 5.0, 5.0, 5.0, 5.0]\n",
      "264.0\n",
      "[0.00378788 0.00378788 0.00378788 0.00378788 0.00378788 0.00378788\n",
      " 0.00378788 0.00378788 0.00378788 0.00378788 0.00378788 0.00378788\n",
      " 0.00378788 0.00378788 0.00378788 0.00378788 0.00378788 0.00378788\n",
      " 0.00378788 0.00378788 0.00378788 0.00378788 0.00378788 0.00378788\n",
      " 0.00378788 0.00378788 0.00378788 0.00378788 0.00378788 0.00378788\n",
      " 0.00378788 0.00378788 0.00378788 0.00378788 0.00378788 0.00378788\n",
      " 0.00378788 0.00378788 0.00378788 0.00378788 0.00378788 0.00378788\n",
      " 0.00378788 0.00378788 0.00378788 0.00378788 0.00378788 0.00378788\n",
      " 0.00378788 0.00378788 0.00378788 0.00378788 0.00378788 0.00378788\n",
      " 0.00378788 0.00378788 0.00378788 0.00378788 0.00378788 0.01893939\n",
      " 0.01893939 0.01893939 0.01893939 0.01893939 0.01893939 0.01893939\n",
      " 0.01893939 0.01893939 0.01893939 0.01893939 0.01893939 0.01893939\n",
      " 0.01893939 0.01893939 0.01893939 0.01893939 0.01893939 0.01893939\n",
      " 0.01893939 0.01893939 0.01893939 0.01893939 0.01893939 0.01893939\n",
      " 0.01893939 0.01893939 0.01893939 0.01893939 0.01893939 0.01893939\n",
      " 0.01893939 0.01893939 0.01893939 0.01893939 0.01893939 0.01893939\n",
      " 0.01893939 0.01893939 0.01893939 0.01893939]\n",
      "0.9999999999999998\n"
     ]
    }
   ],
   "source": [
    "pers = np.arange(1,101,1)\n",
    "\n",
    "# Make each of the last 41 elements 5x more likely\n",
    "prob = [1.0]*(len(pers)-41) + [5.0]*41\n",
    "prob\n",
    "print(prob)\n",
    "print(np.sum(prob))\n",
    "# Normalising to 1.0\n",
    "prob /= np.sum(prob)\n",
    "print(prob)\n",
    "print(np.sum(prob))\n",
    "#number = np.random.choice(pers, 1, p=prob)\n",
    "# print(number)\n",
    "# print(pers)\n",
    "# print(prob)"
   ]
  },
  {
   "cell_type": "code",
   "execution_count": 158,
   "metadata": {},
   "outputs": [
    {
     "data": {
      "text/plain": [
       "[3, 5]"
      ]
     },
     "execution_count": 158,
     "metadata": {},
     "output_type": "execute_result"
    }
   ],
   "source": [
    "list = [1,2,3,4,5,6,7,8]\n",
    "list[2:6][::2]\n"
   ]
  },
  {
   "cell_type": "markdown",
   "metadata": {},
   "source": [
    "### "
   ]
  }
 ],
 "metadata": {
  "kernelspec": {
   "display_name": "Python 3",
   "language": "python",
   "name": "python3"
  },
  "language_info": {
   "codemirror_mode": {
    "name": "ipython",
    "version": 3
   },
   "file_extension": ".py",
   "mimetype": "text/x-python",
   "name": "python",
   "nbconvert_exporter": "python",
   "pygments_lexer": "ipython3",
   "version": "3.7.4"
  }
 },
 "nbformat": 4,
 "nbformat_minor": 4
}
